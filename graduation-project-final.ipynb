{
 "cells": [
  {
   "cell_type": "markdown",
   "id": "0a6cf586",
   "metadata": {},
   "source": [
    "# Промышленность. Предсказание температуры сплава"
   ]
  },
  {
   "cell_type": "markdown",
   "id": "7940e7a2",
   "metadata": {},
   "source": [
    "Чтобы оптимизировать производственные расходы, металлургический комбинат «Стальная птица» решил уменьшить потребление электроэнергии на этапе обработки стали. Для этого комбинату нужно контролировать температуру сплава. \n",
    "\n",
    "***Задача:*** построить модель, которая будет её предсказывать. Заказчик хочет использовать разработанную модель для имитации технологического процесса.\n",
    "\n",
    "***Метрика для оценки качества:*** MAE < 6.8."
   ]
  },
  {
   "cell_type": "markdown",
   "id": "c38a2420",
   "metadata": {},
   "source": [
    "**Описание процесса обработки**"
   ]
  },
  {
   "cell_type": "markdown",
   "id": "7b629db7",
   "metadata": {},
   "source": [
    "Сталь обрабатывают в металлическом ковше вместимостью около 100 тонн. Чтобы ковш выдерживал высокие температуры, изнутри его облицовывают огнеупорным кирпичом. Расплавленную сталь заливают в ковш и подогревают до нужной температуры графитовыми электродами. Они установлены на крышке ковша.\n",
    "\n",
    "\n",
    "Сначала происходит десульфурация — из стали выводят серу и корректируют её химический состав добавлением примесей. Затем сталь легируют — добавляют в неё куски сплава из бункера для сыпучих материалов или порошковую проволоку через специальный трайб-аппарат.\n",
    "\n",
    "\n",
    "Прежде чем в первый раз ввести легирующие добавки, специалисты производят химический анализ стали и измеряют её температуру. Потом температуру на несколько минут повышают, уже после этого добавляют легирующие материалы и продувают сталь инертным газом, чтобы перемешать, а затем снова проводят измерения. Такой цикл повторяется до тех пор, пока не будут достигнуты нужный химический состав стали и оптимальная температура плавки.\n",
    "\n",
    "\n",
    "Дальше расплавленная сталь отправляется на доводку металла или поступает в машину непрерывной разливки. Оттуда готовый продукт выходит в виде заготовок-слябов."
   ]
  },
  {
   "cell_type": "markdown",
   "id": "8b0b7d91",
   "metadata": {},
   "source": [
    "**Описание данных**"
   ]
  },
  {
   "cell_type": "markdown",
   "id": "ff3af853",
   "metadata": {},
   "source": [
    "Данные хранятся в базе данных PostgreSQL. Она состоит из нескольких таблиц:\n",
    "\n",
    "- steel.data_arc — данные об электродах;\n",
    "- steel.data_bulk — данные об объёме сыпучих материалов;\n",
    "- steel.data_bulk_time — данные о времени подачи сыпучих материалов;\n",
    "- steel.data_gas — данные о продувке сплава газом;\n",
    "- steel.data_temp — данные об измерениях температуры;\n",
    "- steel.data_wire — данные об объёме проволочных материалов;\n",
    "- steel.data_wire_time — данные о времени подачи проволочных материалов.\n",
    "\n",
    "\n",
    "*Таблица steel.data_arc*\n",
    "\n",
    "- key — номер партии;\n",
    "- BeginHeat — время начала нагрева;\n",
    "- EndHeat — время окончания нагрева;\n",
    "- ActivePower — значение активной мощности;\n",
    "- ReactivePower — значение реактивной мощности.\n",
    "\n",
    "\n",
    "*Таблица steel.data_bulk*\n",
    "\n",
    "- key — номер партии;\n",
    "- Bulk1 … Bulk15 — объём подаваемого материала.\n",
    "\n",
    "\n",
    "*Таблица steel.data_bulk_time*\n",
    "\n",
    "- key — номер партии;\n",
    "- Bulk1 … Bulk15 — время подачи материала.\n",
    "\n",
    "\n",
    "*Таблица steel.data_gas*\n",
    "\n",
    "- key — номер партии;\n",
    "- gas — объём подаваемого газа.\n",
    "\n",
    "\n",
    "*Таблица steel.data_temp*\n",
    "\n",
    "- key — номер партии;\n",
    "- MesaureTime — время замера;\n",
    "- Temperature — значение температуры.\n",
    "\n",
    "\n",
    "*Таблица steel.data_wire*\n",
    "\n",
    "- key — номер партии;\n",
    "- Wire1 … Wire15 — объём подаваемых проволочных материалов.\n",
    "\n",
    "\n",
    "*Таблица steel.data_wire_time*\n",
    "\n",
    "- key — номер партии;\n",
    "- Wire1 … Wire15 — время подачи проволочных материалов.\n",
    "\n",
    "\n",
    "Во всех файлах столбец key содержит номер партии. В таблицах может быть несколько строк с одинаковым значением key: они соответствуют разным итерациям обработки."
   ]
  },
  {
   "cell_type": "markdown",
   "id": "08f84da7",
   "metadata": {},
   "source": [
    "## Загрузка данных"
   ]
  },
  {
   "cell_type": "code",
   "execution_count": 2,
   "id": "28e64e45-a4e1-4e3c-b259-9f7a7b1aec3e",
   "metadata": {},
   "outputs": [],
   "source": [
    "!pip install -q skorch"
   ]
  },
  {
   "cell_type": "code",
   "execution_count": 3,
   "id": "eb05631c",
   "metadata": {},
   "outputs": [],
   "source": [
    "from sqlalchemy import create_engine\n",
    "import pandas as pd \n",
    "import numpy as np\n",
    "from datetime import time \n",
    "import torch\n",
    "import torch.nn as nn\n",
    "from torch.utils.data import Dataset, DataLoader\n",
    "import seaborn as sns \n",
    "import matplotlib.pyplot as plt \n",
    "from sklearn.model_selection import train_test_split, RandomizedSearchCV, GridSearchCV \n",
    "from sklearn.ensemble import RandomForestRegressor \n",
    "from sklearn.metrics import SCORERS, mean_absolute_error, r2_score  \n",
    "from catboost import CatBoostRegressor \n",
    "from skorch.callbacks import EpochScoring, EarlyStopping\n",
    "from skorch import NeuralNetRegressor \n",
    "from skorch.dataset import ValidSplit"
   ]
  },
  {
   "cell_type": "code",
   "execution_count": 4,
   "id": "47f04671",
   "metadata": {},
   "outputs": [],
   "source": [
    "# подключение к базе данных\n",
    "db_config = {\n",
    "    'user': 'praktikum_student', # имя пользователя,\n",
    "    'pwd': 'Sdf4$2;d-d30pp', # пароль,\n",
    "    'host': 'rc1b-wcoijxj3yxfsf3fs.mdb.yandexcloud.net',\n",
    "    'port': 6432, # порт подключения,\n",
    "    'db': 'data-science-final' # название базы данных,\n",
    "} \n",
    "\n",
    "connection_string = 'postgresql://{}:{}@{}:{}/{}'.format(\n",
    "    db_config['user'],\n",
    "    db_config['pwd'],\n",
    "    db_config['host'],\n",
    "    db_config['port'],\n",
    "    db_config['db'],\n",
    ")\n",
    "\n",
    "engine = create_engine(connection_string) "
   ]
  },
  {
   "cell_type": "code",
   "execution_count": 5,
   "id": "d154f547",
   "metadata": {},
   "outputs": [],
   "source": [
    "# константа для рандома\n",
    "RANDOM_STATE = 190623"
   ]
  },
  {
   "cell_type": "code",
   "execution_count": 6,
   "id": "71752bca-a35a-4880-9def-82c72b3ba2dd",
   "metadata": {},
   "outputs": [],
   "source": [
    "if torch.cuda.is_available():\n",
    "    DEVICE    = 'cuda'   # для pytorch\n",
    "    TASK_TYPE = 'GPU'    # для catboost\n",
    "else:\n",
    "    DEVICE    = 'cpu'    # для pytorch\n",
    "    TASK_TYPE = 'CPU'    # для catboost"
   ]
  },
  {
   "cell_type": "markdown",
   "id": "d1c51125",
   "metadata": {},
   "source": [
    "## Исследовательский анализ и предобработка данных"
   ]
  },
  {
   "cell_type": "markdown",
   "id": "8696a584",
   "metadata": {},
   "source": [
    "### Проверка данных"
   ]
  },
  {
   "cell_type": "markdown",
   "id": "79480674",
   "metadata": {},
   "source": [
    "Проверим, все ли таблицы содержат данные и соответствует ли количество таблиц условию задачи."
   ]
  },
  {
   "cell_type": "code",
   "execution_count": 7,
   "id": "15cf04e5",
   "metadata": {},
   "outputs": [],
   "source": [
    "# данные об электродах\n",
    "query = '''\n",
    "SELECT *\n",
    "FROM steel.data_arc;\n",
    "'''\n",
    "\n",
    "data_arc = pd.read_sql_query(query, con=engine) "
   ]
  },
  {
   "cell_type": "code",
   "execution_count": 8,
   "id": "8a2cb334",
   "metadata": {},
   "outputs": [
    {
     "data": {
      "text/html": [
       "<div>\n",
       "<style scoped>\n",
       "    .dataframe tbody tr th:only-of-type {\n",
       "        vertical-align: middle;\n",
       "    }\n",
       "\n",
       "    .dataframe tbody tr th {\n",
       "        vertical-align: top;\n",
       "    }\n",
       "\n",
       "    .dataframe thead th {\n",
       "        text-align: right;\n",
       "    }\n",
       "</style>\n",
       "<table border=\"1\" class=\"dataframe\">\n",
       "  <thead>\n",
       "    <tr style=\"text-align: right;\">\n",
       "      <th></th>\n",
       "      <th>key</th>\n",
       "      <th>BeginHeat</th>\n",
       "      <th>EndHeat</th>\n",
       "      <th>ActivePower</th>\n",
       "      <th>ReactivePower</th>\n",
       "    </tr>\n",
       "  </thead>\n",
       "  <tbody>\n",
       "    <tr>\n",
       "      <th>0</th>\n",
       "      <td>1</td>\n",
       "      <td>11:02:14</td>\n",
       "      <td>11:06:02</td>\n",
       "      <td>0.976059</td>\n",
       "      <td>0.687084</td>\n",
       "    </tr>\n",
       "    <tr>\n",
       "      <th>1</th>\n",
       "      <td>1</td>\n",
       "      <td>11:07:28</td>\n",
       "      <td>11:10:33</td>\n",
       "      <td>0.805607</td>\n",
       "      <td>0.520285</td>\n",
       "    </tr>\n",
       "    <tr>\n",
       "      <th>2</th>\n",
       "      <td>1</td>\n",
       "      <td>11:11:44</td>\n",
       "      <td>11:14:36</td>\n",
       "      <td>0.744363</td>\n",
       "      <td>0.498805</td>\n",
       "    </tr>\n",
       "    <tr>\n",
       "      <th>3</th>\n",
       "      <td>1</td>\n",
       "      <td>11:18:14</td>\n",
       "      <td>11:24:19</td>\n",
       "      <td>1.659363</td>\n",
       "      <td>1.062669</td>\n",
       "    </tr>\n",
       "    <tr>\n",
       "      <th>4</th>\n",
       "      <td>1</td>\n",
       "      <td>11:26:09</td>\n",
       "      <td>11:28:37</td>\n",
       "      <td>0.692755</td>\n",
       "      <td>0.414397</td>\n",
       "    </tr>\n",
       "  </tbody>\n",
       "</table>\n",
       "</div>"
      ],
      "text/plain": [
       "   key BeginHeat   EndHeat  ActivePower  ReactivePower\n",
       "0    1  11:02:14  11:06:02     0.976059       0.687084\n",
       "1    1  11:07:28  11:10:33     0.805607       0.520285\n",
       "2    1  11:11:44  11:14:36     0.744363       0.498805\n",
       "3    1  11:18:14  11:24:19     1.659363       1.062669\n",
       "4    1  11:26:09  11:28:37     0.692755       0.414397"
      ]
     },
     "execution_count": 8,
     "metadata": {},
     "output_type": "execute_result"
    }
   ],
   "source": [
    "data_arc.head()"
   ]
  },
  {
   "cell_type": "code",
   "execution_count": 9,
   "id": "72b70817",
   "metadata": {},
   "outputs": [
    {
     "name": "stdout",
     "output_type": "stream",
     "text": [
      "<class 'pandas.core.frame.DataFrame'>\n",
      "RangeIndex: 14876 entries, 0 to 14875\n",
      "Data columns (total 5 columns):\n",
      " #   Column         Non-Null Count  Dtype  \n",
      "---  ------         --------------  -----  \n",
      " 0   key            14876 non-null  int64  \n",
      " 1   BeginHeat      14876 non-null  object \n",
      " 2   EndHeat        14876 non-null  object \n",
      " 3   ActivePower    14876 non-null  float64\n",
      " 4   ReactivePower  14876 non-null  float64\n",
      "dtypes: float64(2), int64(1), object(2)\n",
      "memory usage: 581.2+ KB\n"
     ]
    }
   ],
   "source": [
    "data_arc.info()"
   ]
  },
  {
   "cell_type": "code",
   "execution_count": 10,
   "id": "fc72e2d9",
   "metadata": {},
   "outputs": [],
   "source": [
    "# данные об объёме сыпучих материалов\n",
    "query = '''\n",
    "SELECT *\n",
    "FROM steel.data_bulk;\n",
    "'''\n",
    "\n",
    "data_bulk = pd.read_sql_query(query, con=engine) "
   ]
  },
  {
   "cell_type": "code",
   "execution_count": 11,
   "id": "e9dffead",
   "metadata": {},
   "outputs": [
    {
     "data": {
      "text/html": [
       "<div>\n",
       "<style scoped>\n",
       "    .dataframe tbody tr th:only-of-type {\n",
       "        vertical-align: middle;\n",
       "    }\n",
       "\n",
       "    .dataframe tbody tr th {\n",
       "        vertical-align: top;\n",
       "    }\n",
       "\n",
       "    .dataframe thead th {\n",
       "        text-align: right;\n",
       "    }\n",
       "</style>\n",
       "<table border=\"1\" class=\"dataframe\">\n",
       "  <thead>\n",
       "    <tr style=\"text-align: right;\">\n",
       "      <th></th>\n",
       "      <th>key</th>\n",
       "      <th>Bulk 1</th>\n",
       "      <th>Bulk 2</th>\n",
       "      <th>Bulk 3</th>\n",
       "      <th>Bulk 4</th>\n",
       "      <th>Bulk 5</th>\n",
       "      <th>Bulk 6</th>\n",
       "      <th>Bulk 7</th>\n",
       "      <th>Bulk 8</th>\n",
       "      <th>Bulk 9</th>\n",
       "      <th>Bulk 10</th>\n",
       "      <th>Bulk 11</th>\n",
       "      <th>Bulk 12</th>\n",
       "      <th>Bulk 13</th>\n",
       "      <th>Bulk 14</th>\n",
       "      <th>Bulk 15</th>\n",
       "    </tr>\n",
       "  </thead>\n",
       "  <tbody>\n",
       "    <tr>\n",
       "      <th>0</th>\n",
       "      <td>1</td>\n",
       "      <td>NaN</td>\n",
       "      <td>NaN</td>\n",
       "      <td>NaN</td>\n",
       "      <td>43.0</td>\n",
       "      <td>NaN</td>\n",
       "      <td>NaN</td>\n",
       "      <td>NaN</td>\n",
       "      <td>NaN</td>\n",
       "      <td>NaN</td>\n",
       "      <td>NaN</td>\n",
       "      <td>NaN</td>\n",
       "      <td>206.0</td>\n",
       "      <td>NaN</td>\n",
       "      <td>150.0</td>\n",
       "      <td>154.0</td>\n",
       "    </tr>\n",
       "    <tr>\n",
       "      <th>1</th>\n",
       "      <td>2</td>\n",
       "      <td>NaN</td>\n",
       "      <td>NaN</td>\n",
       "      <td>NaN</td>\n",
       "      <td>73.0</td>\n",
       "      <td>NaN</td>\n",
       "      <td>NaN</td>\n",
       "      <td>NaN</td>\n",
       "      <td>NaN</td>\n",
       "      <td>NaN</td>\n",
       "      <td>NaN</td>\n",
       "      <td>NaN</td>\n",
       "      <td>206.0</td>\n",
       "      <td>NaN</td>\n",
       "      <td>149.0</td>\n",
       "      <td>154.0</td>\n",
       "    </tr>\n",
       "    <tr>\n",
       "      <th>2</th>\n",
       "      <td>3</td>\n",
       "      <td>NaN</td>\n",
       "      <td>NaN</td>\n",
       "      <td>NaN</td>\n",
       "      <td>34.0</td>\n",
       "      <td>NaN</td>\n",
       "      <td>NaN</td>\n",
       "      <td>NaN</td>\n",
       "      <td>NaN</td>\n",
       "      <td>NaN</td>\n",
       "      <td>NaN</td>\n",
       "      <td>NaN</td>\n",
       "      <td>205.0</td>\n",
       "      <td>NaN</td>\n",
       "      <td>152.0</td>\n",
       "      <td>153.0</td>\n",
       "    </tr>\n",
       "    <tr>\n",
       "      <th>3</th>\n",
       "      <td>4</td>\n",
       "      <td>NaN</td>\n",
       "      <td>NaN</td>\n",
       "      <td>NaN</td>\n",
       "      <td>81.0</td>\n",
       "      <td>NaN</td>\n",
       "      <td>NaN</td>\n",
       "      <td>NaN</td>\n",
       "      <td>NaN</td>\n",
       "      <td>NaN</td>\n",
       "      <td>NaN</td>\n",
       "      <td>NaN</td>\n",
       "      <td>207.0</td>\n",
       "      <td>NaN</td>\n",
       "      <td>153.0</td>\n",
       "      <td>154.0</td>\n",
       "    </tr>\n",
       "    <tr>\n",
       "      <th>4</th>\n",
       "      <td>5</td>\n",
       "      <td>NaN</td>\n",
       "      <td>NaN</td>\n",
       "      <td>NaN</td>\n",
       "      <td>78.0</td>\n",
       "      <td>NaN</td>\n",
       "      <td>NaN</td>\n",
       "      <td>NaN</td>\n",
       "      <td>NaN</td>\n",
       "      <td>NaN</td>\n",
       "      <td>NaN</td>\n",
       "      <td>NaN</td>\n",
       "      <td>203.0</td>\n",
       "      <td>NaN</td>\n",
       "      <td>151.0</td>\n",
       "      <td>152.0</td>\n",
       "    </tr>\n",
       "  </tbody>\n",
       "</table>\n",
       "</div>"
      ],
      "text/plain": [
       "   key  Bulk 1  Bulk 2  Bulk 3  Bulk 4  Bulk 5  Bulk 6  Bulk 7  Bulk 8  \\\n",
       "0    1     NaN     NaN     NaN    43.0     NaN     NaN     NaN     NaN   \n",
       "1    2     NaN     NaN     NaN    73.0     NaN     NaN     NaN     NaN   \n",
       "2    3     NaN     NaN     NaN    34.0     NaN     NaN     NaN     NaN   \n",
       "3    4     NaN     NaN     NaN    81.0     NaN     NaN     NaN     NaN   \n",
       "4    5     NaN     NaN     NaN    78.0     NaN     NaN     NaN     NaN   \n",
       "\n",
       "   Bulk 9  Bulk 10  Bulk 11  Bulk 12  Bulk 13  Bulk 14  Bulk 15  \n",
       "0     NaN      NaN      NaN    206.0      NaN    150.0    154.0  \n",
       "1     NaN      NaN      NaN    206.0      NaN    149.0    154.0  \n",
       "2     NaN      NaN      NaN    205.0      NaN    152.0    153.0  \n",
       "3     NaN      NaN      NaN    207.0      NaN    153.0    154.0  \n",
       "4     NaN      NaN      NaN    203.0      NaN    151.0    152.0  "
      ]
     },
     "execution_count": 11,
     "metadata": {},
     "output_type": "execute_result"
    }
   ],
   "source": [
    "data_bulk.head()"
   ]
  },
  {
   "cell_type": "code",
   "execution_count": 12,
   "id": "474e48f0",
   "metadata": {},
   "outputs": [
    {
     "name": "stdout",
     "output_type": "stream",
     "text": [
      "<class 'pandas.core.frame.DataFrame'>\n",
      "RangeIndex: 3129 entries, 0 to 3128\n",
      "Data columns (total 16 columns):\n",
      " #   Column   Non-Null Count  Dtype  \n",
      "---  ------   --------------  -----  \n",
      " 0   key      3129 non-null   int64  \n",
      " 1   Bulk 1   252 non-null    float64\n",
      " 2   Bulk 2   22 non-null     float64\n",
      " 3   Bulk 3   1298 non-null   float64\n",
      " 4   Bulk 4   1014 non-null   float64\n",
      " 5   Bulk 5   77 non-null     float64\n",
      " 6   Bulk 6   576 non-null    float64\n",
      " 7   Bulk 7   25 non-null     float64\n",
      " 8   Bulk 8   1 non-null      float64\n",
      " 9   Bulk 9   19 non-null     float64\n",
      " 10  Bulk 10  176 non-null    float64\n",
      " 11  Bulk 11  177 non-null    float64\n",
      " 12  Bulk 12  2450 non-null   float64\n",
      " 13  Bulk 13  18 non-null     float64\n",
      " 14  Bulk 14  2806 non-null   float64\n",
      " 15  Bulk 15  2248 non-null   float64\n",
      "dtypes: float64(15), int64(1)\n",
      "memory usage: 391.2 KB\n"
     ]
    }
   ],
   "source": [
    "data_bulk.info()"
   ]
  },
  {
   "cell_type": "markdown",
   "id": "35b5a9d6",
   "metadata": {},
   "source": [
    "Здесь данные есть не во всех столбцах. Одна итерация соответствует одному из значений объёма подаваемого материала. "
   ]
  },
  {
   "cell_type": "code",
   "execution_count": 13,
   "id": "5cdf49ae",
   "metadata": {},
   "outputs": [],
   "source": [
    "# данные о времени подачи сыпучих материалов\n",
    "query = '''\n",
    "SELECT *\n",
    "FROM steel.data_bulk_time;\n",
    "'''\n",
    "\n",
    "data_bulk_time = pd.read_sql_query(query, con=engine) "
   ]
  },
  {
   "cell_type": "code",
   "execution_count": 14,
   "id": "a103d5f7",
   "metadata": {},
   "outputs": [
    {
     "data": {
      "text/html": [
       "<div>\n",
       "<style scoped>\n",
       "    .dataframe tbody tr th:only-of-type {\n",
       "        vertical-align: middle;\n",
       "    }\n",
       "\n",
       "    .dataframe tbody tr th {\n",
       "        vertical-align: top;\n",
       "    }\n",
       "\n",
       "    .dataframe thead th {\n",
       "        text-align: right;\n",
       "    }\n",
       "</style>\n",
       "<table border=\"1\" class=\"dataframe\">\n",
       "  <thead>\n",
       "    <tr style=\"text-align: right;\">\n",
       "      <th></th>\n",
       "      <th>key</th>\n",
       "      <th>Bulk 1</th>\n",
       "      <th>Bulk 2</th>\n",
       "      <th>Bulk 3</th>\n",
       "      <th>Bulk 4</th>\n",
       "      <th>Bulk 5</th>\n",
       "      <th>Bulk 6</th>\n",
       "      <th>Bulk 7</th>\n",
       "      <th>Bulk 8</th>\n",
       "      <th>Bulk 9</th>\n",
       "      <th>Bulk 10</th>\n",
       "      <th>Bulk 11</th>\n",
       "      <th>Bulk 12</th>\n",
       "      <th>Bulk 13</th>\n",
       "      <th>Bulk 14</th>\n",
       "      <th>Bulk 15</th>\n",
       "    </tr>\n",
       "  </thead>\n",
       "  <tbody>\n",
       "    <tr>\n",
       "      <th>0</th>\n",
       "      <td>1</td>\n",
       "      <td>None</td>\n",
       "      <td>None</td>\n",
       "      <td>None</td>\n",
       "      <td>11:21:30</td>\n",
       "      <td>None</td>\n",
       "      <td>None</td>\n",
       "      <td>None</td>\n",
       "      <td>None</td>\n",
       "      <td>None</td>\n",
       "      <td>None</td>\n",
       "      <td>None</td>\n",
       "      <td>11:03:52</td>\n",
       "      <td>None</td>\n",
       "      <td>11:03:52</td>\n",
       "      <td>11:03:52</td>\n",
       "    </tr>\n",
       "    <tr>\n",
       "      <th>1</th>\n",
       "      <td>2</td>\n",
       "      <td>None</td>\n",
       "      <td>None</td>\n",
       "      <td>None</td>\n",
       "      <td>11:46:38</td>\n",
       "      <td>None</td>\n",
       "      <td>None</td>\n",
       "      <td>None</td>\n",
       "      <td>None</td>\n",
       "      <td>None</td>\n",
       "      <td>None</td>\n",
       "      <td>None</td>\n",
       "      <td>11:40:20</td>\n",
       "      <td>None</td>\n",
       "      <td>11:40:20</td>\n",
       "      <td>11:40:20</td>\n",
       "    </tr>\n",
       "    <tr>\n",
       "      <th>2</th>\n",
       "      <td>3</td>\n",
       "      <td>None</td>\n",
       "      <td>None</td>\n",
       "      <td>None</td>\n",
       "      <td>12:31:06</td>\n",
       "      <td>None</td>\n",
       "      <td>None</td>\n",
       "      <td>None</td>\n",
       "      <td>None</td>\n",
       "      <td>None</td>\n",
       "      <td>None</td>\n",
       "      <td>None</td>\n",
       "      <td>12:09:40</td>\n",
       "      <td>None</td>\n",
       "      <td>12:09:40</td>\n",
       "      <td>12:09:40</td>\n",
       "    </tr>\n",
       "    <tr>\n",
       "      <th>3</th>\n",
       "      <td>4</td>\n",
       "      <td>None</td>\n",
       "      <td>None</td>\n",
       "      <td>None</td>\n",
       "      <td>12:48:43</td>\n",
       "      <td>None</td>\n",
       "      <td>None</td>\n",
       "      <td>None</td>\n",
       "      <td>None</td>\n",
       "      <td>None</td>\n",
       "      <td>None</td>\n",
       "      <td>None</td>\n",
       "      <td>12:41:24</td>\n",
       "      <td>None</td>\n",
       "      <td>12:41:24</td>\n",
       "      <td>12:41:24</td>\n",
       "    </tr>\n",
       "    <tr>\n",
       "      <th>4</th>\n",
       "      <td>5</td>\n",
       "      <td>None</td>\n",
       "      <td>None</td>\n",
       "      <td>None</td>\n",
       "      <td>13:18:50</td>\n",
       "      <td>None</td>\n",
       "      <td>None</td>\n",
       "      <td>None</td>\n",
       "      <td>None</td>\n",
       "      <td>None</td>\n",
       "      <td>None</td>\n",
       "      <td>None</td>\n",
       "      <td>13:12:56</td>\n",
       "      <td>None</td>\n",
       "      <td>13:12:56</td>\n",
       "      <td>13:12:56</td>\n",
       "    </tr>\n",
       "  </tbody>\n",
       "</table>\n",
       "</div>"
      ],
      "text/plain": [
       "   key Bulk 1 Bulk 2 Bulk 3    Bulk 4 Bulk 5 Bulk 6 Bulk 7 Bulk 8 Bulk 9  \\\n",
       "0    1   None   None   None  11:21:30   None   None   None   None   None   \n",
       "1    2   None   None   None  11:46:38   None   None   None   None   None   \n",
       "2    3   None   None   None  12:31:06   None   None   None   None   None   \n",
       "3    4   None   None   None  12:48:43   None   None   None   None   None   \n",
       "4    5   None   None   None  13:18:50   None   None   None   None   None   \n",
       "\n",
       "  Bulk 10 Bulk 11   Bulk 12 Bulk 13   Bulk 14   Bulk 15  \n",
       "0    None    None  11:03:52    None  11:03:52  11:03:52  \n",
       "1    None    None  11:40:20    None  11:40:20  11:40:20  \n",
       "2    None    None  12:09:40    None  12:09:40  12:09:40  \n",
       "3    None    None  12:41:24    None  12:41:24  12:41:24  \n",
       "4    None    None  13:12:56    None  13:12:56  13:12:56  "
      ]
     },
     "execution_count": 14,
     "metadata": {},
     "output_type": "execute_result"
    }
   ],
   "source": [
    "data_bulk_time.head()"
   ]
  },
  {
   "cell_type": "code",
   "execution_count": 15,
   "id": "6f9d3ea7",
   "metadata": {},
   "outputs": [
    {
     "name": "stdout",
     "output_type": "stream",
     "text": [
      "<class 'pandas.core.frame.DataFrame'>\n",
      "RangeIndex: 3129 entries, 0 to 3128\n",
      "Data columns (total 16 columns):\n",
      " #   Column   Non-Null Count  Dtype \n",
      "---  ------   --------------  ----- \n",
      " 0   key      3129 non-null   int64 \n",
      " 1   Bulk 1   252 non-null    object\n",
      " 2   Bulk 2   22 non-null     object\n",
      " 3   Bulk 3   1298 non-null   object\n",
      " 4   Bulk 4   1014 non-null   object\n",
      " 5   Bulk 5   77 non-null     object\n",
      " 6   Bulk 6   576 non-null    object\n",
      " 7   Bulk 7   25 non-null     object\n",
      " 8   Bulk 8   1 non-null      object\n",
      " 9   Bulk 9   19 non-null     object\n",
      " 10  Bulk 10  176 non-null    object\n",
      " 11  Bulk 11  177 non-null    object\n",
      " 12  Bulk 12  2450 non-null   object\n",
      " 13  Bulk 13  18 non-null     object\n",
      " 14  Bulk 14  2806 non-null   object\n",
      " 15  Bulk 15  2248 non-null   object\n",
      "dtypes: int64(1), object(15)\n",
      "memory usage: 391.2+ KB\n"
     ]
    }
   ],
   "source": [
    "data_bulk_time.info()"
   ]
  },
  {
   "cell_type": "markdown",
   "id": "9bca6c86",
   "metadata": {},
   "source": [
    "Пропуски в колонках соответствуют пропускам из предыдущей таблицы, как и должно быть."
   ]
  },
  {
   "cell_type": "code",
   "execution_count": 16,
   "id": "1c41f308",
   "metadata": {},
   "outputs": [],
   "source": [
    "# данные о продувке сплава газом\n",
    "query = '''\n",
    "SELECT *\n",
    "FROM steel.data_gas;\n",
    "'''\n",
    "\n",
    "data_gas = pd.read_sql_query(query, con=engine) "
   ]
  },
  {
   "cell_type": "code",
   "execution_count": 17,
   "id": "d20b6f66",
   "metadata": {},
   "outputs": [
    {
     "data": {
      "text/html": [
       "<div>\n",
       "<style scoped>\n",
       "    .dataframe tbody tr th:only-of-type {\n",
       "        vertical-align: middle;\n",
       "    }\n",
       "\n",
       "    .dataframe tbody tr th {\n",
       "        vertical-align: top;\n",
       "    }\n",
       "\n",
       "    .dataframe thead th {\n",
       "        text-align: right;\n",
       "    }\n",
       "</style>\n",
       "<table border=\"1\" class=\"dataframe\">\n",
       "  <thead>\n",
       "    <tr style=\"text-align: right;\">\n",
       "      <th></th>\n",
       "      <th>key</th>\n",
       "      <th>gas</th>\n",
       "    </tr>\n",
       "  </thead>\n",
       "  <tbody>\n",
       "    <tr>\n",
       "      <th>0</th>\n",
       "      <td>1</td>\n",
       "      <td>29.749986</td>\n",
       "    </tr>\n",
       "    <tr>\n",
       "      <th>1</th>\n",
       "      <td>2</td>\n",
       "      <td>12.555561</td>\n",
       "    </tr>\n",
       "    <tr>\n",
       "      <th>2</th>\n",
       "      <td>3</td>\n",
       "      <td>28.554793</td>\n",
       "    </tr>\n",
       "    <tr>\n",
       "      <th>3</th>\n",
       "      <td>4</td>\n",
       "      <td>18.841219</td>\n",
       "    </tr>\n",
       "    <tr>\n",
       "      <th>4</th>\n",
       "      <td>5</td>\n",
       "      <td>5.413692</td>\n",
       "    </tr>\n",
       "  </tbody>\n",
       "</table>\n",
       "</div>"
      ],
      "text/plain": [
       "   key        gas\n",
       "0    1  29.749986\n",
       "1    2  12.555561\n",
       "2    3  28.554793\n",
       "3    4  18.841219\n",
       "4    5   5.413692"
      ]
     },
     "execution_count": 17,
     "metadata": {},
     "output_type": "execute_result"
    }
   ],
   "source": [
    "data_gas.head()"
   ]
  },
  {
   "cell_type": "code",
   "execution_count": 18,
   "id": "929ec57d",
   "metadata": {},
   "outputs": [
    {
     "name": "stdout",
     "output_type": "stream",
     "text": [
      "<class 'pandas.core.frame.DataFrame'>\n",
      "RangeIndex: 3239 entries, 0 to 3238\n",
      "Data columns (total 2 columns):\n",
      " #   Column  Non-Null Count  Dtype  \n",
      "---  ------  --------------  -----  \n",
      " 0   key     3239 non-null   int64  \n",
      " 1   gas     3239 non-null   float64\n",
      "dtypes: float64(1), int64(1)\n",
      "memory usage: 50.7 KB\n"
     ]
    }
   ],
   "source": [
    "data_gas.info()"
   ]
  },
  {
   "cell_type": "code",
   "execution_count": 19,
   "id": "5449076a",
   "metadata": {},
   "outputs": [],
   "source": [
    "#  данные об измерениях температуры\n",
    "query = '''\n",
    "SELECT *\n",
    "FROM steel.data_temp;\n",
    "'''\n",
    "\n",
    "data_temp = pd.read_sql_query(query, con=engine) "
   ]
  },
  {
   "cell_type": "code",
   "execution_count": 20,
   "id": "f15ed98a",
   "metadata": {},
   "outputs": [
    {
     "data": {
      "text/html": [
       "<div>\n",
       "<style scoped>\n",
       "    .dataframe tbody tr th:only-of-type {\n",
       "        vertical-align: middle;\n",
       "    }\n",
       "\n",
       "    .dataframe tbody tr th {\n",
       "        vertical-align: top;\n",
       "    }\n",
       "\n",
       "    .dataframe thead th {\n",
       "        text-align: right;\n",
       "    }\n",
       "</style>\n",
       "<table border=\"1\" class=\"dataframe\">\n",
       "  <thead>\n",
       "    <tr style=\"text-align: right;\">\n",
       "      <th></th>\n",
       "      <th>key</th>\n",
       "      <th>MesaureTime</th>\n",
       "      <th>Temperature</th>\n",
       "    </tr>\n",
       "  </thead>\n",
       "  <tbody>\n",
       "    <tr>\n",
       "      <th>0</th>\n",
       "      <td>1</td>\n",
       "      <td>11:16:18</td>\n",
       "      <td>1571.0</td>\n",
       "    </tr>\n",
       "    <tr>\n",
       "      <th>1</th>\n",
       "      <td>1</td>\n",
       "      <td>11:25:53</td>\n",
       "      <td>1604.0</td>\n",
       "    </tr>\n",
       "    <tr>\n",
       "      <th>2</th>\n",
       "      <td>1</td>\n",
       "      <td>11:29:11</td>\n",
       "      <td>1618.0</td>\n",
       "    </tr>\n",
       "    <tr>\n",
       "      <th>3</th>\n",
       "      <td>1</td>\n",
       "      <td>11:30:01</td>\n",
       "      <td>1601.0</td>\n",
       "    </tr>\n",
       "    <tr>\n",
       "      <th>4</th>\n",
       "      <td>1</td>\n",
       "      <td>11:30:39</td>\n",
       "      <td>1613.0</td>\n",
       "    </tr>\n",
       "  </tbody>\n",
       "</table>\n",
       "</div>"
      ],
      "text/plain": [
       "   key MesaureTime  Temperature\n",
       "0    1    11:16:18       1571.0\n",
       "1    1    11:25:53       1604.0\n",
       "2    1    11:29:11       1618.0\n",
       "3    1    11:30:01       1601.0\n",
       "4    1    11:30:39       1613.0"
      ]
     },
     "execution_count": 20,
     "metadata": {},
     "output_type": "execute_result"
    }
   ],
   "source": [
    "data_temp.head()"
   ]
  },
  {
   "cell_type": "code",
   "execution_count": 21,
   "id": "506e20bb",
   "metadata": {},
   "outputs": [
    {
     "name": "stdout",
     "output_type": "stream",
     "text": [
      "<class 'pandas.core.frame.DataFrame'>\n",
      "RangeIndex: 15907 entries, 0 to 15906\n",
      "Data columns (total 3 columns):\n",
      " #   Column       Non-Null Count  Dtype  \n",
      "---  ------       --------------  -----  \n",
      " 0   key          15907 non-null  int64  \n",
      " 1   MesaureTime  15907 non-null  object \n",
      " 2   Temperature  13006 non-null  float64\n",
      "dtypes: float64(1), int64(1), object(1)\n",
      "memory usage: 372.9+ KB\n"
     ]
    }
   ],
   "source": [
    "data_temp.info()"
   ]
  },
  {
   "cell_type": "markdown",
   "id": "0d481c84",
   "metadata": {},
   "source": [
    "Здесь не хватает данных о значении температуры."
   ]
  },
  {
   "cell_type": "code",
   "execution_count": 22,
   "id": "da99d125",
   "metadata": {},
   "outputs": [],
   "source": [
    "# данные об объёме проволочных материалов\n",
    "query = '''\n",
    "SELECT *\n",
    "FROM steel.data_wire;\n",
    "'''\n",
    "\n",
    "data_wire = pd.read_sql_query(query, con=engine) "
   ]
  },
  {
   "cell_type": "code",
   "execution_count": 23,
   "id": "bd967d70",
   "metadata": {},
   "outputs": [
    {
     "data": {
      "text/html": [
       "<div>\n",
       "<style scoped>\n",
       "    .dataframe tbody tr th:only-of-type {\n",
       "        vertical-align: middle;\n",
       "    }\n",
       "\n",
       "    .dataframe tbody tr th {\n",
       "        vertical-align: top;\n",
       "    }\n",
       "\n",
       "    .dataframe thead th {\n",
       "        text-align: right;\n",
       "    }\n",
       "</style>\n",
       "<table border=\"1\" class=\"dataframe\">\n",
       "  <thead>\n",
       "    <tr style=\"text-align: right;\">\n",
       "      <th></th>\n",
       "      <th>key</th>\n",
       "      <th>Wire 1</th>\n",
       "      <th>Wire 2</th>\n",
       "      <th>Wire 3</th>\n",
       "      <th>Wire 4</th>\n",
       "      <th>Wire 5</th>\n",
       "      <th>Wire 6</th>\n",
       "      <th>Wire 7</th>\n",
       "      <th>Wire 8</th>\n",
       "      <th>Wire 9</th>\n",
       "    </tr>\n",
       "  </thead>\n",
       "  <tbody>\n",
       "    <tr>\n",
       "      <th>0</th>\n",
       "      <td>1</td>\n",
       "      <td>60.059998</td>\n",
       "      <td>NaN</td>\n",
       "      <td>NaN</td>\n",
       "      <td>NaN</td>\n",
       "      <td>NaN</td>\n",
       "      <td>NaN</td>\n",
       "      <td>NaN</td>\n",
       "      <td>NaN</td>\n",
       "      <td>NaN</td>\n",
       "    </tr>\n",
       "    <tr>\n",
       "      <th>1</th>\n",
       "      <td>2</td>\n",
       "      <td>96.052315</td>\n",
       "      <td>NaN</td>\n",
       "      <td>NaN</td>\n",
       "      <td>NaN</td>\n",
       "      <td>NaN</td>\n",
       "      <td>NaN</td>\n",
       "      <td>NaN</td>\n",
       "      <td>NaN</td>\n",
       "      <td>NaN</td>\n",
       "    </tr>\n",
       "    <tr>\n",
       "      <th>2</th>\n",
       "      <td>3</td>\n",
       "      <td>91.160157</td>\n",
       "      <td>NaN</td>\n",
       "      <td>NaN</td>\n",
       "      <td>NaN</td>\n",
       "      <td>NaN</td>\n",
       "      <td>NaN</td>\n",
       "      <td>NaN</td>\n",
       "      <td>NaN</td>\n",
       "      <td>NaN</td>\n",
       "    </tr>\n",
       "    <tr>\n",
       "      <th>3</th>\n",
       "      <td>4</td>\n",
       "      <td>89.063515</td>\n",
       "      <td>NaN</td>\n",
       "      <td>NaN</td>\n",
       "      <td>NaN</td>\n",
       "      <td>NaN</td>\n",
       "      <td>NaN</td>\n",
       "      <td>NaN</td>\n",
       "      <td>NaN</td>\n",
       "      <td>NaN</td>\n",
       "    </tr>\n",
       "    <tr>\n",
       "      <th>4</th>\n",
       "      <td>5</td>\n",
       "      <td>89.238236</td>\n",
       "      <td>9.11456</td>\n",
       "      <td>NaN</td>\n",
       "      <td>NaN</td>\n",
       "      <td>NaN</td>\n",
       "      <td>NaN</td>\n",
       "      <td>NaN</td>\n",
       "      <td>NaN</td>\n",
       "      <td>NaN</td>\n",
       "    </tr>\n",
       "  </tbody>\n",
       "</table>\n",
       "</div>"
      ],
      "text/plain": [
       "   key     Wire 1   Wire 2  Wire 3  Wire 4  Wire 5  Wire 6  Wire 7  Wire 8  \\\n",
       "0    1  60.059998      NaN     NaN     NaN     NaN     NaN     NaN     NaN   \n",
       "1    2  96.052315      NaN     NaN     NaN     NaN     NaN     NaN     NaN   \n",
       "2    3  91.160157      NaN     NaN     NaN     NaN     NaN     NaN     NaN   \n",
       "3    4  89.063515      NaN     NaN     NaN     NaN     NaN     NaN     NaN   \n",
       "4    5  89.238236  9.11456     NaN     NaN     NaN     NaN     NaN     NaN   \n",
       "\n",
       "   Wire 9  \n",
       "0     NaN  \n",
       "1     NaN  \n",
       "2     NaN  \n",
       "3     NaN  \n",
       "4     NaN  "
      ]
     },
     "execution_count": 23,
     "metadata": {},
     "output_type": "execute_result"
    }
   ],
   "source": [
    "data_wire.head() "
   ]
  },
  {
   "cell_type": "code",
   "execution_count": 24,
   "id": "6578f0f9",
   "metadata": {},
   "outputs": [
    {
     "name": "stdout",
     "output_type": "stream",
     "text": [
      "<class 'pandas.core.frame.DataFrame'>\n",
      "RangeIndex: 3081 entries, 0 to 3080\n",
      "Data columns (total 10 columns):\n",
      " #   Column  Non-Null Count  Dtype  \n",
      "---  ------  --------------  -----  \n",
      " 0   key     3081 non-null   int64  \n",
      " 1   Wire 1  3055 non-null   float64\n",
      " 2   Wire 2  1079 non-null   float64\n",
      " 3   Wire 3  63 non-null     float64\n",
      " 4   Wire 4  14 non-null     float64\n",
      " 5   Wire 5  1 non-null      float64\n",
      " 6   Wire 6  73 non-null     float64\n",
      " 7   Wire 7  11 non-null     float64\n",
      " 8   Wire 8  19 non-null     float64\n",
      " 9   Wire 9  29 non-null     float64\n",
      "dtypes: float64(9), int64(1)\n",
      "memory usage: 240.8 KB\n"
     ]
    }
   ],
   "source": [
    "data_wire.info()"
   ]
  },
  {
   "cell_type": "markdown",
   "id": "7b8dff7a",
   "metadata": {},
   "source": [
    "Здесь, видимо, в скольких итерациях подавались проволочные материалы, в стольких колонках и есть данные по каждой строке."
   ]
  },
  {
   "cell_type": "code",
   "execution_count": 25,
   "id": "a07ca00e",
   "metadata": {},
   "outputs": [],
   "source": [
    "# данные о времени подачи проволочных материалов\n",
    "query = '''\n",
    "SELECT *\n",
    "FROM steel.data_wire_time;\n",
    "'''\n",
    "\n",
    "data_wire_time = pd.read_sql_query(query, con=engine) "
   ]
  },
  {
   "cell_type": "code",
   "execution_count": 26,
   "id": "87e59f53",
   "metadata": {},
   "outputs": [
    {
     "data": {
      "text/html": [
       "<div>\n",
       "<style scoped>\n",
       "    .dataframe tbody tr th:only-of-type {\n",
       "        vertical-align: middle;\n",
       "    }\n",
       "\n",
       "    .dataframe tbody tr th {\n",
       "        vertical-align: top;\n",
       "    }\n",
       "\n",
       "    .dataframe thead th {\n",
       "        text-align: right;\n",
       "    }\n",
       "</style>\n",
       "<table border=\"1\" class=\"dataframe\">\n",
       "  <thead>\n",
       "    <tr style=\"text-align: right;\">\n",
       "      <th></th>\n",
       "      <th>key</th>\n",
       "      <th>Wire 1</th>\n",
       "      <th>Wire 2</th>\n",
       "      <th>Wire 3</th>\n",
       "      <th>Wire 4</th>\n",
       "      <th>Wire 5</th>\n",
       "      <th>Wire 6</th>\n",
       "      <th>Wire 7</th>\n",
       "      <th>Wire 8</th>\n",
       "      <th>Wire 9</th>\n",
       "    </tr>\n",
       "  </thead>\n",
       "  <tbody>\n",
       "    <tr>\n",
       "      <th>0</th>\n",
       "      <td>1</td>\n",
       "      <td>11:11:41</td>\n",
       "      <td>None</td>\n",
       "      <td>None</td>\n",
       "      <td>None</td>\n",
       "      <td>None</td>\n",
       "      <td>None</td>\n",
       "      <td>None</td>\n",
       "      <td>None</td>\n",
       "      <td>None</td>\n",
       "    </tr>\n",
       "    <tr>\n",
       "      <th>1</th>\n",
       "      <td>2</td>\n",
       "      <td>11:46:10</td>\n",
       "      <td>None</td>\n",
       "      <td>None</td>\n",
       "      <td>None</td>\n",
       "      <td>None</td>\n",
       "      <td>None</td>\n",
       "      <td>None</td>\n",
       "      <td>None</td>\n",
       "      <td>None</td>\n",
       "    </tr>\n",
       "    <tr>\n",
       "      <th>2</th>\n",
       "      <td>3</td>\n",
       "      <td>12:13:47</td>\n",
       "      <td>None</td>\n",
       "      <td>None</td>\n",
       "      <td>None</td>\n",
       "      <td>None</td>\n",
       "      <td>None</td>\n",
       "      <td>None</td>\n",
       "      <td>None</td>\n",
       "      <td>None</td>\n",
       "    </tr>\n",
       "    <tr>\n",
       "      <th>3</th>\n",
       "      <td>4</td>\n",
       "      <td>12:48:05</td>\n",
       "      <td>None</td>\n",
       "      <td>None</td>\n",
       "      <td>None</td>\n",
       "      <td>None</td>\n",
       "      <td>None</td>\n",
       "      <td>None</td>\n",
       "      <td>None</td>\n",
       "      <td>None</td>\n",
       "    </tr>\n",
       "    <tr>\n",
       "      <th>4</th>\n",
       "      <td>5</td>\n",
       "      <td>13:18:15</td>\n",
       "      <td>13:32:06</td>\n",
       "      <td>None</td>\n",
       "      <td>None</td>\n",
       "      <td>None</td>\n",
       "      <td>None</td>\n",
       "      <td>None</td>\n",
       "      <td>None</td>\n",
       "      <td>None</td>\n",
       "    </tr>\n",
       "  </tbody>\n",
       "</table>\n",
       "</div>"
      ],
      "text/plain": [
       "   key    Wire 1    Wire 2 Wire 3 Wire 4 Wire 5 Wire 6 Wire 7 Wire 8 Wire 9\n",
       "0    1  11:11:41      None   None   None   None   None   None   None   None\n",
       "1    2  11:46:10      None   None   None   None   None   None   None   None\n",
       "2    3  12:13:47      None   None   None   None   None   None   None   None\n",
       "3    4  12:48:05      None   None   None   None   None   None   None   None\n",
       "4    5  13:18:15  13:32:06   None   None   None   None   None   None   None"
      ]
     },
     "execution_count": 26,
     "metadata": {},
     "output_type": "execute_result"
    }
   ],
   "source": [
    "data_wire_time.head() "
   ]
  },
  {
   "cell_type": "code",
   "execution_count": 27,
   "id": "f30e4dac",
   "metadata": {},
   "outputs": [
    {
     "name": "stdout",
     "output_type": "stream",
     "text": [
      "<class 'pandas.core.frame.DataFrame'>\n",
      "RangeIndex: 3081 entries, 0 to 3080\n",
      "Data columns (total 10 columns):\n",
      " #   Column  Non-Null Count  Dtype \n",
      "---  ------  --------------  ----- \n",
      " 0   key     3081 non-null   int64 \n",
      " 1   Wire 1  3055 non-null   object\n",
      " 2   Wire 2  1079 non-null   object\n",
      " 3   Wire 3  63 non-null     object\n",
      " 4   Wire 4  14 non-null     object\n",
      " 5   Wire 5  1 non-null      object\n",
      " 6   Wire 6  73 non-null     object\n",
      " 7   Wire 7  11 non-null     object\n",
      " 8   Wire 8  19 non-null     object\n",
      " 9   Wire 9  29 non-null     object\n",
      "dtypes: int64(1), object(9)\n",
      "memory usage: 240.8+ KB\n"
     ]
    }
   ],
   "source": [
    "data_wire_time.info()"
   ]
  },
  {
   "cell_type": "markdown",
   "id": "d082bfdf",
   "metadata": {},
   "source": [
    "Количество данных соответствует количеству данных из предыдущей таблицы."
   ]
  },
  {
   "cell_type": "markdown",
   "id": "60d09a2c",
   "metadata": {},
   "source": [
    "Все таблицы содержат данные, количество таблиц соответствует условию задачи."
   ]
  },
  {
   "cell_type": "markdown",
   "id": "d1a9f8e0",
   "metadata": {},
   "source": [
    "### data_arc"
   ]
  },
  {
   "cell_type": "markdown",
   "id": "10c4f26f",
   "metadata": {},
   "source": [
    "Для таблицы steel.data_arc:\n",
    "- проверим наличие пропусков и аномалий, изучим распределение признаков\n",
    "- сгенерируем новые признаки, которые могут пригодиться при обучении"
   ]
  },
  {
   "cell_type": "markdown",
   "id": "16838880",
   "metadata": {},
   "source": [
    "#### Пропуски и аномалии"
   ]
  },
  {
   "cell_type": "code",
   "execution_count": 28,
   "id": "1128cb46",
   "metadata": {},
   "outputs": [
    {
     "data": {
      "text/html": [
       "<div>\n",
       "<style scoped>\n",
       "    .dataframe tbody tr th:only-of-type {\n",
       "        vertical-align: middle;\n",
       "    }\n",
       "\n",
       "    .dataframe tbody tr th {\n",
       "        vertical-align: top;\n",
       "    }\n",
       "\n",
       "    .dataframe thead th {\n",
       "        text-align: right;\n",
       "    }\n",
       "</style>\n",
       "<table border=\"1\" class=\"dataframe\">\n",
       "  <thead>\n",
       "    <tr style=\"text-align: right;\">\n",
       "      <th></th>\n",
       "      <th>key</th>\n",
       "      <th>BeginHeat</th>\n",
       "      <th>EndHeat</th>\n",
       "      <th>ActivePower</th>\n",
       "      <th>ReactivePower</th>\n",
       "    </tr>\n",
       "  </thead>\n",
       "  <tbody>\n",
       "    <tr>\n",
       "      <th>0</th>\n",
       "      <td>1</td>\n",
       "      <td>11:02:14</td>\n",
       "      <td>11:06:02</td>\n",
       "      <td>0.976059</td>\n",
       "      <td>0.687084</td>\n",
       "    </tr>\n",
       "    <tr>\n",
       "      <th>1</th>\n",
       "      <td>1</td>\n",
       "      <td>11:07:28</td>\n",
       "      <td>11:10:33</td>\n",
       "      <td>0.805607</td>\n",
       "      <td>0.520285</td>\n",
       "    </tr>\n",
       "    <tr>\n",
       "      <th>2</th>\n",
       "      <td>1</td>\n",
       "      <td>11:11:44</td>\n",
       "      <td>11:14:36</td>\n",
       "      <td>0.744363</td>\n",
       "      <td>0.498805</td>\n",
       "    </tr>\n",
       "    <tr>\n",
       "      <th>3</th>\n",
       "      <td>1</td>\n",
       "      <td>11:18:14</td>\n",
       "      <td>11:24:19</td>\n",
       "      <td>1.659363</td>\n",
       "      <td>1.062669</td>\n",
       "    </tr>\n",
       "    <tr>\n",
       "      <th>4</th>\n",
       "      <td>1</td>\n",
       "      <td>11:26:09</td>\n",
       "      <td>11:28:37</td>\n",
       "      <td>0.692755</td>\n",
       "      <td>0.414397</td>\n",
       "    </tr>\n",
       "  </tbody>\n",
       "</table>\n",
       "</div>"
      ],
      "text/plain": [
       "   key BeginHeat   EndHeat  ActivePower  ReactivePower\n",
       "0    1  11:02:14  11:06:02     0.976059       0.687084\n",
       "1    1  11:07:28  11:10:33     0.805607       0.520285\n",
       "2    1  11:11:44  11:14:36     0.744363       0.498805\n",
       "3    1  11:18:14  11:24:19     1.659363       1.062669\n",
       "4    1  11:26:09  11:28:37     0.692755       0.414397"
      ]
     },
     "execution_count": 28,
     "metadata": {},
     "output_type": "execute_result"
    }
   ],
   "source": [
    "data_arc.head()"
   ]
  },
  {
   "cell_type": "markdown",
   "id": "b93da724",
   "metadata": {},
   "source": [
    "Колонки `BeginHeat` и `EndHeat` содержат время - необходимо проверить, чтобы время начала было раньше времени окончания нагрева."
   ]
  },
  {
   "cell_type": "code",
   "execution_count": 29,
   "id": "59f43dd3",
   "metadata": {},
   "outputs": [
    {
     "data": {
      "text/html": [
       "<div>\n",
       "<style scoped>\n",
       "    .dataframe tbody tr th:only-of-type {\n",
       "        vertical-align: middle;\n",
       "    }\n",
       "\n",
       "    .dataframe tbody tr th {\n",
       "        vertical-align: top;\n",
       "    }\n",
       "\n",
       "    .dataframe thead th {\n",
       "        text-align: right;\n",
       "    }\n",
       "</style>\n",
       "<table border=\"1\" class=\"dataframe\">\n",
       "  <thead>\n",
       "    <tr style=\"text-align: right;\">\n",
       "      <th></th>\n",
       "      <th>key</th>\n",
       "      <th>BeginHeat</th>\n",
       "      <th>EndHeat</th>\n",
       "      <th>ActivePower</th>\n",
       "      <th>ReactivePower</th>\n",
       "    </tr>\n",
       "  </thead>\n",
       "  <tbody>\n",
       "    <tr>\n",
       "      <th>580</th>\n",
       "      <td>126</td>\n",
       "      <td>23:59:35</td>\n",
       "      <td>00:01:55</td>\n",
       "      <td>0.527388</td>\n",
       "      <td>0.405463</td>\n",
       "    </tr>\n",
       "    <tr>\n",
       "      <th>1170</th>\n",
       "      <td>257</td>\n",
       "      <td>23:58:57</td>\n",
       "      <td>00:00:07</td>\n",
       "      <td>0.268811</td>\n",
       "      <td>0.175647</td>\n",
       "    </tr>\n",
       "    <tr>\n",
       "      <th>1280</th>\n",
       "      <td>280</td>\n",
       "      <td>23:56:57</td>\n",
       "      <td>00:01:43</td>\n",
       "      <td>1.197192</td>\n",
       "      <td>0.728587</td>\n",
       "    </tr>\n",
       "    <tr>\n",
       "      <th>1953</th>\n",
       "      <td>421</td>\n",
       "      <td>23:58:33</td>\n",
       "      <td>00:01:57</td>\n",
       "      <td>0.774585</td>\n",
       "      <td>0.583186</td>\n",
       "    </tr>\n",
       "    <tr>\n",
       "      <th>2952</th>\n",
       "      <td>642</td>\n",
       "      <td>23:52:55</td>\n",
       "      <td>00:03:13</td>\n",
       "      <td>2.415316</td>\n",
       "      <td>1.946081</td>\n",
       "    </tr>\n",
       "    <tr>\n",
       "      <th>3438</th>\n",
       "      <td>745</td>\n",
       "      <td>23:58:27</td>\n",
       "      <td>00:00:14</td>\n",
       "      <td>0.403792</td>\n",
       "      <td>0.281718</td>\n",
       "    </tr>\n",
       "    <tr>\n",
       "      <th>4250</th>\n",
       "      <td>913</td>\n",
       "      <td>23:58:22</td>\n",
       "      <td>00:01:34</td>\n",
       "      <td>0.787956</td>\n",
       "      <td>0.537366</td>\n",
       "    </tr>\n",
       "    <tr>\n",
       "      <th>4752</th>\n",
       "      <td>1026</td>\n",
       "      <td>23:59:04</td>\n",
       "      <td>00:07:07</td>\n",
       "      <td>1.680239</td>\n",
       "      <td>1.400063</td>\n",
       "    </tr>\n",
       "    <tr>\n",
       "      <th>5400</th>\n",
       "      <td>1175</td>\n",
       "      <td>23:59:25</td>\n",
       "      <td>00:05:07</td>\n",
       "      <td>1.325558</td>\n",
       "      <td>0.893414</td>\n",
       "    </tr>\n",
       "    <tr>\n",
       "      <th>6456</th>\n",
       "      <td>1404</td>\n",
       "      <td>23:56:33</td>\n",
       "      <td>00:01:05</td>\n",
       "      <td>1.217748</td>\n",
       "      <td>0.833978</td>\n",
       "    </tr>\n",
       "    <tr>\n",
       "      <th>6840</th>\n",
       "      <td>1486</td>\n",
       "      <td>23:56:24</td>\n",
       "      <td>00:01:21</td>\n",
       "      <td>1.135938</td>\n",
       "      <td>0.713006</td>\n",
       "    </tr>\n",
       "    <tr>\n",
       "      <th>6986</th>\n",
       "      <td>1515</td>\n",
       "      <td>23:58:56</td>\n",
       "      <td>00:02:11</td>\n",
       "      <td>0.756416</td>\n",
       "      <td>0.500854</td>\n",
       "    </tr>\n",
       "    <tr>\n",
       "      <th>7233</th>\n",
       "      <td>1572</td>\n",
       "      <td>23:57:55</td>\n",
       "      <td>00:00:13</td>\n",
       "      <td>0.476221</td>\n",
       "      <td>0.363946</td>\n",
       "    </tr>\n",
       "    <tr>\n",
       "      <th>7864</th>\n",
       "      <td>1702</td>\n",
       "      <td>23:58:32</td>\n",
       "      <td>00:00:14</td>\n",
       "      <td>0.430305</td>\n",
       "      <td>0.310953</td>\n",
       "    </tr>\n",
       "    <tr>\n",
       "      <th>9513</th>\n",
       "      <td>2063</td>\n",
       "      <td>23:58:36</td>\n",
       "      <td>00:00:41</td>\n",
       "      <td>0.566324</td>\n",
       "      <td>0.379927</td>\n",
       "    </tr>\n",
       "    <tr>\n",
       "      <th>9911</th>\n",
       "      <td>2147</td>\n",
       "      <td>23:56:54</td>\n",
       "      <td>00:02:00</td>\n",
       "      <td>1.359492</td>\n",
       "      <td>0.975441</td>\n",
       "    </tr>\n",
       "    <tr>\n",
       "      <th>10199</th>\n",
       "      <td>2211</td>\n",
       "      <td>23:58:35</td>\n",
       "      <td>00:02:11</td>\n",
       "      <td>0.853027</td>\n",
       "      <td>0.704497</td>\n",
       "    </tr>\n",
       "    <tr>\n",
       "      <th>11328</th>\n",
       "      <td>2468</td>\n",
       "      <td>23:58:41</td>\n",
       "      <td>00:01:14</td>\n",
       "      <td>0.532269</td>\n",
       "      <td>0.404410</td>\n",
       "    </tr>\n",
       "    <tr>\n",
       "      <th>12136</th>\n",
       "      <td>2638</td>\n",
       "      <td>23:58:18</td>\n",
       "      <td>00:00:51</td>\n",
       "      <td>0.534497</td>\n",
       "      <td>0.429733</td>\n",
       "    </tr>\n",
       "    <tr>\n",
       "      <th>12545</th>\n",
       "      <td>2725</td>\n",
       "      <td>23:58:08</td>\n",
       "      <td>00:03:15</td>\n",
       "      <td>1.215787</td>\n",
       "      <td>0.895574</td>\n",
       "    </tr>\n",
       "    <tr>\n",
       "      <th>12750</th>\n",
       "      <td>2769</td>\n",
       "      <td>23:59:08</td>\n",
       "      <td>00:02:10</td>\n",
       "      <td>0.696097</td>\n",
       "      <td>0.427802</td>\n",
       "    </tr>\n",
       "    <tr>\n",
       "      <th>12867</th>\n",
       "      <td>2798</td>\n",
       "      <td>23:57:30</td>\n",
       "      <td>00:00:32</td>\n",
       "      <td>0.724873</td>\n",
       "      <td>0.450309</td>\n",
       "    </tr>\n",
       "  </tbody>\n",
       "</table>\n",
       "</div>"
      ],
      "text/plain": [
       "        key BeginHeat   EndHeat  ActivePower  ReactivePower\n",
       "580     126  23:59:35  00:01:55     0.527388       0.405463\n",
       "1170    257  23:58:57  00:00:07     0.268811       0.175647\n",
       "1280    280  23:56:57  00:01:43     1.197192       0.728587\n",
       "1953    421  23:58:33  00:01:57     0.774585       0.583186\n",
       "2952    642  23:52:55  00:03:13     2.415316       1.946081\n",
       "3438    745  23:58:27  00:00:14     0.403792       0.281718\n",
       "4250    913  23:58:22  00:01:34     0.787956       0.537366\n",
       "4752   1026  23:59:04  00:07:07     1.680239       1.400063\n",
       "5400   1175  23:59:25  00:05:07     1.325558       0.893414\n",
       "6456   1404  23:56:33  00:01:05     1.217748       0.833978\n",
       "6840   1486  23:56:24  00:01:21     1.135938       0.713006\n",
       "6986   1515  23:58:56  00:02:11     0.756416       0.500854\n",
       "7233   1572  23:57:55  00:00:13     0.476221       0.363946\n",
       "7864   1702  23:58:32  00:00:14     0.430305       0.310953\n",
       "9513   2063  23:58:36  00:00:41     0.566324       0.379927\n",
       "9911   2147  23:56:54  00:02:00     1.359492       0.975441\n",
       "10199  2211  23:58:35  00:02:11     0.853027       0.704497\n",
       "11328  2468  23:58:41  00:01:14     0.532269       0.404410\n",
       "12136  2638  23:58:18  00:00:51     0.534497       0.429733\n",
       "12545  2725  23:58:08  00:03:15     1.215787       0.895574\n",
       "12750  2769  23:59:08  00:02:10     0.696097       0.427802\n",
       "12867  2798  23:57:30  00:00:32     0.724873       0.450309"
      ]
     },
     "execution_count": 29,
     "metadata": {},
     "output_type": "execute_result"
    }
   ],
   "source": [
    "# находим строки, в которых не совпадает последовательность по времени\n",
    "t = data_arc['BeginHeat'] < data_arc['EndHeat']\n",
    "t = t[t == 0]\n",
    "data_arc.loc[t.index, :]"
   ]
  },
  {
   "cell_type": "markdown",
   "id": "e6d0c559",
   "metadata": {},
   "source": [
    "Здесь уже идёт переход в следующие сутки, значит, всё хорошо."
   ]
  },
  {
   "cell_type": "code",
   "execution_count": 30,
   "id": "82013917",
   "metadata": {},
   "outputs": [
    {
     "data": {
      "text/html": [
       "<div>\n",
       "<style scoped>\n",
       "    .dataframe tbody tr th:only-of-type {\n",
       "        vertical-align: middle;\n",
       "    }\n",
       "\n",
       "    .dataframe tbody tr th {\n",
       "        vertical-align: top;\n",
       "    }\n",
       "\n",
       "    .dataframe thead th {\n",
       "        text-align: right;\n",
       "    }\n",
       "</style>\n",
       "<table border=\"1\" class=\"dataframe\">\n",
       "  <thead>\n",
       "    <tr style=\"text-align: right;\">\n",
       "      <th></th>\n",
       "      <th>ActivePower</th>\n",
       "      <th>ReactivePower</th>\n",
       "    </tr>\n",
       "  </thead>\n",
       "  <tbody>\n",
       "    <tr>\n",
       "      <th>count</th>\n",
       "      <td>14876.000000</td>\n",
       "      <td>14876.000000</td>\n",
       "    </tr>\n",
       "    <tr>\n",
       "      <th>mean</th>\n",
       "      <td>0.670441</td>\n",
       "      <td>0.452592</td>\n",
       "    </tr>\n",
       "    <tr>\n",
       "      <th>std</th>\n",
       "      <td>0.408159</td>\n",
       "      <td>5.878702</td>\n",
       "    </tr>\n",
       "    <tr>\n",
       "      <th>min</th>\n",
       "      <td>0.030002</td>\n",
       "      <td>-715.504924</td>\n",
       "    </tr>\n",
       "    <tr>\n",
       "      <th>25%</th>\n",
       "      <td>0.395297</td>\n",
       "      <td>0.290991</td>\n",
       "    </tr>\n",
       "    <tr>\n",
       "      <th>50%</th>\n",
       "      <td>0.555517</td>\n",
       "      <td>0.415962</td>\n",
       "    </tr>\n",
       "    <tr>\n",
       "      <th>75%</th>\n",
       "      <td>0.857034</td>\n",
       "      <td>0.637371</td>\n",
       "    </tr>\n",
       "    <tr>\n",
       "      <th>max</th>\n",
       "      <td>3.731596</td>\n",
       "      <td>2.676388</td>\n",
       "    </tr>\n",
       "  </tbody>\n",
       "</table>\n",
       "</div>"
      ],
      "text/plain": [
       "        ActivePower  ReactivePower\n",
       "count  14876.000000   14876.000000\n",
       "mean       0.670441       0.452592\n",
       "std        0.408159       5.878702\n",
       "min        0.030002    -715.504924\n",
       "25%        0.395297       0.290991\n",
       "50%        0.555517       0.415962\n",
       "75%        0.857034       0.637371\n",
       "max        3.731596       2.676388"
      ]
     },
     "execution_count": 30,
     "metadata": {},
     "output_type": "execute_result"
    }
   ],
   "source": [
    "# смотрим стастистику по значениям\n",
    "data_arc[['ActivePower', 'ReactivePower']].describe()"
   ]
  },
  {
   "cell_type": "markdown",
   "id": "4e0af133",
   "metadata": {},
   "source": [
    "В колонке `ReactivePower` есть аномальное значение."
   ]
  },
  {
   "cell_type": "code",
   "execution_count": 31,
   "id": "6a919b98",
   "metadata": {},
   "outputs": [
    {
     "data": {
      "text/html": [
       "<div>\n",
       "<style scoped>\n",
       "    .dataframe tbody tr th:only-of-type {\n",
       "        vertical-align: middle;\n",
       "    }\n",
       "\n",
       "    .dataframe tbody tr th {\n",
       "        vertical-align: top;\n",
       "    }\n",
       "\n",
       "    .dataframe thead th {\n",
       "        text-align: right;\n",
       "    }\n",
       "</style>\n",
       "<table border=\"1\" class=\"dataframe\">\n",
       "  <thead>\n",
       "    <tr style=\"text-align: right;\">\n",
       "      <th></th>\n",
       "      <th>key</th>\n",
       "      <th>BeginHeat</th>\n",
       "      <th>EndHeat</th>\n",
       "      <th>ActivePower</th>\n",
       "      <th>ReactivePower</th>\n",
       "    </tr>\n",
       "  </thead>\n",
       "  <tbody>\n",
       "    <tr>\n",
       "      <th>9781</th>\n",
       "      <td>2116</td>\n",
       "      <td>00:44:48</td>\n",
       "      <td>00:46:37</td>\n",
       "      <td>0.495782</td>\n",
       "      <td>-715.504924</td>\n",
       "    </tr>\n",
       "  </tbody>\n",
       "</table>\n",
       "</div>"
      ],
      "text/plain": [
       "       key BeginHeat   EndHeat  ActivePower  ReactivePower\n",
       "9781  2116  00:44:48  00:46:37     0.495782    -715.504924"
      ]
     },
     "execution_count": 31,
     "metadata": {},
     "output_type": "execute_result"
    }
   ],
   "source": [
    "data_arc.query('ReactivePower <= 0')"
   ]
  },
  {
   "cell_type": "markdown",
   "id": "4de7ba39",
   "metadata": {},
   "source": [
    "Аномальное значение всего одно, поэтому будет проще удалить его из выборки."
   ]
  },
  {
   "cell_type": "code",
   "execution_count": 32,
   "id": "3902469e",
   "metadata": {},
   "outputs": [],
   "source": [
    "data_arc = data_arc.query('ReactivePower > 0')"
   ]
  },
  {
   "cell_type": "code",
   "execution_count": 33,
   "id": "a3eeb3fb",
   "metadata": {
    "scrolled": true
   },
   "outputs": [
    {
     "data": {
      "image/png": "[encoded data removed]",
      "text/plain": [
       "<Figure size 720x360 with 2 Axes>"
      ]
     },
     "metadata": {
      "needs_background": "light"
     },
     "output_type": "display_data"
    }
   ],
   "source": [
    "# строим графики распределения значений\n",
    "powers = data_arc[['ActivePower', 'ReactivePower']]\n",
    "\n",
    "fig = plt.figure(figsize=(10,5))\n",
    "\n",
    "for i in range(powers.shape[1]):\n",
    "    \n",
    "    fig.add_subplot(1, 2, i+1)\n",
    "    sns.histplot(powers.loc[:,powers.columns[i]], bins=50)\n",
    "\n",
    "plt.show()"
   ]
  },
  {
   "cell_type": "code",
   "execution_count": 34,
   "id": "45594371",
   "metadata": {},
   "outputs": [
    {
     "data": {
      "image/png": "[encoded data removed]",
      "text/plain": [
       "<Figure size 720x360 with 2 Axes>"
      ]
     },
     "metadata": {
      "needs_background": "light"
     },
     "output_type": "display_data"
    }
   ],
   "source": [
    "# строим графики размаха значений\n",
    "fig = plt.figure(figsize=(10,5))\n",
    "\n",
    "for i in range(powers.shape[1]):\n",
    "    \n",
    "    fig.add_subplot(1, 2, i+1)\n",
    "    sns.boxplot(y=powers.loc[:,powers.columns[i]])\n",
    "\n",
    "plt.show()"
   ]
  },
  {
   "cell_type": "markdown",
   "id": "a8e62d5e",
   "metadata": {},
   "source": [
    "Оба графика значений имеют нормальное распределение и скошенность влево."
   ]
  },
  {
   "cell_type": "code",
   "execution_count": 35,
   "id": "5447fa61",
   "metadata": {},
   "outputs": [
    {
     "data": {
      "text/plain": [
       "key              0\n",
       "BeginHeat        0\n",
       "EndHeat          0\n",
       "ActivePower      0\n",
       "ReactivePower    0\n",
       "dtype: int64"
      ]
     },
     "execution_count": 35,
     "metadata": {},
     "output_type": "execute_result"
    }
   ],
   "source": [
    "# смотрим пропуски\n",
    "data_arc.isna().sum()"
   ]
  },
  {
   "cell_type": "code",
   "execution_count": 36,
   "id": "88a46b1d",
   "metadata": {},
   "outputs": [
    {
     "data": {
      "text/plain": [
       "0"
      ]
     },
     "execution_count": 36,
     "metadata": {},
     "output_type": "execute_result"
    }
   ],
   "source": [
    "# смотрим дубликаты\n",
    "data_arc.duplicated().sum()"
   ]
  },
  {
   "cell_type": "markdown",
   "id": "f4afe10f",
   "metadata": {},
   "source": [
    "#### Генерация новых признаков"
   ]
  },
  {
   "cell_type": "markdown",
   "id": "d4065d19",
   "metadata": {},
   "source": [
    "- *Длительность нагрева*"
   ]
  },
  {
   "cell_type": "markdown",
   "id": "4b93e587",
   "metadata": {},
   "source": [
    "Сгенерируем новый признак: длительность нагрева. Он будет равен разнице между `BeginHeat`и `EndHeat` в секундах."
   ]
  },
  {
   "cell_type": "code",
   "execution_count": 37,
   "id": "c029c9b2",
   "metadata": {},
   "outputs": [],
   "source": [
    "data_arc['HeatingDuration'] = (pd.to_datetime(data_arc['EndHeat'], format='%H:%M:%S') - pd.to_datetime(data_arc['BeginHeat'], format='%H:%M:%S')).dt.seconds"
   ]
  },
  {
   "cell_type": "markdown",
   "id": "b2031789",
   "metadata": {},
   "source": [
    "- *Общая мощность*"
   ]
  },
  {
   "cell_type": "markdown",
   "id": "eb5ee509",
   "metadata": {},
   "source": [
    "Общая мощность - сумма активной и реактивной мощностей."
   ]
  },
  {
   "cell_type": "code",
   "execution_count": 38,
   "id": "8ed5273b",
   "metadata": {},
   "outputs": [],
   "source": [
    "data_arc['TotalPower'] = (data_arc['ActivePower'] + data_arc['ReactivePower'])"
   ]
  },
  {
   "cell_type": "markdown",
   "id": "7e73e887",
   "metadata": {},
   "source": [
    "- *Соотношение активной мощности к реактивной*"
   ]
  },
  {
   "cell_type": "code",
   "execution_count": 39,
   "id": "4284e5ce",
   "metadata": {},
   "outputs": [],
   "source": [
    "data_arc['ActiveReactiveRatio'] = (data_arc['ActivePower'] / data_arc['ReactivePower'])"
   ]
  },
  {
   "cell_type": "markdown",
   "id": "8cf53fe1",
   "metadata": {},
   "source": [
    "- *Агрегированные по каждой партии значения*"
   ]
  },
  {
   "cell_type": "markdown",
   "id": "e2aa9f16",
   "metadata": {},
   "source": [
    "Далее для каждой партии получим агрегированные значения."
   ]
  },
  {
   "cell_type": "code",
   "execution_count": 40,
   "id": "f957a4ad",
   "metadata": {},
   "outputs": [],
   "source": [
    "new_features = data_arc.groupby('key').agg({'HeatingDuration':'sum',\n",
    "                             'TotalPower':'sum',\n",
    "                             'ActivePower':'sum',\n",
    "                             'ReactivePower':'sum'}).rename(columns={'HeatingDuration':'TotalHeatingDuration',\n",
    "                                                                     'TotalPower':'AllPower',\n",
    "                                                                     'ActivePower':'TotalActivePower',\n",
    "                                                                     'ReactivePower':'TotalReactivePower'})"
   ]
  },
  {
   "cell_type": "code",
   "execution_count": 41,
   "id": "1078a32f",
   "metadata": {},
   "outputs": [],
   "source": [
    "new_features['TotalActiveReactiveRatio'] = new_features['TotalActivePower']/new_features['TotalReactivePower']"
   ]
  },
  {
   "cell_type": "markdown",
   "id": "e72254d3",
   "metadata": {},
   "source": [
    "- *Количество итераций нагрева электродами*"
   ]
  },
  {
   "cell_type": "code",
   "execution_count": 42,
   "id": "8c36cb17",
   "metadata": {},
   "outputs": [],
   "source": [
    "iteration_cnt = data_arc.groupby('key').agg({'ActivePower':'count'})"
   ]
  },
  {
   "cell_type": "code",
   "execution_count": 43,
   "id": "b227a0c5",
   "metadata": {},
   "outputs": [],
   "source": [
    "new_features['IterationCnt'] = iteration_cnt"
   ]
  },
  {
   "cell_type": "code",
   "execution_count": 44,
   "id": "4e042232",
   "metadata": {},
   "outputs": [
    {
     "data": {
      "text/html": [
       "<div>\n",
       "<style scoped>\n",
       "    .dataframe tbody tr th:only-of-type {\n",
       "        vertical-align: middle;\n",
       "    }\n",
       "\n",
       "    .dataframe tbody tr th {\n",
       "        vertical-align: top;\n",
       "    }\n",
       "\n",
       "    .dataframe thead th {\n",
       "        text-align: right;\n",
       "    }\n",
       "</style>\n",
       "<table border=\"1\" class=\"dataframe\">\n",
       "  <thead>\n",
       "    <tr style=\"text-align: right;\">\n",
       "      <th></th>\n",
       "      <th>TotalHeatingDuration</th>\n",
       "      <th>AllPower</th>\n",
       "      <th>TotalActivePower</th>\n",
       "      <th>TotalReactivePower</th>\n",
       "      <th>TotalActiveReactiveRatio</th>\n",
       "      <th>IterationCnt</th>\n",
       "    </tr>\n",
       "    <tr>\n",
       "      <th>key</th>\n",
       "      <th></th>\n",
       "      <th></th>\n",
       "      <th></th>\n",
       "      <th></th>\n",
       "      <th></th>\n",
       "      <th></th>\n",
       "    </tr>\n",
       "  </thead>\n",
       "  <tbody>\n",
       "    <tr>\n",
       "      <th>1</th>\n",
       "      <td>1098</td>\n",
       "      <td>8.061388</td>\n",
       "      <td>4.878147</td>\n",
       "      <td>3.183241</td>\n",
       "      <td>1.532447</td>\n",
       "      <td>5</td>\n",
       "    </tr>\n",
       "    <tr>\n",
       "      <th>2</th>\n",
       "      <td>811</td>\n",
       "      <td>5.050710</td>\n",
       "      <td>3.052598</td>\n",
       "      <td>1.998112</td>\n",
       "      <td>1.527741</td>\n",
       "      <td>4</td>\n",
       "    </tr>\n",
       "    <tr>\n",
       "      <th>3</th>\n",
       "      <td>655</td>\n",
       "      <td>4.124958</td>\n",
       "      <td>2.525882</td>\n",
       "      <td>1.599076</td>\n",
       "      <td>1.579589</td>\n",
       "      <td>5</td>\n",
       "    </tr>\n",
       "    <tr>\n",
       "      <th>4</th>\n",
       "      <td>741</td>\n",
       "      <td>5.269548</td>\n",
       "      <td>3.209250</td>\n",
       "      <td>2.060298</td>\n",
       "      <td>1.557663</td>\n",
       "      <td>4</td>\n",
       "    </tr>\n",
       "    <tr>\n",
       "      <th>5</th>\n",
       "      <td>869</td>\n",
       "      <td>5.599815</td>\n",
       "      <td>3.347173</td>\n",
       "      <td>2.252643</td>\n",
       "      <td>1.485887</td>\n",
       "      <td>4</td>\n",
       "    </tr>\n",
       "  </tbody>\n",
       "</table>\n",
       "</div>"
      ],
      "text/plain": [
       "     TotalHeatingDuration  AllPower  TotalActivePower  TotalReactivePower  \\\n",
       "key                                                                         \n",
       "1                    1098  8.061388          4.878147            3.183241   \n",
       "2                     811  5.050710          3.052598            1.998112   \n",
       "3                     655  4.124958          2.525882            1.599076   \n",
       "4                     741  5.269548          3.209250            2.060298   \n",
       "5                     869  5.599815          3.347173            2.252643   \n",
       "\n",
       "     TotalActiveReactiveRatio  IterationCnt  \n",
       "key                                          \n",
       "1                    1.532447             5  \n",
       "2                    1.527741             4  \n",
       "3                    1.579589             5  \n",
       "4                    1.557663             4  \n",
       "5                    1.485887             4  "
      ]
     },
     "execution_count": 44,
     "metadata": {},
     "output_type": "execute_result"
    }
   ],
   "source": [
    "new_features.head()"
   ]
  },
  {
   "cell_type": "markdown",
   "id": "5e5473e8",
   "metadata": {},
   "source": [
    "Присоединим новые признаки к таблице."
   ]
  },
  {
   "cell_type": "code",
   "execution_count": 45,
   "id": "65cceda9",
   "metadata": {},
   "outputs": [],
   "source": [
    "data_arc = data_arc.join(new_features, on='key', how='left')"
   ]
  },
  {
   "cell_type": "markdown",
   "id": "7bf5107a",
   "metadata": {},
   "source": [
    "Т.к. теперь у нас есть признак длительности нагрева, колонки `BeginHeat` и `EndHeat` можно удалить."
   ]
  },
  {
   "cell_type": "code",
   "execution_count": 46,
   "id": "29015669",
   "metadata": {},
   "outputs": [],
   "source": [
    "data_arc = data_arc.drop(columns=['BeginHeat', 'EndHeat']) "
   ]
  },
  {
   "cell_type": "code",
   "execution_count": 47,
   "id": "63ad633a",
   "metadata": {},
   "outputs": [
    {
     "data": {
      "text/html": [
       "<div>\n",
       "<style scoped>\n",
       "    .dataframe tbody tr th:only-of-type {\n",
       "        vertical-align: middle;\n",
       "    }\n",
       "\n",
       "    .dataframe tbody tr th {\n",
       "        vertical-align: top;\n",
       "    }\n",
       "\n",
       "    .dataframe thead th {\n",
       "        text-align: right;\n",
       "    }\n",
       "</style>\n",
       "<table border=\"1\" class=\"dataframe\">\n",
       "  <thead>\n",
       "    <tr style=\"text-align: right;\">\n",
       "      <th></th>\n",
       "      <th>key</th>\n",
       "      <th>ActivePower</th>\n",
       "      <th>ReactivePower</th>\n",
       "      <th>HeatingDuration</th>\n",
       "      <th>TotalPower</th>\n",
       "      <th>ActiveReactiveRatio</th>\n",
       "      <th>TotalHeatingDuration</th>\n",
       "      <th>AllPower</th>\n",
       "      <th>TotalActivePower</th>\n",
       "      <th>TotalReactivePower</th>\n",
       "      <th>TotalActiveReactiveRatio</th>\n",
       "      <th>IterationCnt</th>\n",
       "    </tr>\n",
       "  </thead>\n",
       "  <tbody>\n",
       "    <tr>\n",
       "      <th>0</th>\n",
       "      <td>1</td>\n",
       "      <td>0.976059</td>\n",
       "      <td>0.687084</td>\n",
       "      <td>228</td>\n",
       "      <td>1.663142</td>\n",
       "      <td>1.420582</td>\n",
       "      <td>1098</td>\n",
       "      <td>8.061388</td>\n",
       "      <td>4.878147</td>\n",
       "      <td>3.183241</td>\n",
       "      <td>1.532447</td>\n",
       "      <td>5</td>\n",
       "    </tr>\n",
       "    <tr>\n",
       "      <th>1</th>\n",
       "      <td>1</td>\n",
       "      <td>0.805607</td>\n",
       "      <td>0.520285</td>\n",
       "      <td>185</td>\n",
       "      <td>1.325892</td>\n",
       "      <td>1.548395</td>\n",
       "      <td>1098</td>\n",
       "      <td>8.061388</td>\n",
       "      <td>4.878147</td>\n",
       "      <td>3.183241</td>\n",
       "      <td>1.532447</td>\n",
       "      <td>5</td>\n",
       "    </tr>\n",
       "    <tr>\n",
       "      <th>2</th>\n",
       "      <td>1</td>\n",
       "      <td>0.744363</td>\n",
       "      <td>0.498805</td>\n",
       "      <td>172</td>\n",
       "      <td>1.243169</td>\n",
       "      <td>1.492292</td>\n",
       "      <td>1098</td>\n",
       "      <td>8.061388</td>\n",
       "      <td>4.878147</td>\n",
       "      <td>3.183241</td>\n",
       "      <td>1.532447</td>\n",
       "      <td>5</td>\n",
       "    </tr>\n",
       "    <tr>\n",
       "      <th>3</th>\n",
       "      <td>1</td>\n",
       "      <td>1.659363</td>\n",
       "      <td>1.062669</td>\n",
       "      <td>365</td>\n",
       "      <td>2.722032</td>\n",
       "      <td>1.561504</td>\n",
       "      <td>1098</td>\n",
       "      <td>8.061388</td>\n",
       "      <td>4.878147</td>\n",
       "      <td>3.183241</td>\n",
       "      <td>1.532447</td>\n",
       "      <td>5</td>\n",
       "    </tr>\n",
       "    <tr>\n",
       "      <th>4</th>\n",
       "      <td>1</td>\n",
       "      <td>0.692755</td>\n",
       "      <td>0.414397</td>\n",
       "      <td>148</td>\n",
       "      <td>1.107152</td>\n",
       "      <td>1.671717</td>\n",
       "      <td>1098</td>\n",
       "      <td>8.061388</td>\n",
       "      <td>4.878147</td>\n",
       "      <td>3.183241</td>\n",
       "      <td>1.532447</td>\n",
       "      <td>5</td>\n",
       "    </tr>\n",
       "  </tbody>\n",
       "</table>\n",
       "</div>"
      ],
      "text/plain": [
       "   key  ActivePower  ReactivePower  HeatingDuration  TotalPower  \\\n",
       "0    1     0.976059       0.687084              228    1.663142   \n",
       "1    1     0.805607       0.520285              185    1.325892   \n",
       "2    1     0.744363       0.498805              172    1.243169   \n",
       "3    1     1.659363       1.062669              365    2.722032   \n",
       "4    1     0.692755       0.414397              148    1.107152   \n",
       "\n",
       "   ActiveReactiveRatio  TotalHeatingDuration  AllPower  TotalActivePower  \\\n",
       "0             1.420582                  1098  8.061388          4.878147   \n",
       "1             1.548395                  1098  8.061388          4.878147   \n",
       "2             1.492292                  1098  8.061388          4.878147   \n",
       "3             1.561504                  1098  8.061388          4.878147   \n",
       "4             1.671717                  1098  8.061388          4.878147   \n",
       "\n",
       "   TotalReactivePower  TotalActiveReactiveRatio  IterationCnt  \n",
       "0            3.183241                  1.532447             5  \n",
       "1            3.183241                  1.532447             5  \n",
       "2            3.183241                  1.532447             5  \n",
       "3            3.183241                  1.532447             5  \n",
       "4            3.183241                  1.532447             5  "
      ]
     },
     "execution_count": 47,
     "metadata": {},
     "output_type": "execute_result"
    }
   ],
   "source": [
    "data_arc.head()"
   ]
  },
  {
   "cell_type": "code",
   "execution_count": 48,
   "id": "3c8577e1",
   "metadata": {},
   "outputs": [
    {
     "name": "stdout",
     "output_type": "stream",
     "text": [
      "<class 'pandas.core.frame.DataFrame'>\n",
      "Int64Index: 14875 entries, 0 to 14875\n",
      "Data columns (total 12 columns):\n",
      " #   Column                    Non-Null Count  Dtype  \n",
      "---  ------                    --------------  -----  \n",
      " 0   key                       14875 non-null  int64  \n",
      " 1   ActivePower               14875 non-null  float64\n",
      " 2   ReactivePower             14875 non-null  float64\n",
      " 3   HeatingDuration           14875 non-null  int64  \n",
      " 4   TotalPower                14875 non-null  float64\n",
      " 5   ActiveReactiveRatio       14875 non-null  float64\n",
      " 6   TotalHeatingDuration      14875 non-null  int64  \n",
      " 7   AllPower                  14875 non-null  float64\n",
      " 8   TotalActivePower          14875 non-null  float64\n",
      " 9   TotalReactivePower        14875 non-null  float64\n",
      " 10  TotalActiveReactiveRatio  14875 non-null  float64\n",
      " 11  IterationCnt              14875 non-null  int64  \n",
      "dtypes: float64(8), int64(4)\n",
      "memory usage: 1.5 MB\n"
     ]
    }
   ],
   "source": [
    "data_arc.info()"
   ]
  },
  {
   "cell_type": "markdown",
   "id": "2597412d",
   "metadata": {},
   "source": [
    "### data_bulk"
   ]
  },
  {
   "cell_type": "markdown",
   "id": "308c41ae",
   "metadata": {},
   "source": [
    "- Проверим наличие пропусков и аномалий, изучим распределение признаков.\n",
    "- Обработаем пропуски."
   ]
  },
  {
   "cell_type": "code",
   "execution_count": 49,
   "id": "4d1f6cf4",
   "metadata": {},
   "outputs": [
    {
     "data": {
      "text/html": [
       "<div>\n",
       "<style scoped>\n",
       "    .dataframe tbody tr th:only-of-type {\n",
       "        vertical-align: middle;\n",
       "    }\n",
       "\n",
       "    .dataframe tbody tr th {\n",
       "        vertical-align: top;\n",
       "    }\n",
       "\n",
       "    .dataframe thead th {\n",
       "        text-align: right;\n",
       "    }\n",
       "</style>\n",
       "<table border=\"1\" class=\"dataframe\">\n",
       "  <thead>\n",
       "    <tr style=\"text-align: right;\">\n",
       "      <th></th>\n",
       "      <th>key</th>\n",
       "      <th>Bulk 1</th>\n",
       "      <th>Bulk 2</th>\n",
       "      <th>Bulk 3</th>\n",
       "      <th>Bulk 4</th>\n",
       "      <th>Bulk 5</th>\n",
       "      <th>Bulk 6</th>\n",
       "      <th>Bulk 7</th>\n",
       "      <th>Bulk 8</th>\n",
       "      <th>Bulk 9</th>\n",
       "      <th>Bulk 10</th>\n",
       "      <th>Bulk 11</th>\n",
       "      <th>Bulk 12</th>\n",
       "      <th>Bulk 13</th>\n",
       "      <th>Bulk 14</th>\n",
       "      <th>Bulk 15</th>\n",
       "    </tr>\n",
       "  </thead>\n",
       "  <tbody>\n",
       "    <tr>\n",
       "      <th>0</th>\n",
       "      <td>1</td>\n",
       "      <td>NaN</td>\n",
       "      <td>NaN</td>\n",
       "      <td>NaN</td>\n",
       "      <td>43.0</td>\n",
       "      <td>NaN</td>\n",
       "      <td>NaN</td>\n",
       "      <td>NaN</td>\n",
       "      <td>NaN</td>\n",
       "      <td>NaN</td>\n",
       "      <td>NaN</td>\n",
       "      <td>NaN</td>\n",
       "      <td>206.0</td>\n",
       "      <td>NaN</td>\n",
       "      <td>150.0</td>\n",
       "      <td>154.0</td>\n",
       "    </tr>\n",
       "    <tr>\n",
       "      <th>1</th>\n",
       "      <td>2</td>\n",
       "      <td>NaN</td>\n",
       "      <td>NaN</td>\n",
       "      <td>NaN</td>\n",
       "      <td>73.0</td>\n",
       "      <td>NaN</td>\n",
       "      <td>NaN</td>\n",
       "      <td>NaN</td>\n",
       "      <td>NaN</td>\n",
       "      <td>NaN</td>\n",
       "      <td>NaN</td>\n",
       "      <td>NaN</td>\n",
       "      <td>206.0</td>\n",
       "      <td>NaN</td>\n",
       "      <td>149.0</td>\n",
       "      <td>154.0</td>\n",
       "    </tr>\n",
       "    <tr>\n",
       "      <th>2</th>\n",
       "      <td>3</td>\n",
       "      <td>NaN</td>\n",
       "      <td>NaN</td>\n",
       "      <td>NaN</td>\n",
       "      <td>34.0</td>\n",
       "      <td>NaN</td>\n",
       "      <td>NaN</td>\n",
       "      <td>NaN</td>\n",
       "      <td>NaN</td>\n",
       "      <td>NaN</td>\n",
       "      <td>NaN</td>\n",
       "      <td>NaN</td>\n",
       "      <td>205.0</td>\n",
       "      <td>NaN</td>\n",
       "      <td>152.0</td>\n",
       "      <td>153.0</td>\n",
       "    </tr>\n",
       "    <tr>\n",
       "      <th>3</th>\n",
       "      <td>4</td>\n",
       "      <td>NaN</td>\n",
       "      <td>NaN</td>\n",
       "      <td>NaN</td>\n",
       "      <td>81.0</td>\n",
       "      <td>NaN</td>\n",
       "      <td>NaN</td>\n",
       "      <td>NaN</td>\n",
       "      <td>NaN</td>\n",
       "      <td>NaN</td>\n",
       "      <td>NaN</td>\n",
       "      <td>NaN</td>\n",
       "      <td>207.0</td>\n",
       "      <td>NaN</td>\n",
       "      <td>153.0</td>\n",
       "      <td>154.0</td>\n",
       "    </tr>\n",
       "    <tr>\n",
       "      <th>4</th>\n",
       "      <td>5</td>\n",
       "      <td>NaN</td>\n",
       "      <td>NaN</td>\n",
       "      <td>NaN</td>\n",
       "      <td>78.0</td>\n",
       "      <td>NaN</td>\n",
       "      <td>NaN</td>\n",
       "      <td>NaN</td>\n",
       "      <td>NaN</td>\n",
       "      <td>NaN</td>\n",
       "      <td>NaN</td>\n",
       "      <td>NaN</td>\n",
       "      <td>203.0</td>\n",
       "      <td>NaN</td>\n",
       "      <td>151.0</td>\n",
       "      <td>152.0</td>\n",
       "    </tr>\n",
       "  </tbody>\n",
       "</table>\n",
       "</div>"
      ],
      "text/plain": [
       "   key  Bulk 1  Bulk 2  Bulk 3  Bulk 4  Bulk 5  Bulk 6  Bulk 7  Bulk 8  \\\n",
       "0    1     NaN     NaN     NaN    43.0     NaN     NaN     NaN     NaN   \n",
       "1    2     NaN     NaN     NaN    73.0     NaN     NaN     NaN     NaN   \n",
       "2    3     NaN     NaN     NaN    34.0     NaN     NaN     NaN     NaN   \n",
       "3    4     NaN     NaN     NaN    81.0     NaN     NaN     NaN     NaN   \n",
       "4    5     NaN     NaN     NaN    78.0     NaN     NaN     NaN     NaN   \n",
       "\n",
       "   Bulk 9  Bulk 10  Bulk 11  Bulk 12  Bulk 13  Bulk 14  Bulk 15  \n",
       "0     NaN      NaN      NaN    206.0      NaN    150.0    154.0  \n",
       "1     NaN      NaN      NaN    206.0      NaN    149.0    154.0  \n",
       "2     NaN      NaN      NaN    205.0      NaN    152.0    153.0  \n",
       "3     NaN      NaN      NaN    207.0      NaN    153.0    154.0  \n",
       "4     NaN      NaN      NaN    203.0      NaN    151.0    152.0  "
      ]
     },
     "execution_count": 49,
     "metadata": {},
     "output_type": "execute_result"
    }
   ],
   "source": [
    "data_bulk.head()"
   ]
  },
  {
   "cell_type": "code",
   "execution_count": 50,
   "id": "b358cda2",
   "metadata": {
    "scrolled": true
   },
   "outputs": [
    {
     "data": {
      "text/html": [
       "<div>\n",
       "<style scoped>\n",
       "    .dataframe tbody tr th:only-of-type {\n",
       "        vertical-align: middle;\n",
       "    }\n",
       "\n",
       "    .dataframe tbody tr th {\n",
       "        vertical-align: top;\n",
       "    }\n",
       "\n",
       "    .dataframe thead th {\n",
       "        text-align: right;\n",
       "    }\n",
       "</style>\n",
       "<table border=\"1\" class=\"dataframe\">\n",
       "  <thead>\n",
       "    <tr style=\"text-align: right;\">\n",
       "      <th></th>\n",
       "      <th>key</th>\n",
       "      <th>Bulk 1</th>\n",
       "      <th>Bulk 2</th>\n",
       "      <th>Bulk 3</th>\n",
       "      <th>Bulk 4</th>\n",
       "      <th>Bulk 5</th>\n",
       "      <th>Bulk 6</th>\n",
       "      <th>Bulk 7</th>\n",
       "      <th>Bulk 8</th>\n",
       "      <th>Bulk 9</th>\n",
       "      <th>Bulk 10</th>\n",
       "      <th>Bulk 11</th>\n",
       "      <th>Bulk 12</th>\n",
       "      <th>Bulk 13</th>\n",
       "      <th>Bulk 14</th>\n",
       "      <th>Bulk 15</th>\n",
       "    </tr>\n",
       "  </thead>\n",
       "  <tbody>\n",
       "    <tr>\n",
       "      <th>count</th>\n",
       "      <td>3129.000000</td>\n",
       "      <td>252.000000</td>\n",
       "      <td>22.000000</td>\n",
       "      <td>1298.000000</td>\n",
       "      <td>1014.000000</td>\n",
       "      <td>77.000000</td>\n",
       "      <td>576.000000</td>\n",
       "      <td>25.000000</td>\n",
       "      <td>1.0</td>\n",
       "      <td>19.000000</td>\n",
       "      <td>176.000000</td>\n",
       "      <td>177.000000</td>\n",
       "      <td>2450.000000</td>\n",
       "      <td>18.000000</td>\n",
       "      <td>2806.000000</td>\n",
       "      <td>2248.000000</td>\n",
       "    </tr>\n",
       "    <tr>\n",
       "      <th>mean</th>\n",
       "      <td>1624.383509</td>\n",
       "      <td>39.242063</td>\n",
       "      <td>253.045455</td>\n",
       "      <td>113.879045</td>\n",
       "      <td>104.394477</td>\n",
       "      <td>107.025974</td>\n",
       "      <td>118.925347</td>\n",
       "      <td>305.600000</td>\n",
       "      <td>49.0</td>\n",
       "      <td>76.315789</td>\n",
       "      <td>83.284091</td>\n",
       "      <td>76.819209</td>\n",
       "      <td>260.471020</td>\n",
       "      <td>181.111111</td>\n",
       "      <td>170.284747</td>\n",
       "      <td>160.513345</td>\n",
       "    </tr>\n",
       "    <tr>\n",
       "      <th>std</th>\n",
       "      <td>933.337642</td>\n",
       "      <td>18.277654</td>\n",
       "      <td>21.180578</td>\n",
       "      <td>75.483494</td>\n",
       "      <td>48.184126</td>\n",
       "      <td>81.790646</td>\n",
       "      <td>72.057776</td>\n",
       "      <td>191.022904</td>\n",
       "      <td>NaN</td>\n",
       "      <td>21.720581</td>\n",
       "      <td>26.060347</td>\n",
       "      <td>59.655365</td>\n",
       "      <td>120.649269</td>\n",
       "      <td>46.088009</td>\n",
       "      <td>65.868652</td>\n",
       "      <td>51.765319</td>\n",
       "    </tr>\n",
       "    <tr>\n",
       "      <th>min</th>\n",
       "      <td>1.000000</td>\n",
       "      <td>10.000000</td>\n",
       "      <td>228.000000</td>\n",
       "      <td>6.000000</td>\n",
       "      <td>12.000000</td>\n",
       "      <td>11.000000</td>\n",
       "      <td>17.000000</td>\n",
       "      <td>47.000000</td>\n",
       "      <td>49.0</td>\n",
       "      <td>63.000000</td>\n",
       "      <td>24.000000</td>\n",
       "      <td>8.000000</td>\n",
       "      <td>53.000000</td>\n",
       "      <td>151.000000</td>\n",
       "      <td>16.000000</td>\n",
       "      <td>1.000000</td>\n",
       "    </tr>\n",
       "    <tr>\n",
       "      <th>25%</th>\n",
       "      <td>816.000000</td>\n",
       "      <td>27.000000</td>\n",
       "      <td>242.000000</td>\n",
       "      <td>58.000000</td>\n",
       "      <td>72.000000</td>\n",
       "      <td>70.000000</td>\n",
       "      <td>69.750000</td>\n",
       "      <td>155.000000</td>\n",
       "      <td>49.0</td>\n",
       "      <td>66.000000</td>\n",
       "      <td>64.000000</td>\n",
       "      <td>25.000000</td>\n",
       "      <td>204.000000</td>\n",
       "      <td>153.250000</td>\n",
       "      <td>119.000000</td>\n",
       "      <td>105.000000</td>\n",
       "    </tr>\n",
       "    <tr>\n",
       "      <th>50%</th>\n",
       "      <td>1622.000000</td>\n",
       "      <td>31.000000</td>\n",
       "      <td>251.500000</td>\n",
       "      <td>97.500000</td>\n",
       "      <td>102.000000</td>\n",
       "      <td>86.000000</td>\n",
       "      <td>100.000000</td>\n",
       "      <td>298.000000</td>\n",
       "      <td>49.0</td>\n",
       "      <td>68.000000</td>\n",
       "      <td>86.500000</td>\n",
       "      <td>64.000000</td>\n",
       "      <td>208.000000</td>\n",
       "      <td>155.500000</td>\n",
       "      <td>151.000000</td>\n",
       "      <td>160.000000</td>\n",
       "    </tr>\n",
       "    <tr>\n",
       "      <th>75%</th>\n",
       "      <td>2431.000000</td>\n",
       "      <td>46.000000</td>\n",
       "      <td>257.750000</td>\n",
       "      <td>152.000000</td>\n",
       "      <td>133.000000</td>\n",
       "      <td>132.000000</td>\n",
       "      <td>157.000000</td>\n",
       "      <td>406.000000</td>\n",
       "      <td>49.0</td>\n",
       "      <td>70.500000</td>\n",
       "      <td>102.000000</td>\n",
       "      <td>106.000000</td>\n",
       "      <td>316.000000</td>\n",
       "      <td>203.500000</td>\n",
       "      <td>205.750000</td>\n",
       "      <td>205.000000</td>\n",
       "    </tr>\n",
       "    <tr>\n",
       "      <th>max</th>\n",
       "      <td>3241.000000</td>\n",
       "      <td>185.000000</td>\n",
       "      <td>325.000000</td>\n",
       "      <td>454.000000</td>\n",
       "      <td>281.000000</td>\n",
       "      <td>603.000000</td>\n",
       "      <td>503.000000</td>\n",
       "      <td>772.000000</td>\n",
       "      <td>49.0</td>\n",
       "      <td>147.000000</td>\n",
       "      <td>159.000000</td>\n",
       "      <td>313.000000</td>\n",
       "      <td>1849.000000</td>\n",
       "      <td>305.000000</td>\n",
       "      <td>636.000000</td>\n",
       "      <td>405.000000</td>\n",
       "    </tr>\n",
       "  </tbody>\n",
       "</table>\n",
       "</div>"
      ],
      "text/plain": [
       "               key      Bulk 1      Bulk 2       Bulk 3       Bulk 4  \\\n",
       "count  3129.000000  252.000000   22.000000  1298.000000  1014.000000   \n",
       "mean   1624.383509   39.242063  253.045455   113.879045   104.394477   \n",
       "std     933.337642   18.277654   21.180578    75.483494    48.184126   \n",
       "min       1.000000   10.000000  228.000000     6.000000    12.000000   \n",
       "25%     816.000000   27.000000  242.000000    58.000000    72.000000   \n",
       "50%    1622.000000   31.000000  251.500000    97.500000   102.000000   \n",
       "75%    2431.000000   46.000000  257.750000   152.000000   133.000000   \n",
       "max    3241.000000  185.000000  325.000000   454.000000   281.000000   \n",
       "\n",
       "           Bulk 5      Bulk 6      Bulk 7  Bulk 8      Bulk 9     Bulk 10  \\\n",
       "count   77.000000  576.000000   25.000000     1.0   19.000000  176.000000   \n",
       "mean   107.025974  118.925347  305.600000    49.0   76.315789   83.284091   \n",
       "std     81.790646   72.057776  191.022904     NaN   21.720581   26.060347   \n",
       "min     11.000000   17.000000   47.000000    49.0   63.000000   24.000000   \n",
       "25%     70.000000   69.750000  155.000000    49.0   66.000000   64.000000   \n",
       "50%     86.000000  100.000000  298.000000    49.0   68.000000   86.500000   \n",
       "75%    132.000000  157.000000  406.000000    49.0   70.500000  102.000000   \n",
       "max    603.000000  503.000000  772.000000    49.0  147.000000  159.000000   \n",
       "\n",
       "          Bulk 11      Bulk 12     Bulk 13      Bulk 14      Bulk 15  \n",
       "count  177.000000  2450.000000   18.000000  2806.000000  2248.000000  \n",
       "mean    76.819209   260.471020  181.111111   170.284747   160.513345  \n",
       "std     59.655365   120.649269   46.088009    65.868652    51.765319  \n",
       "min      8.000000    53.000000  151.000000    16.000000     1.000000  \n",
       "25%     25.000000   204.000000  153.250000   119.000000   105.000000  \n",
       "50%     64.000000   208.000000  155.500000   151.000000   160.000000  \n",
       "75%    106.000000   316.000000  203.500000   205.750000   205.000000  \n",
       "max    313.000000  1849.000000  305.000000   636.000000   405.000000  "
      ]
     },
     "execution_count": 50,
     "metadata": {},
     "output_type": "execute_result"
    }
   ],
   "source": [
    "# смотрим статистику данных\n",
    "data_bulk.describe()"
   ]
  },
  {
   "cell_type": "code",
   "execution_count": 51,
   "id": "8f8e4772",
   "metadata": {},
   "outputs": [
    {
     "data": {
      "image/png": "[encoded data removed]",
      "text/plain": [
       "<Figure size 1080x2160 with 15 Axes>"
      ]
     },
     "metadata": {
      "needs_background": "light"
     },
     "output_type": "display_data"
    }
   ],
   "source": [
    "# строим графики распределения значений\n",
    "bulks = data_bulk.drop('key', axis=1) \n",
    "\n",
    "fig = plt.figure(figsize=(15,30))\n",
    "\n",
    "for i in range(bulks.shape[1]):\n",
    "    \n",
    "    fig.add_subplot(5, 3, i+1)\n",
    "    plt.title(bulks.columns[i], fontsize=15)\n",
    "    sns.histplot(bulks.loc[:,bulks.columns[i]], bins=50)\n",
    "\n",
    "plt.show()"
   ]
  },
  {
   "cell_type": "code",
   "execution_count": 52,
   "id": "31f32b1b",
   "metadata": {},
   "outputs": [
    {
     "data": {
      "image/png": "[encoded data removed]",
      "text/plain": [
       "<Figure size 1080x2160 with 15 Axes>"
      ]
     },
     "metadata": {
      "needs_background": "light"
     },
     "output_type": "display_data"
    }
   ],
   "source": [
    "fig = plt.figure(figsize=(15,30))\n",
    "\n",
    "for i in range(bulks.shape[1]):\n",
    "    \n",
    "    fig.add_subplot(5, 3, i+1)\n",
    "    plt.title(bulks.columns[i], fontsize=15)\n",
    "    sns.boxplot(y=bulks.loc[:,bulks.columns[i]])\n",
    "\n",
    "plt.show()"
   ]
  },
  {
   "cell_type": "markdown",
   "id": "99d4df97",
   "metadata": {},
   "source": [
    "Среди графиков особо выделяется `Bulk12` - посмотрим на выбросное значение."
   ]
  },
  {
   "cell_type": "code",
   "execution_count": 53,
   "id": "e682a5ab",
   "metadata": {},
   "outputs": [
    {
     "data": {
      "text/html": [
       "<div>\n",
       "<style scoped>\n",
       "    .dataframe tbody tr th:only-of-type {\n",
       "        vertical-align: middle;\n",
       "    }\n",
       "\n",
       "    .dataframe tbody tr th {\n",
       "        vertical-align: top;\n",
       "    }\n",
       "\n",
       "    .dataframe thead th {\n",
       "        text-align: right;\n",
       "    }\n",
       "</style>\n",
       "<table border=\"1\" class=\"dataframe\">\n",
       "  <thead>\n",
       "    <tr style=\"text-align: right;\">\n",
       "      <th></th>\n",
       "      <th>key</th>\n",
       "      <th>Bulk 1</th>\n",
       "      <th>Bulk 2</th>\n",
       "      <th>Bulk 3</th>\n",
       "      <th>Bulk 4</th>\n",
       "      <th>Bulk 5</th>\n",
       "      <th>Bulk 6</th>\n",
       "      <th>Bulk 7</th>\n",
       "      <th>Bulk 8</th>\n",
       "      <th>Bulk 9</th>\n",
       "      <th>Bulk 10</th>\n",
       "      <th>Bulk 11</th>\n",
       "      <th>Bulk 12</th>\n",
       "      <th>Bulk 13</th>\n",
       "      <th>Bulk 14</th>\n",
       "      <th>Bulk 15</th>\n",
       "    </tr>\n",
       "  </thead>\n",
       "  <tbody>\n",
       "    <tr>\n",
       "      <th>303</th>\n",
       "      <td>322</td>\n",
       "      <td>185.0</td>\n",
       "      <td>NaN</td>\n",
       "      <td>101.0</td>\n",
       "      <td>58.0</td>\n",
       "      <td>NaN</td>\n",
       "      <td>NaN</td>\n",
       "      <td>406.0</td>\n",
       "      <td>NaN</td>\n",
       "      <td>NaN</td>\n",
       "      <td>NaN</td>\n",
       "      <td>NaN</td>\n",
       "      <td>1849.0</td>\n",
       "      <td>NaN</td>\n",
       "      <td>636.0</td>\n",
       "      <td>NaN</td>\n",
       "    </tr>\n",
       "  </tbody>\n",
       "</table>\n",
       "</div>"
      ],
      "text/plain": [
       "     key  Bulk 1  Bulk 2  Bulk 3  Bulk 4  Bulk 5  Bulk 6  Bulk 7  Bulk 8  \\\n",
       "303  322   185.0     NaN   101.0    58.0     NaN     NaN   406.0     NaN   \n",
       "\n",
       "     Bulk 9  Bulk 10  Bulk 11  Bulk 12  Bulk 13  Bulk 14  Bulk 15  \n",
       "303     NaN      NaN      NaN   1849.0      NaN    636.0      NaN  "
      ]
     },
     "execution_count": 53,
     "metadata": {},
     "output_type": "execute_result"
    }
   ],
   "source": [
    "data_bulk[data_bulk['Bulk 12'] > 1000]"
   ]
  },
  {
   "cell_type": "markdown",
   "id": "ee20e15f",
   "metadata": {},
   "source": [
    "В этой партии видно, что добавляли много материалов. Возможно, тогда значение не является аномальным."
   ]
  },
  {
   "cell_type": "markdown",
   "id": "7f33f3f4",
   "metadata": {},
   "source": [
    "Т.к. пропуск означает, что материал не добавляли в партию, пропуски лучше всего заменить нулевыми значениями."
   ]
  },
  {
   "cell_type": "code",
   "execution_count": 54,
   "id": "c1477896",
   "metadata": {},
   "outputs": [],
   "source": [
    "data_bulk = data_bulk.fillna(0)"
   ]
  },
  {
   "cell_type": "markdown",
   "id": "462aa8e6",
   "metadata": {},
   "source": [
    "### data_bulk_time"
   ]
  },
  {
   "cell_type": "markdown",
   "id": "1e080b97",
   "metadata": {},
   "source": [
    "- Проверим наличие пропусков и аномалий, изучим распределение признаков.\n",
    "- Проверим данные на адекватность и убедимся, что подача материала не измеряется сутками."
   ]
  },
  {
   "cell_type": "code",
   "execution_count": 55,
   "id": "5400b425",
   "metadata": {},
   "outputs": [
    {
     "data": {
      "text/html": [
       "<div>\n",
       "<style scoped>\n",
       "    .dataframe tbody tr th:only-of-type {\n",
       "        vertical-align: middle;\n",
       "    }\n",
       "\n",
       "    .dataframe tbody tr th {\n",
       "        vertical-align: top;\n",
       "    }\n",
       "\n",
       "    .dataframe thead th {\n",
       "        text-align: right;\n",
       "    }\n",
       "</style>\n",
       "<table border=\"1\" class=\"dataframe\">\n",
       "  <thead>\n",
       "    <tr style=\"text-align: right;\">\n",
       "      <th></th>\n",
       "      <th>key</th>\n",
       "      <th>Bulk 1</th>\n",
       "      <th>Bulk 2</th>\n",
       "      <th>Bulk 3</th>\n",
       "      <th>Bulk 4</th>\n",
       "      <th>Bulk 5</th>\n",
       "      <th>Bulk 6</th>\n",
       "      <th>Bulk 7</th>\n",
       "      <th>Bulk 8</th>\n",
       "      <th>Bulk 9</th>\n",
       "      <th>Bulk 10</th>\n",
       "      <th>Bulk 11</th>\n",
       "      <th>Bulk 12</th>\n",
       "      <th>Bulk 13</th>\n",
       "      <th>Bulk 14</th>\n",
       "      <th>Bulk 15</th>\n",
       "    </tr>\n",
       "  </thead>\n",
       "  <tbody>\n",
       "    <tr>\n",
       "      <th>0</th>\n",
       "      <td>1</td>\n",
       "      <td>None</td>\n",
       "      <td>None</td>\n",
       "      <td>None</td>\n",
       "      <td>11:21:30</td>\n",
       "      <td>None</td>\n",
       "      <td>None</td>\n",
       "      <td>None</td>\n",
       "      <td>None</td>\n",
       "      <td>None</td>\n",
       "      <td>None</td>\n",
       "      <td>None</td>\n",
       "      <td>11:03:52</td>\n",
       "      <td>None</td>\n",
       "      <td>11:03:52</td>\n",
       "      <td>11:03:52</td>\n",
       "    </tr>\n",
       "    <tr>\n",
       "      <th>1</th>\n",
       "      <td>2</td>\n",
       "      <td>None</td>\n",
       "      <td>None</td>\n",
       "      <td>None</td>\n",
       "      <td>11:46:38</td>\n",
       "      <td>None</td>\n",
       "      <td>None</td>\n",
       "      <td>None</td>\n",
       "      <td>None</td>\n",
       "      <td>None</td>\n",
       "      <td>None</td>\n",
       "      <td>None</td>\n",
       "      <td>11:40:20</td>\n",
       "      <td>None</td>\n",
       "      <td>11:40:20</td>\n",
       "      <td>11:40:20</td>\n",
       "    </tr>\n",
       "    <tr>\n",
       "      <th>2</th>\n",
       "      <td>3</td>\n",
       "      <td>None</td>\n",
       "      <td>None</td>\n",
       "      <td>None</td>\n",
       "      <td>12:31:06</td>\n",
       "      <td>None</td>\n",
       "      <td>None</td>\n",
       "      <td>None</td>\n",
       "      <td>None</td>\n",
       "      <td>None</td>\n",
       "      <td>None</td>\n",
       "      <td>None</td>\n",
       "      <td>12:09:40</td>\n",
       "      <td>None</td>\n",
       "      <td>12:09:40</td>\n",
       "      <td>12:09:40</td>\n",
       "    </tr>\n",
       "    <tr>\n",
       "      <th>3</th>\n",
       "      <td>4</td>\n",
       "      <td>None</td>\n",
       "      <td>None</td>\n",
       "      <td>None</td>\n",
       "      <td>12:48:43</td>\n",
       "      <td>None</td>\n",
       "      <td>None</td>\n",
       "      <td>None</td>\n",
       "      <td>None</td>\n",
       "      <td>None</td>\n",
       "      <td>None</td>\n",
       "      <td>None</td>\n",
       "      <td>12:41:24</td>\n",
       "      <td>None</td>\n",
       "      <td>12:41:24</td>\n",
       "      <td>12:41:24</td>\n",
       "    </tr>\n",
       "    <tr>\n",
       "      <th>4</th>\n",
       "      <td>5</td>\n",
       "      <td>None</td>\n",
       "      <td>None</td>\n",
       "      <td>None</td>\n",
       "      <td>13:18:50</td>\n",
       "      <td>None</td>\n",
       "      <td>None</td>\n",
       "      <td>None</td>\n",
       "      <td>None</td>\n",
       "      <td>None</td>\n",
       "      <td>None</td>\n",
       "      <td>None</td>\n",
       "      <td>13:12:56</td>\n",
       "      <td>None</td>\n",
       "      <td>13:12:56</td>\n",
       "      <td>13:12:56</td>\n",
       "    </tr>\n",
       "  </tbody>\n",
       "</table>\n",
       "</div>"
      ],
      "text/plain": [
       "   key Bulk 1 Bulk 2 Bulk 3    Bulk 4 Bulk 5 Bulk 6 Bulk 7 Bulk 8 Bulk 9  \\\n",
       "0    1   None   None   None  11:21:30   None   None   None   None   None   \n",
       "1    2   None   None   None  11:46:38   None   None   None   None   None   \n",
       "2    3   None   None   None  12:31:06   None   None   None   None   None   \n",
       "3    4   None   None   None  12:48:43   None   None   None   None   None   \n",
       "4    5   None   None   None  13:18:50   None   None   None   None   None   \n",
       "\n",
       "  Bulk 10 Bulk 11   Bulk 12 Bulk 13   Bulk 14   Bulk 15  \n",
       "0    None    None  11:03:52    None  11:03:52  11:03:52  \n",
       "1    None    None  11:40:20    None  11:40:20  11:40:20  \n",
       "2    None    None  12:09:40    None  12:09:40  12:09:40  \n",
       "3    None    None  12:41:24    None  12:41:24  12:41:24  \n",
       "4    None    None  13:12:56    None  13:12:56  13:12:56  "
      ]
     },
     "execution_count": 55,
     "metadata": {},
     "output_type": "execute_result"
    }
   ],
   "source": [
    "data_bulk_time.head()"
   ]
  },
  {
   "cell_type": "code",
   "execution_count": 56,
   "id": "68199599",
   "metadata": {},
   "outputs": [
    {
     "name": "stdout",
     "output_type": "stream",
     "text": [
      "[ nan  46.  27.  48.  29.  78.  52.  69.  51.  73.  92.  65.  75.  94.\n",
      " 185.  67.  37.  10.  43.  34.  54.  44.  39.  90.  62.  60.  31.  33.\n",
      "  50.  83.  58.  41.  38.  30.  63.  19.  21.  47. 118.  28.  36.  22.\n",
      "  32.  24. 104.  74.  26.  16.]\n",
      "[ nan 228. 247. 232. 325. 257. 233. 242. 248. 249. 282. 258. 270. 246.\n",
      " 254. 236.]\n",
      "[ nan  71. 151.  63.  89. 132.  67.  19.  21.  44. 244. 243. 182.  83.\n",
      "  81. 146. 149.  70.  53. 122. 152. 102.  23.  29.  69.  72. 141.  62.\n",
      " 349. 261.  92.  80. 123. 213. 305. 249. 171. 300. 262. 114. 198. 202.\n",
      " 315. 334. 220. 153. 124.  17.  91.  79. 115. 133. 199. 101.  68.  74.\n",
      "  52.  49. 131.  42. 226. 126.  60.  90.  36. 211. 301. 214. 190. 172.\n",
      "  59.  87. 246. 121. 116.  99.  93.  57. 177.  55. 119. 134. 165. 139.\n",
      "  25. 342. 174. 308. 286. 289. 138.  34.  38. 191. 290.  65.  95. 206.\n",
      "  37. 109.  40. 154. 100. 245. 128.  51. 272. 270. 353. 106. 335. 117.\n",
      " 197. 120. 137.  66. 144.  46. 193. 155. 248.  26. 239. 189. 298.  97.\n",
      " 125. 256. 143. 266. 183.  94. 405. 103.  82.  85.  45.  75.  96. 157.\n",
      " 105.  27. 358. 230. 264.  76.  61.  73. 268. 352.  78. 303. 186. 240.\n",
      " 110. 224. 235. 282. 280. 188. 136. 201. 234. 148. 302. 295. 113. 176.\n",
      "  31. 421. 207. 194. 251. 130. 147. 285. 169. 200. 104. 341. 454. 168.\n",
      "  86.  98. 269. 163. 129. 150. 236.  18. 227. 196. 142. 215. 237. 372.\n",
      " 354.  50.  64. 159. 395. 221. 265. 111. 162. 255. 167. 170. 252.  56.\n",
      " 263.  32.  43. 297.  48.  54.  77. 108. 178.  30. 225. 291. 294. 267.\n",
      "   6.  41.  47. 140. 203.  88. 107.  22. 181. 156. 212. 323. 158. 112.\n",
      " 127. 187. 343. 278. 231.  20. 145. 175. 379. 445. 304. 166. 118. 259.\n",
      " 310. 184. 324.  84.  39.  58. 173. 316. 250. 209. 135. 180. 185. 232.\n",
      "  24. 208. 222. 258. 204. 164. 242.  28. 210. 356. 260. 284. 292.]\n",
      "[ 43.  73.  34.  81.  78. 117.  99.  nan  69. 116. 115. 114. 106. 108.\n",
      "  51. 171. 223. 118. 111. 188. 141.  77.  62.  21. 125.  68.  50.  57.\n",
      " 133. 181.  47. 140. 103.  83. 175. 192. 145. 166. 172. 129. 135. 126.\n",
      "  59. 105. 107. 123. 206.  49.  71. 150.  84.  80.  98.  26. 152. 151.\n",
      "  75.  94.  93.  92. 144.  89.  37.  58. 164. 119. 168. 160. 205. 201.\n",
      " 239. 156. 265. 153. 195. 184. 146. 155. 163. 271. 190. 149.  39. 139.\n",
      "  66. 147. 162.  23.  74. 121.  90.  82. 112.  48. 176. 124.  46. 136.\n",
      "  63.  53.  25. 127. 102.  54. 138. 194.  56.  41. 142. 159. 132.  85.\n",
      "  60.  88. 177.  22. 131. 148.  45. 228. 101. 100. 109. 158. 104. 154.\n",
      "  17.  79.  42.  19. 157.  64. 221. 110.  55. 276. 281. 241. 233. 255.\n",
      " 222. 258. 224. 214.  33.  72.  97.  27.  76. 134.  96. 143.  86. 113.\n",
      " 122. 180. 120. 174.  65.  87. 243.  67.  28. 185. 202. 161.  40.  52.\n",
      "  95. 165.  30.  91.  36. 212. 196. 231. 193. 199.  38.  44. 130. 170.\n",
      " 256. 182. 203.  32. 128.  13.  70.  31. 179. 137. 167. 198. 189. 242.\n",
      " 186.  61. 208. 220.  12. 218.  16.  20. 238.  24. 200.]\n",
      "[ nan  72.  79. 112.  83.  86.  74. 189.  73. 184.  82. 148. 102.  88.\n",
      "  28.  43. 142.  19.  11.  23.  42.  31.  34.  22.  61.  33.  70. 603.\n",
      "  77. 180. 293. 242. 182. 121. 256. 197. 103. 146.  94. 132. 122. 234.\n",
      " 160. 144. 124. 128. 136. 120.  18.  78. 104.  50.  90.  84.  54.  62.]\n",
      "[ nan  72.  77.  76. 219. 108.  88.  84.  70. 172. 157. 185. 109. 146.\n",
      "  87.  66. 138. 106.  82.  80. 125.  36. 136.  73. 144.  85. 130.  79.\n",
      "  25.  89. 321.  75.  91. 121.  53. 107.  37. 350. 174. 179. 280. 153.\n",
      " 255. 168.  78.  81. 178.  95.  61. 141. 167. 155. 139. 212.  86. 140.\n",
      " 297. 162. 170.  71. 195. 151.  60. 163.  59. 264. 295.  64.  27.  44.\n",
      "  69. 189. 165. 114. 181. 160. 142. 208. 158.  24. 164. 231. 278. 234.\n",
      "  90. 224. 127. 166. 215. 271. 325.  40.  46. 232. 203. 220.  97.  99.\n",
      " 173.  55. 105. 137. 135. 112.  57. 206.  93. 156.  51. 103. 176.  38.\n",
      "  56. 128. 104. 110.  68. 252. 288. 186.  62.  49. 115.  63. 123. 134.\n",
      "  48.  42. 102.  28. 503. 272. 145. 143. 283. 226. 262.  83.  67. 150.\n",
      "  47. 359.  45. 124. 211. 187.  43. 250. 100. 120. 218. 198. 254. 159.\n",
      " 190. 247. 193. 236.  94. 330.  65. 230. 204. 118. 261. 177. 285. 101.\n",
      " 126.  92. 175. 407.  98. 117.  96. 111. 131.  17.  58.  74. 132.  30.\n",
      "  23. 294. 149.  54. 266. 265. 357. 194.  34. 196.  50. 184. 152. 202.\n",
      " 182. 180. 414. 326. 498. 284.  32. 240. 116.  26.]\n",
      "[ nan 178. 406.  75. 155. 252.  47.  92. 772. 576. 306. 392. 507. 553.\n",
      " 405. 506. 340. 296. 208. 298. 462. 250. 352. 108.  54.  50.]\n",
      "[nan 49.]\n",
      "[ nan  63.  68.  65.  71.  66.  70. 147. 111. 108.  74.]\n",
      "[ nan  56. 106. 105.  96.  57.  36.  54.  70.  52.  98.  63.  93.  46.\n",
      "  58.  34.  75.  38.  81.  24.  26.  67.  84. 100.  82.  50.  45.  88.\n",
      "  77. 147.  89.  83.  76.  55.  65.  85. 113.  32.  49. 103.  79. 107.\n",
      " 108.  95.  68.  87.  47.  90.  91.  97. 126. 104.  59.  99. 111. 118.\n",
      " 154. 115. 159. 124. 117. 101.  61.  73. 125.  28.  80. 128.  30.  86.\n",
      " 122.  72. 102.  62. 114.  64. 110.  92.]\n",
      "[ nan  23. 107.  25.  67. 211.  28. 225.  84.  50. 172.  49.  26. 131.\n",
      " 133. 174. 185.  21. 156. 136.  83. 139.  53. 162.  56. 313. 106.  29.\n",
      " 126. 242. 128.  32.  88.  39.  76. 176.  37. 103.  38.  96.  91.  95.\n",
      "  82. 104.  98.  66.  42.  71.  93.  51.  19.  17.  41. 198.  62. 100.\n",
      "  68. 152.  20. 205.  64. 178.  97. 154.  16.  14. 151.  18.  74. 114.\n",
      "  89.  72.  22.  87.  40. 188. 204.  81.  69.  47.  43.  31. 140.   8.\n",
      "  58.  24.  90.  46. 200. 148. 158. 102. 124. 144. 146.  48.  94.  34.\n",
      " 226. 206.  54. 120.]\n",
      "[ 206.  205.  207.  203.  204.  410.  107.  618.   nan  233.  104.  412.\n",
      "  105.  408.  459.  155.  159.  414.  380.  430.  116.  139.  175.  106.\n",
      "  103.  156.  311.  307.  415.  255.  257.  413.  358.  154.  312.  512.\n",
      "  256.  170.  126.  208.  157.  411.  463.  305.  561.  416.  123.  666.\n",
      "  253.  511.  254.  464.  458.  262.  436.  460.  108.  314.  518.  521.\n",
      "  313. 1849.  775.  158.  481.  236.  267.  362.  447.  321.  182.  361.\n",
      "  359.  363.  469.  177.  186.  446.  268.  223.  371.  226.  224.  346.\n",
      "  248.  567.  360.  221.  373.  264.  270.  461.  671.  309.  496.  202.\n",
      "  409.  423.  381.  185.  514.  333.  393.  285.  235.  528.  474.  275.\n",
      "  225.  263.  388.  334.  399.  271.  227.  173.  260.  383.  397.  165.\n",
      "  445.  304.  467.  510.  356.  462.  391.  563.  370.  507.  331.  310.\n",
      "  369.  465.  209.  368.  210.  406.  372.  377.  407.  508.  153.  109.\n",
      "  325.  404.  342.  382.  515.  129.  136.  484.  435.  669.  519.  516.\n",
      "  364.  379.  284.  281.  215.  419.  195.  340.  259.  431.  166.  308.\n",
      "  668.  212.  138.  127.  647.  513.  478.  468.  176.  453.  456.  330.\n",
      "  349.  444.  509.  473.  434.  216.  443.  261.  258.  392.  385.  303.\n",
      "  289.  466.  230.  562.  609.  475.  214.  437.  272.  422.  622.  291.\n",
      "  597.  301.  279.  290.  351.  332.  390.  306.  280.  187.  774.  420.\n",
      "   54.  616.  111.  335.  265.  184.  189.  352.  479.  168.   55.  124.\n",
      "  296.  667.  283.  183.  733.  401.  441.  378.  345.  319.  433.  417.\n",
      "  833.  432.  191.  564.  217.  167.  228.  143.  282.  178.  853.  570.\n",
      "  302.  222.  316.   53.  517.  343.  239.  162.  174.  620.  201.  457.\n",
      "  440.  252.  586.  135.  181.  375.  273.  418.  329.  247.  322.  137.\n",
      "  483.  425.  229.  180.  115.  219.  211.  421.  395.  501.  583.  685.\n",
      "  240.  402.  145.  394.  337.  220.  439.  125.  160.  550.  387.  277.\n",
      "  244.  213.  234.  192.  266.  242.  152.  250.  232.   58.  238.  102.\n",
      "  188.  276.  128.  452.  470.  522.  110.  366.  286.  572.  274.  624.\n",
      "  520.  428.  338.  558.  424.   88.   56.  542.]\n",
      "[ nan 154. 159. 278. 155. 153. 157. 204. 151. 305. 156. 214. 206. 202.\n",
      " 152.]\n",
      "[150. 149. 152. 153. 151. 201. 252.  99. 102. 101. 406. 251. 100. 103.\n",
      "  nan 249. 401. 202. 302. 204. 260. 257. 262. 159. 154. 160. 106. 321.\n",
      " 417. 310. 277. 235. 163. 174. 105. 177. 104. 206. 215. 109. 208. 210.\n",
      " 255. 198. 137. 126. 308. 313. 256. 306. 156. 157. 155. 225. 259. 312.\n",
      " 258. 241. 120. 254. 228. 209. 189. 196. 134. 220. 272. 211. 200. 121.\n",
      " 221. 110. 203. 111. 213. 107. 205. 131. 114. 129. 316. 231. 428. 311.\n",
      " 304. 305. 356. 253. 108. 264. 116. 307. 263. 207. 226. 336. 379. 281.\n",
      " 330. 405. 407. 309. 300. 636. 403. 353. 132. 130. 290. 279. 166. 265.\n",
      " 327. 237. 247. 212. 136. 232. 165. 295. 143. 135. 243. 216. 317. 145.\n",
      " 147. 214. 199. 144. 140. 168. 246. 133. 138. 271. 275. 178. 128. 124.\n",
      " 276. 268. 113. 242. 139. 119. 142. 195. 267. 182. 227. 194. 244. 219.\n",
      " 123. 324. 234. 192. 245. 283. 261. 217. 229. 148. 218. 333. 223. 288.\n",
      " 299. 158. 239.  52. 125. 354. 197. 190. 240. 127. 325. 117. 186. 248.\n",
      " 236. 185. 181. 282. 183. 291. 224. 303. 342. 180. 141. 184. 294. 385.\n",
      " 315. 193. 371. 269. 146. 191. 230. 266. 122. 222. 250. 112. 238. 233.\n",
      " 280. 375. 337. 179. 161. 173. 188. 167. 297.  72.  80.  69. 349.  97.\n",
      " 351.  98.  29. 278. 352. 301. 298. 320. 169. 398.  95. 296. 118.  96.\n",
      " 389. 348. 601. 347. 450.  48. 286. 187.  88. 366. 289. 115. 292.  94.\n",
      " 176.  93.  85. 170.  91. 171.  83.  89. 452. 504. 400.  90. 446.  64.\n",
      " 270.  68. 162.  82.  78.  18. 552. 402. 284. 164.  92.  86.  84.  76.\n",
      "  24. 274.  16. 390. 376.]\n",
      "[154. 153. 152. 203. 204. 202.  nan 101. 104. 156. 155. 205. 159. 124.\n",
      " 134. 105. 206. 201. 151. 103. 158. 102. 111. 114. 157.  64. 125. 218.\n",
      " 223. 187. 175. 222. 224. 106. 188. 200. 225. 183. 178. 210. 149.   1.\n",
      " 221. 405. 186. 196. 185. 150.  44. 189. 167.  55. 166. 211. 110. 209.\n",
      " 113. 190. 176. 112. 177. 164.  99. 100.  52.  53.  85. 207. 197. 193.\n",
      " 208.  51. 163. 148. 212. 216. 213. 258. 217. 220. 214. 215. 227.  86.\n",
      "  63. 219. 198. 145. 251. 199. 126. 123.  54.  73. 117. 127. 181. 191.\n",
      " 118. 228. 116. 160. 179. 192.  56. 169. 260. 107. 168. 261.  10.  59.\n",
      " 194.  75.  87. 290. 147. 295. 226. 232.  69. 235. 128. 108. 137.  65.\n",
      " 170. 337. 161. 231. 109. 174. 172. 171. 236. 115. 239. 233. 240. 230.\n",
      " 237. 246. 229. 238. 234. 136.  74.  58.  72. 320.  50. 322.  70. 262.\n",
      " 264. 266.  88.]\n"
     ]
    }
   ],
   "source": [
    "for column in bulks.columns:\n",
    "    print(bulks[column].unique())"
   ]
  },
  {
   "cell_type": "markdown",
   "id": "38d776b6",
   "metadata": {},
   "source": [
    "Пока не очень понятно, что это за значения и как их использовать."
   ]
  },
  {
   "cell_type": "markdown",
   "id": "3cbb1fc6",
   "metadata": {},
   "source": [
    "### data_gas"
   ]
  },
  {
   "cell_type": "markdown",
   "id": "c373ecd0",
   "metadata": {},
   "source": [
    "Для таблицы steel.data_gas:\n",
    "  \n",
    "Проведите исследовательский анализ данных: проверьте наличие пропусков и аномалий, изучите распределение признаков."
   ]
  },
  {
   "cell_type": "code",
   "execution_count": 57,
   "id": "3ef5dbe3",
   "metadata": {},
   "outputs": [
    {
     "data": {
      "text/html": [
       "<div>\n",
       "<style scoped>\n",
       "    .dataframe tbody tr th:only-of-type {\n",
       "        vertical-align: middle;\n",
       "    }\n",
       "\n",
       "    .dataframe tbody tr th {\n",
       "        vertical-align: top;\n",
       "    }\n",
       "\n",
       "    .dataframe thead th {\n",
       "        text-align: right;\n",
       "    }\n",
       "</style>\n",
       "<table border=\"1\" class=\"dataframe\">\n",
       "  <thead>\n",
       "    <tr style=\"text-align: right;\">\n",
       "      <th></th>\n",
       "      <th>key</th>\n",
       "      <th>gas</th>\n",
       "    </tr>\n",
       "  </thead>\n",
       "  <tbody>\n",
       "    <tr>\n",
       "      <th>0</th>\n",
       "      <td>1</td>\n",
       "      <td>29.749986</td>\n",
       "    </tr>\n",
       "    <tr>\n",
       "      <th>1</th>\n",
       "      <td>2</td>\n",
       "      <td>12.555561</td>\n",
       "    </tr>\n",
       "    <tr>\n",
       "      <th>2</th>\n",
       "      <td>3</td>\n",
       "      <td>28.554793</td>\n",
       "    </tr>\n",
       "    <tr>\n",
       "      <th>3</th>\n",
       "      <td>4</td>\n",
       "      <td>18.841219</td>\n",
       "    </tr>\n",
       "    <tr>\n",
       "      <th>4</th>\n",
       "      <td>5</td>\n",
       "      <td>5.413692</td>\n",
       "    </tr>\n",
       "  </tbody>\n",
       "</table>\n",
       "</div>"
      ],
      "text/plain": [
       "   key        gas\n",
       "0    1  29.749986\n",
       "1    2  12.555561\n",
       "2    3  28.554793\n",
       "3    4  18.841219\n",
       "4    5   5.413692"
      ]
     },
     "execution_count": 57,
     "metadata": {},
     "output_type": "execute_result"
    }
   ],
   "source": [
    "data_gas.head()"
   ]
  },
  {
   "cell_type": "code",
   "execution_count": 58,
   "id": "173aaa32",
   "metadata": {},
   "outputs": [
    {
     "data": {
      "text/plain": [
       "key    0\n",
       "gas    0\n",
       "dtype: int64"
      ]
     },
     "execution_count": 58,
     "metadata": {},
     "output_type": "execute_result"
    }
   ],
   "source": [
    "# смотрим пропуски\n",
    "data_gas.isna().sum()"
   ]
  },
  {
   "cell_type": "code",
   "execution_count": 59,
   "id": "13499f6a",
   "metadata": {},
   "outputs": [
    {
     "data": {
      "text/plain": [
       "count    3239.000000\n",
       "mean       11.002062\n",
       "std         6.220327\n",
       "min         0.008399\n",
       "25%         7.043089\n",
       "50%         9.836267\n",
       "75%        13.769915\n",
       "max        77.995040\n",
       "Name: gas, dtype: float64"
      ]
     },
     "execution_count": 59,
     "metadata": {},
     "output_type": "execute_result"
    }
   ],
   "source": [
    "# смотрим статистику\n",
    "data_gas['gas'].describe()"
   ]
  },
  {
   "cell_type": "code",
   "execution_count": 60,
   "id": "a8b21182",
   "metadata": {},
   "outputs": [
    {
     "data": {
      "image/png": "[encoded data removed]",
      "text/plain": [
       "<Figure size 432x288 with 1 Axes>"
      ]
     },
     "metadata": {
      "needs_background": "light"
     },
     "output_type": "display_data"
    }
   ],
   "source": [
    "# строим график распределения\n",
    "sns.histplot(data_gas['gas'])\n",
    "plt.title('Распределение значений объёма газа')\n",
    "plt.show()"
   ]
  },
  {
   "cell_type": "code",
   "execution_count": 61,
   "id": "88dcda2f",
   "metadata": {},
   "outputs": [
    {
     "data": {
      "image/png": "[encoded data removed]",
      "text/plain": [
       "<Figure size 432x288 with 1 Axes>"
      ]
     },
     "metadata": {
      "needs_background": "light"
     },
     "output_type": "display_data"
    }
   ],
   "source": [
    "# строим график размаха\n",
    "sns.boxplot(y=data_gas['gas'])\n",
    "plt.title('Размах значений объёма газа')\n",
    "plt.show()"
   ]
  },
  {
   "cell_type": "markdown",
   "id": "25b17157",
   "metadata": {},
   "source": [
    "Несмотря на большой размах значений, сильно неадекватных выбросов нет."
   ]
  },
  {
   "cell_type": "markdown",
   "id": "f02bd0f5",
   "metadata": {},
   "source": [
    "### data_temp"
   ]
  },
  {
   "cell_type": "code",
   "execution_count": 62,
   "id": "d77933d6",
   "metadata": {},
   "outputs": [
    {
     "data": {
      "text/html": [
       "<div>\n",
       "<style scoped>\n",
       "    .dataframe tbody tr th:only-of-type {\n",
       "        vertical-align: middle;\n",
       "    }\n",
       "\n",
       "    .dataframe tbody tr th {\n",
       "        vertical-align: top;\n",
       "    }\n",
       "\n",
       "    .dataframe thead th {\n",
       "        text-align: right;\n",
       "    }\n",
       "</style>\n",
       "<table border=\"1\" class=\"dataframe\">\n",
       "  <thead>\n",
       "    <tr style=\"text-align: right;\">\n",
       "      <th></th>\n",
       "      <th>key</th>\n",
       "      <th>MesaureTime</th>\n",
       "      <th>Temperature</th>\n",
       "    </tr>\n",
       "  </thead>\n",
       "  <tbody>\n",
       "    <tr>\n",
       "      <th>0</th>\n",
       "      <td>1</td>\n",
       "      <td>11:16:18</td>\n",
       "      <td>1571.0</td>\n",
       "    </tr>\n",
       "    <tr>\n",
       "      <th>1</th>\n",
       "      <td>1</td>\n",
       "      <td>11:25:53</td>\n",
       "      <td>1604.0</td>\n",
       "    </tr>\n",
       "    <tr>\n",
       "      <th>2</th>\n",
       "      <td>1</td>\n",
       "      <td>11:29:11</td>\n",
       "      <td>1618.0</td>\n",
       "    </tr>\n",
       "    <tr>\n",
       "      <th>3</th>\n",
       "      <td>1</td>\n",
       "      <td>11:30:01</td>\n",
       "      <td>1601.0</td>\n",
       "    </tr>\n",
       "    <tr>\n",
       "      <th>4</th>\n",
       "      <td>1</td>\n",
       "      <td>11:30:39</td>\n",
       "      <td>1613.0</td>\n",
       "    </tr>\n",
       "  </tbody>\n",
       "</table>\n",
       "</div>"
      ],
      "text/plain": [
       "   key MesaureTime  Temperature\n",
       "0    1    11:16:18       1571.0\n",
       "1    1    11:25:53       1604.0\n",
       "2    1    11:29:11       1618.0\n",
       "3    1    11:30:01       1601.0\n",
       "4    1    11:30:39       1613.0"
      ]
     },
     "execution_count": 62,
     "metadata": {},
     "output_type": "execute_result"
    }
   ],
   "source": [
    "data_temp.head()"
   ]
  },
  {
   "cell_type": "markdown",
   "id": "dbce4dbc",
   "metadata": {},
   "source": [
    "В колонке с температурой есть пропуски: надо проверить, есть ли пропуски в целевых значениях."
   ]
  },
  {
   "cell_type": "code",
   "execution_count": 63,
   "id": "a44af78a",
   "metadata": {
    "scrolled": true
   },
   "outputs": [
    {
     "data": {
      "text/plain": [
       "count    13006.000000\n",
       "mean      1591.840920\n",
       "std         21.375851\n",
       "min       1191.000000\n",
       "25%       1581.000000\n",
       "50%       1591.000000\n",
       "75%       1601.000000\n",
       "max       1705.000000\n",
       "Name: Temperature, dtype: float64"
      ]
     },
     "execution_count": 63,
     "metadata": {},
     "output_type": "execute_result"
    }
   ],
   "source": [
    "data_temp['Temperature'].describe()"
   ]
  },
  {
   "cell_type": "markdown",
   "id": "6a201f32",
   "metadata": {},
   "source": [
    "Известно, что температура ниже 1500 - это аномалия. Посмотрим, сколько аномальных значений."
   ]
  },
  {
   "cell_type": "code",
   "execution_count": 64,
   "id": "389bef24",
   "metadata": {
    "scrolled": true
   },
   "outputs": [
    {
     "data": {
      "text/html": [
       "<div>\n",
       "<style scoped>\n",
       "    .dataframe tbody tr th:only-of-type {\n",
       "        vertical-align: middle;\n",
       "    }\n",
       "\n",
       "    .dataframe tbody tr th {\n",
       "        vertical-align: top;\n",
       "    }\n",
       "\n",
       "    .dataframe thead th {\n",
       "        text-align: right;\n",
       "    }\n",
       "</style>\n",
       "<table border=\"1\" class=\"dataframe\">\n",
       "  <thead>\n",
       "    <tr style=\"text-align: right;\">\n",
       "      <th></th>\n",
       "      <th>key</th>\n",
       "      <th>MesaureTime</th>\n",
       "      <th>Temperature</th>\n",
       "    </tr>\n",
       "  </thead>\n",
       "  <tbody>\n",
       "    <tr>\n",
       "      <th>4350</th>\n",
       "      <td>867</td>\n",
       "      <td>14:21:00</td>\n",
       "      <td>1191.0</td>\n",
       "    </tr>\n",
       "    <tr>\n",
       "      <th>5978</th>\n",
       "      <td>1214</td>\n",
       "      <td>05:32:00</td>\n",
       "      <td>1208.0</td>\n",
       "    </tr>\n",
       "    <tr>\n",
       "      <th>7958</th>\n",
       "      <td>1619</td>\n",
       "      <td>11:03:54</td>\n",
       "      <td>1218.0</td>\n",
       "    </tr>\n",
       "    <tr>\n",
       "      <th>8913</th>\n",
       "      <td>1818</td>\n",
       "      <td>00:30:49</td>\n",
       "      <td>1383.0</td>\n",
       "    </tr>\n",
       "    <tr>\n",
       "      <th>8914</th>\n",
       "      <td>1818</td>\n",
       "      <td>00:31:40</td>\n",
       "      <td>1383.0</td>\n",
       "    </tr>\n",
       "    <tr>\n",
       "      <th>10127</th>\n",
       "      <td>2052</td>\n",
       "      <td>14:51:40</td>\n",
       "      <td>1227.0</td>\n",
       "    </tr>\n",
       "    <tr>\n",
       "      <th>12564</th>\n",
       "      <td>2561</td>\n",
       "      <td>07:34:15</td>\n",
       "      <td>1204.0</td>\n",
       "    </tr>\n",
       "  </tbody>\n",
       "</table>\n",
       "</div>"
      ],
      "text/plain": [
       "        key MesaureTime  Temperature\n",
       "4350    867    14:21:00       1191.0\n",
       "5978   1214    05:32:00       1208.0\n",
       "7958   1619    11:03:54       1218.0\n",
       "8913   1818    00:30:49       1383.0\n",
       "8914   1818    00:31:40       1383.0\n",
       "10127  2052    14:51:40       1227.0\n",
       "12564  2561    07:34:15       1204.0"
      ]
     },
     "execution_count": 64,
     "metadata": {},
     "output_type": "execute_result"
    }
   ],
   "source": [
    "data_temp.query('Temperature < 1500')"
   ]
  },
  {
   "cell_type": "markdown",
   "id": "05c8ea38",
   "metadata": {},
   "source": [
    "Эти записи лучше удалить из выборки."
   ]
  },
  {
   "cell_type": "code",
   "execution_count": 65,
   "id": "73315a8a",
   "metadata": {},
   "outputs": [],
   "source": [
    "data_temp = data_temp.query('Temperature >= 1500')"
   ]
  },
  {
   "cell_type": "code",
   "execution_count": 66,
   "id": "769ec783",
   "metadata": {},
   "outputs": [
    {
     "data": {
      "image/png": "[encoded data removed]",
      "text/plain": [
       "<Figure size 432x288 with 1 Axes>"
      ]
     },
     "metadata": {
      "needs_background": "light"
     },
     "output_type": "display_data"
    }
   ],
   "source": [
    "# строим график распределения температуры\n",
    "sns.histplot(data_temp['Temperature'])\n",
    "plt.title('Распределение температуры')\n",
    "plt.show()"
   ]
  },
  {
   "cell_type": "code",
   "execution_count": 67,
   "id": "06628460",
   "metadata": {
    "scrolled": true
   },
   "outputs": [
    {
     "data": {
      "image/png": "[encoded data removed]",
      "text/plain": [
       "<Figure size 432x288 with 1 Axes>"
      ]
     },
     "metadata": {
      "needs_background": "light"
     },
     "output_type": "display_data"
    }
   ],
   "source": [
    "# строим график размаха температуры\n",
    "sns.boxplot(y=data_temp['Temperature'])\n",
    "plt.title('Размах температуры')\n",
    "plt.show()"
   ]
  },
  {
   "cell_type": "markdown",
   "id": "d7d76857",
   "metadata": {},
   "source": [
    "В качестве признаков для обучения можно взять только первое значение температуры - все остальные приведут к утечке целевого признака."
   ]
  },
  {
   "cell_type": "code",
   "execution_count": 68,
   "id": "2685805c",
   "metadata": {},
   "outputs": [],
   "source": [
    "first_temperature = data_temp.groupby('key').agg({'key':'count',\n",
    "                              'Temperature':'first'}).query('key >= 2')"
   ]
  },
  {
   "cell_type": "code",
   "execution_count": 69,
   "id": "0baa78a1",
   "metadata": {},
   "outputs": [
    {
     "data": {
      "text/plain": [
       "key            0\n",
       "Temperature    0\n",
       "dtype: int64"
      ]
     },
     "execution_count": 69,
     "metadata": {},
     "output_type": "execute_result"
    }
   ],
   "source": [
    "first_temperature.isna().sum()"
   ]
  },
  {
   "cell_type": "code",
   "execution_count": 70,
   "id": "71cb5947",
   "metadata": {},
   "outputs": [
    {
     "data": {
      "text/html": [
       "<div>\n",
       "<style scoped>\n",
       "    .dataframe tbody tr th:only-of-type {\n",
       "        vertical-align: middle;\n",
       "    }\n",
       "\n",
       "    .dataframe tbody tr th {\n",
       "        vertical-align: top;\n",
       "    }\n",
       "\n",
       "    .dataframe thead th {\n",
       "        text-align: right;\n",
       "    }\n",
       "</style>\n",
       "<table border=\"1\" class=\"dataframe\">\n",
       "  <thead>\n",
       "    <tr style=\"text-align: right;\">\n",
       "      <th></th>\n",
       "      <th>key</th>\n",
       "      <th>Temperature</th>\n",
       "    </tr>\n",
       "    <tr>\n",
       "      <th>key</th>\n",
       "      <th></th>\n",
       "      <th></th>\n",
       "    </tr>\n",
       "  </thead>\n",
       "  <tbody>\n",
       "    <tr>\n",
       "      <th>1</th>\n",
       "      <td>5</td>\n",
       "      <td>1571.0</td>\n",
       "    </tr>\n",
       "    <tr>\n",
       "      <th>2</th>\n",
       "      <td>6</td>\n",
       "      <td>1581.0</td>\n",
       "    </tr>\n",
       "    <tr>\n",
       "      <th>3</th>\n",
       "      <td>5</td>\n",
       "      <td>1596.0</td>\n",
       "    </tr>\n",
       "    <tr>\n",
       "      <th>4</th>\n",
       "      <td>3</td>\n",
       "      <td>1601.0</td>\n",
       "    </tr>\n",
       "    <tr>\n",
       "      <th>5</th>\n",
       "      <td>2</td>\n",
       "      <td>1576.0</td>\n",
       "    </tr>\n",
       "  </tbody>\n",
       "</table>\n",
       "</div>"
      ],
      "text/plain": [
       "     key  Temperature\n",
       "key                  \n",
       "1      5       1571.0\n",
       "2      6       1581.0\n",
       "3      5       1596.0\n",
       "4      3       1601.0\n",
       "5      2       1576.0"
      ]
     },
     "execution_count": 70,
     "metadata": {},
     "output_type": "execute_result"
    }
   ],
   "source": [
    "first_temperature.head()"
   ]
  },
  {
   "cell_type": "code",
   "execution_count": 71,
   "id": "d8bf1b46",
   "metadata": {},
   "outputs": [],
   "source": [
    "target = data_temp.groupby('key').agg({'key':'count',\n",
    "                              'Temperature':'last'}).query('key >= 2')"
   ]
  },
  {
   "cell_type": "code",
   "execution_count": 72,
   "id": "f4550470",
   "metadata": {},
   "outputs": [
    {
     "data": {
      "text/html": [
       "<div>\n",
       "<style scoped>\n",
       "    .dataframe tbody tr th:only-of-type {\n",
       "        vertical-align: middle;\n",
       "    }\n",
       "\n",
       "    .dataframe tbody tr th {\n",
       "        vertical-align: top;\n",
       "    }\n",
       "\n",
       "    .dataframe thead th {\n",
       "        text-align: right;\n",
       "    }\n",
       "</style>\n",
       "<table border=\"1\" class=\"dataframe\">\n",
       "  <thead>\n",
       "    <tr style=\"text-align: right;\">\n",
       "      <th></th>\n",
       "      <th>key</th>\n",
       "      <th>Temperature</th>\n",
       "    </tr>\n",
       "    <tr>\n",
       "      <th>key</th>\n",
       "      <th></th>\n",
       "      <th></th>\n",
       "    </tr>\n",
       "  </thead>\n",
       "  <tbody>\n",
       "    <tr>\n",
       "      <th>1</th>\n",
       "      <td>5</td>\n",
       "      <td>1613.0</td>\n",
       "    </tr>\n",
       "    <tr>\n",
       "      <th>2</th>\n",
       "      <td>6</td>\n",
       "      <td>1602.0</td>\n",
       "    </tr>\n",
       "    <tr>\n",
       "      <th>3</th>\n",
       "      <td>5</td>\n",
       "      <td>1599.0</td>\n",
       "    </tr>\n",
       "    <tr>\n",
       "      <th>4</th>\n",
       "      <td>3</td>\n",
       "      <td>1625.0</td>\n",
       "    </tr>\n",
       "    <tr>\n",
       "      <th>5</th>\n",
       "      <td>2</td>\n",
       "      <td>1602.0</td>\n",
       "    </tr>\n",
       "  </tbody>\n",
       "</table>\n",
       "</div>"
      ],
      "text/plain": [
       "     key  Temperature\n",
       "key                  \n",
       "1      5       1613.0\n",
       "2      6       1602.0\n",
       "3      5       1599.0\n",
       "4      3       1625.0\n",
       "5      2       1602.0"
      ]
     },
     "execution_count": 72,
     "metadata": {},
     "output_type": "execute_result"
    }
   ],
   "source": [
    "target.head()"
   ]
  },
  {
   "cell_type": "markdown",
   "id": "367eb1a2",
   "metadata": {},
   "source": [
    "### data_wire"
   ]
  },
  {
   "cell_type": "markdown",
   "id": "a8c44c69",
   "metadata": {},
   "source": [
    "Для таблицы steel.data_wire:\n",
    "  \n",
    "Обработайте пропуски. Пропуск означает, что материал не добавляли в эту партию"
   ]
  },
  {
   "cell_type": "code",
   "execution_count": 73,
   "id": "8b0e2761",
   "metadata": {},
   "outputs": [
    {
     "data": {
      "text/html": [
       "<div>\n",
       "<style scoped>\n",
       "    .dataframe tbody tr th:only-of-type {\n",
       "        vertical-align: middle;\n",
       "    }\n",
       "\n",
       "    .dataframe tbody tr th {\n",
       "        vertical-align: top;\n",
       "    }\n",
       "\n",
       "    .dataframe thead th {\n",
       "        text-align: right;\n",
       "    }\n",
       "</style>\n",
       "<table border=\"1\" class=\"dataframe\">\n",
       "  <thead>\n",
       "    <tr style=\"text-align: right;\">\n",
       "      <th></th>\n",
       "      <th>key</th>\n",
       "      <th>Wire 1</th>\n",
       "      <th>Wire 2</th>\n",
       "      <th>Wire 3</th>\n",
       "      <th>Wire 4</th>\n",
       "      <th>Wire 5</th>\n",
       "      <th>Wire 6</th>\n",
       "      <th>Wire 7</th>\n",
       "      <th>Wire 8</th>\n",
       "      <th>Wire 9</th>\n",
       "    </tr>\n",
       "  </thead>\n",
       "  <tbody>\n",
       "    <tr>\n",
       "      <th>0</th>\n",
       "      <td>1</td>\n",
       "      <td>60.059998</td>\n",
       "      <td>NaN</td>\n",
       "      <td>NaN</td>\n",
       "      <td>NaN</td>\n",
       "      <td>NaN</td>\n",
       "      <td>NaN</td>\n",
       "      <td>NaN</td>\n",
       "      <td>NaN</td>\n",
       "      <td>NaN</td>\n",
       "    </tr>\n",
       "    <tr>\n",
       "      <th>1</th>\n",
       "      <td>2</td>\n",
       "      <td>96.052315</td>\n",
       "      <td>NaN</td>\n",
       "      <td>NaN</td>\n",
       "      <td>NaN</td>\n",
       "      <td>NaN</td>\n",
       "      <td>NaN</td>\n",
       "      <td>NaN</td>\n",
       "      <td>NaN</td>\n",
       "      <td>NaN</td>\n",
       "    </tr>\n",
       "    <tr>\n",
       "      <th>2</th>\n",
       "      <td>3</td>\n",
       "      <td>91.160157</td>\n",
       "      <td>NaN</td>\n",
       "      <td>NaN</td>\n",
       "      <td>NaN</td>\n",
       "      <td>NaN</td>\n",
       "      <td>NaN</td>\n",
       "      <td>NaN</td>\n",
       "      <td>NaN</td>\n",
       "      <td>NaN</td>\n",
       "    </tr>\n",
       "    <tr>\n",
       "      <th>3</th>\n",
       "      <td>4</td>\n",
       "      <td>89.063515</td>\n",
       "      <td>NaN</td>\n",
       "      <td>NaN</td>\n",
       "      <td>NaN</td>\n",
       "      <td>NaN</td>\n",
       "      <td>NaN</td>\n",
       "      <td>NaN</td>\n",
       "      <td>NaN</td>\n",
       "      <td>NaN</td>\n",
       "    </tr>\n",
       "    <tr>\n",
       "      <th>4</th>\n",
       "      <td>5</td>\n",
       "      <td>89.238236</td>\n",
       "      <td>9.11456</td>\n",
       "      <td>NaN</td>\n",
       "      <td>NaN</td>\n",
       "      <td>NaN</td>\n",
       "      <td>NaN</td>\n",
       "      <td>NaN</td>\n",
       "      <td>NaN</td>\n",
       "      <td>NaN</td>\n",
       "    </tr>\n",
       "  </tbody>\n",
       "</table>\n",
       "</div>"
      ],
      "text/plain": [
       "   key     Wire 1   Wire 2  Wire 3  Wire 4  Wire 5  Wire 6  Wire 7  Wire 8  \\\n",
       "0    1  60.059998      NaN     NaN     NaN     NaN     NaN     NaN     NaN   \n",
       "1    2  96.052315      NaN     NaN     NaN     NaN     NaN     NaN     NaN   \n",
       "2    3  91.160157      NaN     NaN     NaN     NaN     NaN     NaN     NaN   \n",
       "3    4  89.063515      NaN     NaN     NaN     NaN     NaN     NaN     NaN   \n",
       "4    5  89.238236  9.11456     NaN     NaN     NaN     NaN     NaN     NaN   \n",
       "\n",
       "   Wire 9  \n",
       "0     NaN  \n",
       "1     NaN  \n",
       "2     NaN  \n",
       "3     NaN  \n",
       "4     NaN  "
      ]
     },
     "execution_count": 73,
     "metadata": {},
     "output_type": "execute_result"
    }
   ],
   "source": [
    "data_wire.head()"
   ]
  },
  {
   "cell_type": "markdown",
   "id": "97431f1c",
   "metadata": {},
   "source": [
    "Т.к. пропуск обозначает, что этот материал не добавляли в партию, то пропуски можно заполнить нулевыми значениями."
   ]
  },
  {
   "cell_type": "code",
   "execution_count": 74,
   "id": "eaac4085",
   "metadata": {},
   "outputs": [],
   "source": [
    "data_wire = data_wire.fillna(0)"
   ]
  },
  {
   "cell_type": "code",
   "execution_count": 75,
   "id": "62a6485e",
   "metadata": {},
   "outputs": [
    {
     "data": {
      "text/plain": [
       "key       0\n",
       "Wire 1    0\n",
       "Wire 2    0\n",
       "Wire 3    0\n",
       "Wire 4    0\n",
       "Wire 5    0\n",
       "Wire 6    0\n",
       "Wire 7    0\n",
       "Wire 8    0\n",
       "Wire 9    0\n",
       "dtype: int64"
      ]
     },
     "execution_count": 75,
     "metadata": {},
     "output_type": "execute_result"
    }
   ],
   "source": [
    "data_wire.isna().sum()"
   ]
  },
  {
   "cell_type": "markdown",
   "id": "bfc296df",
   "metadata": {},
   "source": [
    "### data_wire_time"
   ]
  },
  {
   "cell_type": "markdown",
   "id": "e19b0140",
   "metadata": {},
   "source": [
    "Для таблицы steel.data_wire_time:\n",
    "  \n",
    "Проведите исследовательский анализ данных: проверьте наличие пропусков и аномалий, изучите распределение признаков.\n",
    "Проверьте данные на адекватность: например, убедитесь, что подача материала не измеряется сутками. Обратите внимание: перед вами не стоит задача временных рядов."
   ]
  },
  {
   "cell_type": "code",
   "execution_count": 76,
   "id": "a451c810",
   "metadata": {},
   "outputs": [
    {
     "data": {
      "text/html": [
       "<div>\n",
       "<style scoped>\n",
       "    .dataframe tbody tr th:only-of-type {\n",
       "        vertical-align: middle;\n",
       "    }\n",
       "\n",
       "    .dataframe tbody tr th {\n",
       "        vertical-align: top;\n",
       "    }\n",
       "\n",
       "    .dataframe thead th {\n",
       "        text-align: right;\n",
       "    }\n",
       "</style>\n",
       "<table border=\"1\" class=\"dataframe\">\n",
       "  <thead>\n",
       "    <tr style=\"text-align: right;\">\n",
       "      <th></th>\n",
       "      <th>key</th>\n",
       "      <th>Wire 1</th>\n",
       "      <th>Wire 2</th>\n",
       "      <th>Wire 3</th>\n",
       "      <th>Wire 4</th>\n",
       "      <th>Wire 5</th>\n",
       "      <th>Wire 6</th>\n",
       "      <th>Wire 7</th>\n",
       "      <th>Wire 8</th>\n",
       "      <th>Wire 9</th>\n",
       "    </tr>\n",
       "  </thead>\n",
       "  <tbody>\n",
       "    <tr>\n",
       "      <th>0</th>\n",
       "      <td>1</td>\n",
       "      <td>11:11:41</td>\n",
       "      <td>None</td>\n",
       "      <td>None</td>\n",
       "      <td>None</td>\n",
       "      <td>None</td>\n",
       "      <td>None</td>\n",
       "      <td>None</td>\n",
       "      <td>None</td>\n",
       "      <td>None</td>\n",
       "    </tr>\n",
       "    <tr>\n",
       "      <th>1</th>\n",
       "      <td>2</td>\n",
       "      <td>11:46:10</td>\n",
       "      <td>None</td>\n",
       "      <td>None</td>\n",
       "      <td>None</td>\n",
       "      <td>None</td>\n",
       "      <td>None</td>\n",
       "      <td>None</td>\n",
       "      <td>None</td>\n",
       "      <td>None</td>\n",
       "    </tr>\n",
       "    <tr>\n",
       "      <th>2</th>\n",
       "      <td>3</td>\n",
       "      <td>12:13:47</td>\n",
       "      <td>None</td>\n",
       "      <td>None</td>\n",
       "      <td>None</td>\n",
       "      <td>None</td>\n",
       "      <td>None</td>\n",
       "      <td>None</td>\n",
       "      <td>None</td>\n",
       "      <td>None</td>\n",
       "    </tr>\n",
       "    <tr>\n",
       "      <th>3</th>\n",
       "      <td>4</td>\n",
       "      <td>12:48:05</td>\n",
       "      <td>None</td>\n",
       "      <td>None</td>\n",
       "      <td>None</td>\n",
       "      <td>None</td>\n",
       "      <td>None</td>\n",
       "      <td>None</td>\n",
       "      <td>None</td>\n",
       "      <td>None</td>\n",
       "    </tr>\n",
       "    <tr>\n",
       "      <th>4</th>\n",
       "      <td>5</td>\n",
       "      <td>13:18:15</td>\n",
       "      <td>13:32:06</td>\n",
       "      <td>None</td>\n",
       "      <td>None</td>\n",
       "      <td>None</td>\n",
       "      <td>None</td>\n",
       "      <td>None</td>\n",
       "      <td>None</td>\n",
       "      <td>None</td>\n",
       "    </tr>\n",
       "  </tbody>\n",
       "</table>\n",
       "</div>"
      ],
      "text/plain": [
       "   key    Wire 1    Wire 2 Wire 3 Wire 4 Wire 5 Wire 6 Wire 7 Wire 8 Wire 9\n",
       "0    1  11:11:41      None   None   None   None   None   None   None   None\n",
       "1    2  11:46:10      None   None   None   None   None   None   None   None\n",
       "2    3  12:13:47      None   None   None   None   None   None   None   None\n",
       "3    4  12:48:05      None   None   None   None   None   None   None   None\n",
       "4    5  13:18:15  13:32:06   None   None   None   None   None   None   None"
      ]
     },
     "execution_count": 76,
     "metadata": {},
     "output_type": "execute_result"
    }
   ],
   "source": [
    "data_wire_time.head()"
   ]
  },
  {
   "cell_type": "code",
   "execution_count": 77,
   "id": "5e436fb4",
   "metadata": {},
   "outputs": [
    {
     "name": "stdout",
     "output_type": "stream",
     "text": [
      "07:26:50    2\n",
      "20:49:20    2\n",
      "00:15:25    2\n",
      "08:32:47    2\n",
      "19:26:52    2\n",
      "           ..\n",
      "13:54:50    1\n",
      "11:56:10    1\n",
      "03:45:00    1\n",
      "13:17:58    1\n",
      "17:05:17    1\n",
      "Name: Wire 1, Length: 3000, dtype: int64\n",
      "21:37:29    2\n",
      "19:57:26    2\n",
      "11:15:54    2\n",
      "05:13:57    2\n",
      "18:29:22    1\n",
      "           ..\n",
      "06:31:57    1\n",
      "14:21:55    1\n",
      "02:44:56    1\n",
      "00:51:49    1\n",
      "01:08:45    1\n",
      "Name: Wire 2, Length: 1075, dtype: int64\n",
      "19:25:35    1\n",
      "14:40:37    1\n",
      "08:50:52    1\n",
      "02:11:18    1\n",
      "15:27:54    1\n",
      "           ..\n",
      "13:19:54    1\n",
      "17:43:23    1\n",
      "22:01:36    1\n",
      "21:58:49    1\n",
      "20:37:44    1\n",
      "Name: Wire 3, Length: 63, dtype: int64\n",
      "16:09:18    1\n",
      "12:03:12    1\n",
      "10:16:15    1\n",
      "11:25:32    1\n",
      "08:48:23    1\n",
      "11:12:30    1\n",
      "11:52:57    1\n",
      "08:44:49    1\n",
      "18:09:32    1\n",
      "07:15:28    1\n",
      "14:40:29    1\n",
      "15:42:50    1\n",
      "09:00:26    1\n",
      "10:14:55    1\n",
      "Name: Wire 4, dtype: int64\n",
      "16:01:07    1\n",
      "Name: Wire 5, dtype: int64\n",
      "18:10:03    1\n",
      "15:37:45    1\n",
      "03:28:47    1\n",
      "19:30:11    1\n",
      "10:16:47    1\n",
      "           ..\n",
      "20:57:55    1\n",
      "23:44:52    1\n",
      "14:53:47    1\n",
      "14:29:00    1\n",
      "14:12:27    1\n",
      "Name: Wire 6, Length: 73, dtype: int64\n",
      "18:27:34    1\n",
      "13:05:02    1\n",
      "12:42:00    1\n",
      "11:23:43    1\n",
      "12:21:19    1\n",
      "12:08:44    1\n",
      "10:01:56    1\n",
      "19:46:16    1\n",
      "10:43:30    1\n",
      "16:45:44    1\n",
      "19:16:46    1\n",
      "Name: Wire 7, dtype: int64\n",
      "17:36:23    1\n",
      "13:54:30    1\n",
      "00:03:32    1\n",
      "13:20:31    1\n",
      "03:29:28    1\n",
      "01:44:34    1\n",
      "12:13:47    1\n",
      "00:36:39    1\n",
      "05:14:25    1\n",
      "04:37:08    1\n",
      "02:21:43    1\n",
      "01:08:35    1\n",
      "03:59:47    1\n",
      "18:58:07    1\n",
      "11:12:56    1\n",
      "14:33:40    1\n",
      "17:34:22    1\n",
      "02:50:24    1\n",
      "15:09:29    1\n",
      "Name: Wire 8, dtype: int64\n",
      "01:13:57    1\n",
      "20:48:59    1\n",
      "06:41:51    1\n",
      "22:47:35    1\n",
      "09:54:01    1\n",
      "03:51:31    1\n",
      "08:20:14    1\n",
      "05:22:29    1\n",
      "02:48:39    1\n",
      "07:26:42    1\n",
      "16:09:11    1\n",
      "13:04:13    1\n",
      "22:04:50    1\n",
      "23:15:18    1\n",
      "19:49:15    1\n",
      "21:42:24    1\n",
      "04:16:10    1\n",
      "20:28:19    1\n",
      "21:03:47    1\n",
      "02:25:26    1\n",
      "23:59:16    1\n",
      "04:57:26    1\n",
      "10:26:00    1\n",
      "08:17:45    1\n",
      "14:29:39    1\n",
      "23:25:28    1\n",
      "00:21:11    1\n",
      "05:45:01    1\n",
      "12:29:04    1\n",
      "Name: Wire 9, dtype: int64\n"
     ]
    }
   ],
   "source": [
    "for column in data_wire.drop('key', axis=1):\n",
    "    print(data_wire_time[column].value_counts())"
   ]
  },
  {
   "cell_type": "markdown",
   "id": "446ca9ae",
   "metadata": {},
   "source": [
    "Может быть этот признак потом пригодится для генерации других признаков."
   ]
  },
  {
   "cell_type": "markdown",
   "id": "5ba3c03e",
   "metadata": {},
   "source": [
    "### Объединение признаков"
   ]
  },
  {
   "cell_type": "markdown",
   "id": "9c008fa3",
   "metadata": {},
   "source": [
    "Объедините таблицы по ключу:\n",
    "  \n",
    "Каждой партии должно соответствовать одно наблюдение.\n",
    "Учтите: во все партии точно добавлялись сыпучие и проволочные материалы, везде была выполнена продувка газом и сплав всегда нагревался.\n",
    "Заказчик предупредил, что иногда наблюдается асинхронность в заданном времени разных датчиков. Если вы будете выстраивать хронологию процессов для разных партий, то можете столкнуться с тем, что полученная хронология не соответствует хронологии в описании. Не стоит воспринимать это как ошибку.\n",
    "Проведите исследовательский анализ данных объединённой таблицы и визуализируйте распределение каждого признака, напишите выводы.\n",
    "Проведите корреляционный анализ."
   ]
  },
  {
   "cell_type": "markdown",
   "id": "91262284",
   "metadata": {},
   "source": [
    "В итоговой таблице каждой партии должно соответствовать одно наблюдение. Будем делать объединение поэтапно."
   ]
  },
  {
   "cell_type": "code",
   "execution_count": 78,
   "id": "584f95a9",
   "metadata": {},
   "outputs": [
    {
     "data": {
      "text/html": [
       "<div>\n",
       "<style scoped>\n",
       "    .dataframe tbody tr th:only-of-type {\n",
       "        vertical-align: middle;\n",
       "    }\n",
       "\n",
       "    .dataframe tbody tr th {\n",
       "        vertical-align: top;\n",
       "    }\n",
       "\n",
       "    .dataframe thead th {\n",
       "        text-align: right;\n",
       "    }\n",
       "</style>\n",
       "<table border=\"1\" class=\"dataframe\">\n",
       "  <thead>\n",
       "    <tr style=\"text-align: right;\">\n",
       "      <th></th>\n",
       "      <th>key</th>\n",
       "      <th>ActivePower</th>\n",
       "      <th>ReactivePower</th>\n",
       "      <th>HeatingDuration</th>\n",
       "      <th>TotalPower</th>\n",
       "      <th>ActiveReactiveRatio</th>\n",
       "      <th>TotalHeatingDuration</th>\n",
       "      <th>AllPower</th>\n",
       "      <th>TotalActivePower</th>\n",
       "      <th>TotalReactivePower</th>\n",
       "      <th>TotalActiveReactiveRatio</th>\n",
       "      <th>IterationCnt</th>\n",
       "    </tr>\n",
       "  </thead>\n",
       "  <tbody>\n",
       "    <tr>\n",
       "      <th>0</th>\n",
       "      <td>1</td>\n",
       "      <td>0.976059</td>\n",
       "      <td>0.687084</td>\n",
       "      <td>228</td>\n",
       "      <td>1.663142</td>\n",
       "      <td>1.420582</td>\n",
       "      <td>1098</td>\n",
       "      <td>8.061388</td>\n",
       "      <td>4.878147</td>\n",
       "      <td>3.183241</td>\n",
       "      <td>1.532447</td>\n",
       "      <td>5</td>\n",
       "    </tr>\n",
       "    <tr>\n",
       "      <th>1</th>\n",
       "      <td>1</td>\n",
       "      <td>0.805607</td>\n",
       "      <td>0.520285</td>\n",
       "      <td>185</td>\n",
       "      <td>1.325892</td>\n",
       "      <td>1.548395</td>\n",
       "      <td>1098</td>\n",
       "      <td>8.061388</td>\n",
       "      <td>4.878147</td>\n",
       "      <td>3.183241</td>\n",
       "      <td>1.532447</td>\n",
       "      <td>5</td>\n",
       "    </tr>\n",
       "    <tr>\n",
       "      <th>2</th>\n",
       "      <td>1</td>\n",
       "      <td>0.744363</td>\n",
       "      <td>0.498805</td>\n",
       "      <td>172</td>\n",
       "      <td>1.243169</td>\n",
       "      <td>1.492292</td>\n",
       "      <td>1098</td>\n",
       "      <td>8.061388</td>\n",
       "      <td>4.878147</td>\n",
       "      <td>3.183241</td>\n",
       "      <td>1.532447</td>\n",
       "      <td>5</td>\n",
       "    </tr>\n",
       "    <tr>\n",
       "      <th>3</th>\n",
       "      <td>1</td>\n",
       "      <td>1.659363</td>\n",
       "      <td>1.062669</td>\n",
       "      <td>365</td>\n",
       "      <td>2.722032</td>\n",
       "      <td>1.561504</td>\n",
       "      <td>1098</td>\n",
       "      <td>8.061388</td>\n",
       "      <td>4.878147</td>\n",
       "      <td>3.183241</td>\n",
       "      <td>1.532447</td>\n",
       "      <td>5</td>\n",
       "    </tr>\n",
       "    <tr>\n",
       "      <th>4</th>\n",
       "      <td>1</td>\n",
       "      <td>0.692755</td>\n",
       "      <td>0.414397</td>\n",
       "      <td>148</td>\n",
       "      <td>1.107152</td>\n",
       "      <td>1.671717</td>\n",
       "      <td>1098</td>\n",
       "      <td>8.061388</td>\n",
       "      <td>4.878147</td>\n",
       "      <td>3.183241</td>\n",
       "      <td>1.532447</td>\n",
       "      <td>5</td>\n",
       "    </tr>\n",
       "  </tbody>\n",
       "</table>\n",
       "</div>"
      ],
      "text/plain": [
       "   key  ActivePower  ReactivePower  HeatingDuration  TotalPower  \\\n",
       "0    1     0.976059       0.687084              228    1.663142   \n",
       "1    1     0.805607       0.520285              185    1.325892   \n",
       "2    1     0.744363       0.498805              172    1.243169   \n",
       "3    1     1.659363       1.062669              365    2.722032   \n",
       "4    1     0.692755       0.414397              148    1.107152   \n",
       "\n",
       "   ActiveReactiveRatio  TotalHeatingDuration  AllPower  TotalActivePower  \\\n",
       "0             1.420582                  1098  8.061388          4.878147   \n",
       "1             1.548395                  1098  8.061388          4.878147   \n",
       "2             1.492292                  1098  8.061388          4.878147   \n",
       "3             1.561504                  1098  8.061388          4.878147   \n",
       "4             1.671717                  1098  8.061388          4.878147   \n",
       "\n",
       "   TotalReactivePower  TotalActiveReactiveRatio  IterationCnt  \n",
       "0            3.183241                  1.532447             5  \n",
       "1            3.183241                  1.532447             5  \n",
       "2            3.183241                  1.532447             5  \n",
       "3            3.183241                  1.532447             5  \n",
       "4            3.183241                  1.532447             5  "
      ]
     },
     "execution_count": 78,
     "metadata": {},
     "output_type": "execute_result"
    }
   ],
   "source": [
    "data_arc.head()"
   ]
  },
  {
   "cell_type": "markdown",
   "id": "245b0343",
   "metadata": {},
   "source": [
    "Из этой таблицы возьмём признаки `TotalHeatingDuration`, `AllPower`, `TotalActivePower`, `TotalReactivePower`, `TotalActiveReactiveRatio`, `IterationCnt`, которые характеризуют партию в целом."
   ]
  },
  {
   "cell_type": "code",
   "execution_count": 79,
   "id": "2a0aa304",
   "metadata": {},
   "outputs": [
    {
     "data": {
      "text/html": [
       "<div>\n",
       "<style scoped>\n",
       "    .dataframe tbody tr th:only-of-type {\n",
       "        vertical-align: middle;\n",
       "    }\n",
       "\n",
       "    .dataframe tbody tr th {\n",
       "        vertical-align: top;\n",
       "    }\n",
       "\n",
       "    .dataframe thead th {\n",
       "        text-align: right;\n",
       "    }\n",
       "</style>\n",
       "<table border=\"1\" class=\"dataframe\">\n",
       "  <thead>\n",
       "    <tr style=\"text-align: right;\">\n",
       "      <th></th>\n",
       "      <th>key</th>\n",
       "      <th>Bulk 1</th>\n",
       "      <th>Bulk 2</th>\n",
       "      <th>Bulk 3</th>\n",
       "      <th>Bulk 4</th>\n",
       "      <th>Bulk 5</th>\n",
       "      <th>Bulk 6</th>\n",
       "      <th>Bulk 7</th>\n",
       "      <th>Bulk 8</th>\n",
       "      <th>Bulk 9</th>\n",
       "      <th>Bulk 10</th>\n",
       "      <th>Bulk 11</th>\n",
       "      <th>Bulk 12</th>\n",
       "      <th>Bulk 13</th>\n",
       "      <th>Bulk 14</th>\n",
       "      <th>Bulk 15</th>\n",
       "    </tr>\n",
       "  </thead>\n",
       "  <tbody>\n",
       "    <tr>\n",
       "      <th>0</th>\n",
       "      <td>1</td>\n",
       "      <td>0.0</td>\n",
       "      <td>0.0</td>\n",
       "      <td>0.0</td>\n",
       "      <td>43.0</td>\n",
       "      <td>0.0</td>\n",
       "      <td>0.0</td>\n",
       "      <td>0.0</td>\n",
       "      <td>0.0</td>\n",
       "      <td>0.0</td>\n",
       "      <td>0.0</td>\n",
       "      <td>0.0</td>\n",
       "      <td>206.0</td>\n",
       "      <td>0.0</td>\n",
       "      <td>150.0</td>\n",
       "      <td>154.0</td>\n",
       "    </tr>\n",
       "    <tr>\n",
       "      <th>1</th>\n",
       "      <td>2</td>\n",
       "      <td>0.0</td>\n",
       "      <td>0.0</td>\n",
       "      <td>0.0</td>\n",
       "      <td>73.0</td>\n",
       "      <td>0.0</td>\n",
       "      <td>0.0</td>\n",
       "      <td>0.0</td>\n",
       "      <td>0.0</td>\n",
       "      <td>0.0</td>\n",
       "      <td>0.0</td>\n",
       "      <td>0.0</td>\n",
       "      <td>206.0</td>\n",
       "      <td>0.0</td>\n",
       "      <td>149.0</td>\n",
       "      <td>154.0</td>\n",
       "    </tr>\n",
       "    <tr>\n",
       "      <th>2</th>\n",
       "      <td>3</td>\n",
       "      <td>0.0</td>\n",
       "      <td>0.0</td>\n",
       "      <td>0.0</td>\n",
       "      <td>34.0</td>\n",
       "      <td>0.0</td>\n",
       "      <td>0.0</td>\n",
       "      <td>0.0</td>\n",
       "      <td>0.0</td>\n",
       "      <td>0.0</td>\n",
       "      <td>0.0</td>\n",
       "      <td>0.0</td>\n",
       "      <td>205.0</td>\n",
       "      <td>0.0</td>\n",
       "      <td>152.0</td>\n",
       "      <td>153.0</td>\n",
       "    </tr>\n",
       "    <tr>\n",
       "      <th>3</th>\n",
       "      <td>4</td>\n",
       "      <td>0.0</td>\n",
       "      <td>0.0</td>\n",
       "      <td>0.0</td>\n",
       "      <td>81.0</td>\n",
       "      <td>0.0</td>\n",
       "      <td>0.0</td>\n",
       "      <td>0.0</td>\n",
       "      <td>0.0</td>\n",
       "      <td>0.0</td>\n",
       "      <td>0.0</td>\n",
       "      <td>0.0</td>\n",
       "      <td>207.0</td>\n",
       "      <td>0.0</td>\n",
       "      <td>153.0</td>\n",
       "      <td>154.0</td>\n",
       "    </tr>\n",
       "    <tr>\n",
       "      <th>4</th>\n",
       "      <td>5</td>\n",
       "      <td>0.0</td>\n",
       "      <td>0.0</td>\n",
       "      <td>0.0</td>\n",
       "      <td>78.0</td>\n",
       "      <td>0.0</td>\n",
       "      <td>0.0</td>\n",
       "      <td>0.0</td>\n",
       "      <td>0.0</td>\n",
       "      <td>0.0</td>\n",
       "      <td>0.0</td>\n",
       "      <td>0.0</td>\n",
       "      <td>203.0</td>\n",
       "      <td>0.0</td>\n",
       "      <td>151.0</td>\n",
       "      <td>152.0</td>\n",
       "    </tr>\n",
       "  </tbody>\n",
       "</table>\n",
       "</div>"
      ],
      "text/plain": [
       "   key  Bulk 1  Bulk 2  Bulk 3  Bulk 4  Bulk 5  Bulk 6  Bulk 7  Bulk 8  \\\n",
       "0    1     0.0     0.0     0.0    43.0     0.0     0.0     0.0     0.0   \n",
       "1    2     0.0     0.0     0.0    73.0     0.0     0.0     0.0     0.0   \n",
       "2    3     0.0     0.0     0.0    34.0     0.0     0.0     0.0     0.0   \n",
       "3    4     0.0     0.0     0.0    81.0     0.0     0.0     0.0     0.0   \n",
       "4    5     0.0     0.0     0.0    78.0     0.0     0.0     0.0     0.0   \n",
       "\n",
       "   Bulk 9  Bulk 10  Bulk 11  Bulk 12  Bulk 13  Bulk 14  Bulk 15  \n",
       "0     0.0      0.0      0.0    206.0      0.0    150.0    154.0  \n",
       "1     0.0      0.0      0.0    206.0      0.0    149.0    154.0  \n",
       "2     0.0      0.0      0.0    205.0      0.0    152.0    153.0  \n",
       "3     0.0      0.0      0.0    207.0      0.0    153.0    154.0  \n",
       "4     0.0      0.0      0.0    203.0      0.0    151.0    152.0  "
      ]
     },
     "execution_count": 79,
     "metadata": {},
     "output_type": "execute_result"
    }
   ],
   "source": [
    "data_bulk.head()"
   ]
  },
  {
   "cell_type": "markdown",
   "id": "06343032",
   "metadata": {},
   "source": [
    "Отсюда берём все признаки."
   ]
  },
  {
   "cell_type": "code",
   "execution_count": 80,
   "id": "ab9469a7",
   "metadata": {},
   "outputs": [],
   "source": [
    "data_arc = data_arc.groupby('key').agg({\n",
    "                             'TotalHeatingDuration':'first',\n",
    "                             'AllPower':'first',\n",
    "                             'TotalActivePower':'first',\n",
    "                             'TotalReactivePower':'first',\n",
    "                             'TotalActiveReactiveRatio':'first',\n",
    "                             'IterationCnt':'first'})"
   ]
  },
  {
   "cell_type": "markdown",
   "id": "af295010",
   "metadata": {},
   "source": [
    "Проверим количество данных в обеих таблицах."
   ]
  },
  {
   "cell_type": "code",
   "execution_count": 81,
   "id": "f9f9c44c",
   "metadata": {},
   "outputs": [
    {
     "data": {
      "text/plain": [
       "((3214, 6), (3129, 16))"
      ]
     },
     "execution_count": 81,
     "metadata": {},
     "output_type": "execute_result"
    }
   ],
   "source": [
    "data_arc.shape, data_bulk.shape"
   ]
  },
  {
   "cell_type": "code",
   "execution_count": 82,
   "id": "74ccaa4d",
   "metadata": {
    "scrolled": true
   },
   "outputs": [
    {
     "data": {
      "text/html": [
       "<div>\n",
       "<style scoped>\n",
       "    .dataframe tbody tr th:only-of-type {\n",
       "        vertical-align: middle;\n",
       "    }\n",
       "\n",
       "    .dataframe tbody tr th {\n",
       "        vertical-align: top;\n",
       "    }\n",
       "\n",
       "    .dataframe thead th {\n",
       "        text-align: right;\n",
       "    }\n",
       "</style>\n",
       "<table border=\"1\" class=\"dataframe\">\n",
       "  <thead>\n",
       "    <tr style=\"text-align: right;\">\n",
       "      <th></th>\n",
       "      <th>TotalHeatingDuration</th>\n",
       "      <th>AllPower</th>\n",
       "      <th>TotalActivePower</th>\n",
       "      <th>TotalReactivePower</th>\n",
       "      <th>TotalActiveReactiveRatio</th>\n",
       "      <th>IterationCnt</th>\n",
       "    </tr>\n",
       "    <tr>\n",
       "      <th>key</th>\n",
       "      <th></th>\n",
       "      <th></th>\n",
       "      <th></th>\n",
       "      <th></th>\n",
       "      <th></th>\n",
       "      <th></th>\n",
       "    </tr>\n",
       "  </thead>\n",
       "  <tbody>\n",
       "    <tr>\n",
       "      <th>1</th>\n",
       "      <td>1098</td>\n",
       "      <td>8.061388</td>\n",
       "      <td>4.878147</td>\n",
       "      <td>3.183241</td>\n",
       "      <td>1.532447</td>\n",
       "      <td>5</td>\n",
       "    </tr>\n",
       "    <tr>\n",
       "      <th>2</th>\n",
       "      <td>811</td>\n",
       "      <td>5.050710</td>\n",
       "      <td>3.052598</td>\n",
       "      <td>1.998112</td>\n",
       "      <td>1.527741</td>\n",
       "      <td>4</td>\n",
       "    </tr>\n",
       "    <tr>\n",
       "      <th>3</th>\n",
       "      <td>655</td>\n",
       "      <td>4.124958</td>\n",
       "      <td>2.525882</td>\n",
       "      <td>1.599076</td>\n",
       "      <td>1.579589</td>\n",
       "      <td>5</td>\n",
       "    </tr>\n",
       "    <tr>\n",
       "      <th>4</th>\n",
       "      <td>741</td>\n",
       "      <td>5.269548</td>\n",
       "      <td>3.209250</td>\n",
       "      <td>2.060298</td>\n",
       "      <td>1.557663</td>\n",
       "      <td>4</td>\n",
       "    </tr>\n",
       "    <tr>\n",
       "      <th>5</th>\n",
       "      <td>869</td>\n",
       "      <td>5.599815</td>\n",
       "      <td>3.347173</td>\n",
       "      <td>2.252643</td>\n",
       "      <td>1.485887</td>\n",
       "      <td>4</td>\n",
       "    </tr>\n",
       "  </tbody>\n",
       "</table>\n",
       "</div>"
      ],
      "text/plain": [
       "     TotalHeatingDuration  AllPower  TotalActivePower  TotalReactivePower  \\\n",
       "key                                                                         \n",
       "1                    1098  8.061388          4.878147            3.183241   \n",
       "2                     811  5.050710          3.052598            1.998112   \n",
       "3                     655  4.124958          2.525882            1.599076   \n",
       "4                     741  5.269548          3.209250            2.060298   \n",
       "5                     869  5.599815          3.347173            2.252643   \n",
       "\n",
       "     TotalActiveReactiveRatio  IterationCnt  \n",
       "key                                          \n",
       "1                    1.532447             5  \n",
       "2                    1.527741             4  \n",
       "3                    1.579589             5  \n",
       "4                    1.557663             4  \n",
       "5                    1.485887             4  "
      ]
     },
     "execution_count": 82,
     "metadata": {},
     "output_type": "execute_result"
    }
   ],
   "source": [
    "data_arc.head()"
   ]
  },
  {
   "cell_type": "code",
   "execution_count": 83,
   "id": "07d39826",
   "metadata": {},
   "outputs": [
    {
     "data": {
      "text/html": [
       "<div>\n",
       "<style scoped>\n",
       "    .dataframe tbody tr th:only-of-type {\n",
       "        vertical-align: middle;\n",
       "    }\n",
       "\n",
       "    .dataframe tbody tr th {\n",
       "        vertical-align: top;\n",
       "    }\n",
       "\n",
       "    .dataframe thead th {\n",
       "        text-align: right;\n",
       "    }\n",
       "</style>\n",
       "<table border=\"1\" class=\"dataframe\">\n",
       "  <thead>\n",
       "    <tr style=\"text-align: right;\">\n",
       "      <th></th>\n",
       "      <th>key</th>\n",
       "      <th>Bulk 1</th>\n",
       "      <th>Bulk 2</th>\n",
       "      <th>Bulk 3</th>\n",
       "      <th>Bulk 4</th>\n",
       "      <th>Bulk 5</th>\n",
       "      <th>Bulk 6</th>\n",
       "      <th>Bulk 7</th>\n",
       "      <th>Bulk 8</th>\n",
       "      <th>Bulk 9</th>\n",
       "      <th>Bulk 10</th>\n",
       "      <th>Bulk 11</th>\n",
       "      <th>Bulk 12</th>\n",
       "      <th>Bulk 13</th>\n",
       "      <th>Bulk 14</th>\n",
       "      <th>Bulk 15</th>\n",
       "    </tr>\n",
       "  </thead>\n",
       "  <tbody>\n",
       "    <tr>\n",
       "      <th>0</th>\n",
       "      <td>1</td>\n",
       "      <td>0.0</td>\n",
       "      <td>0.0</td>\n",
       "      <td>0.0</td>\n",
       "      <td>43.0</td>\n",
       "      <td>0.0</td>\n",
       "      <td>0.0</td>\n",
       "      <td>0.0</td>\n",
       "      <td>0.0</td>\n",
       "      <td>0.0</td>\n",
       "      <td>0.0</td>\n",
       "      <td>0.0</td>\n",
       "      <td>206.0</td>\n",
       "      <td>0.0</td>\n",
       "      <td>150.0</td>\n",
       "      <td>154.0</td>\n",
       "    </tr>\n",
       "    <tr>\n",
       "      <th>1</th>\n",
       "      <td>2</td>\n",
       "      <td>0.0</td>\n",
       "      <td>0.0</td>\n",
       "      <td>0.0</td>\n",
       "      <td>73.0</td>\n",
       "      <td>0.0</td>\n",
       "      <td>0.0</td>\n",
       "      <td>0.0</td>\n",
       "      <td>0.0</td>\n",
       "      <td>0.0</td>\n",
       "      <td>0.0</td>\n",
       "      <td>0.0</td>\n",
       "      <td>206.0</td>\n",
       "      <td>0.0</td>\n",
       "      <td>149.0</td>\n",
       "      <td>154.0</td>\n",
       "    </tr>\n",
       "    <tr>\n",
       "      <th>2</th>\n",
       "      <td>3</td>\n",
       "      <td>0.0</td>\n",
       "      <td>0.0</td>\n",
       "      <td>0.0</td>\n",
       "      <td>34.0</td>\n",
       "      <td>0.0</td>\n",
       "      <td>0.0</td>\n",
       "      <td>0.0</td>\n",
       "      <td>0.0</td>\n",
       "      <td>0.0</td>\n",
       "      <td>0.0</td>\n",
       "      <td>0.0</td>\n",
       "      <td>205.0</td>\n",
       "      <td>0.0</td>\n",
       "      <td>152.0</td>\n",
       "      <td>153.0</td>\n",
       "    </tr>\n",
       "    <tr>\n",
       "      <th>3</th>\n",
       "      <td>4</td>\n",
       "      <td>0.0</td>\n",
       "      <td>0.0</td>\n",
       "      <td>0.0</td>\n",
       "      <td>81.0</td>\n",
       "      <td>0.0</td>\n",
       "      <td>0.0</td>\n",
       "      <td>0.0</td>\n",
       "      <td>0.0</td>\n",
       "      <td>0.0</td>\n",
       "      <td>0.0</td>\n",
       "      <td>0.0</td>\n",
       "      <td>207.0</td>\n",
       "      <td>0.0</td>\n",
       "      <td>153.0</td>\n",
       "      <td>154.0</td>\n",
       "    </tr>\n",
       "    <tr>\n",
       "      <th>4</th>\n",
       "      <td>5</td>\n",
       "      <td>0.0</td>\n",
       "      <td>0.0</td>\n",
       "      <td>0.0</td>\n",
       "      <td>78.0</td>\n",
       "      <td>0.0</td>\n",
       "      <td>0.0</td>\n",
       "      <td>0.0</td>\n",
       "      <td>0.0</td>\n",
       "      <td>0.0</td>\n",
       "      <td>0.0</td>\n",
       "      <td>0.0</td>\n",
       "      <td>203.0</td>\n",
       "      <td>0.0</td>\n",
       "      <td>151.0</td>\n",
       "      <td>152.0</td>\n",
       "    </tr>\n",
       "  </tbody>\n",
       "</table>\n",
       "</div>"
      ],
      "text/plain": [
       "   key  Bulk 1  Bulk 2  Bulk 3  Bulk 4  Bulk 5  Bulk 6  Bulk 7  Bulk 8  \\\n",
       "0    1     0.0     0.0     0.0    43.0     0.0     0.0     0.0     0.0   \n",
       "1    2     0.0     0.0     0.0    73.0     0.0     0.0     0.0     0.0   \n",
       "2    3     0.0     0.0     0.0    34.0     0.0     0.0     0.0     0.0   \n",
       "3    4     0.0     0.0     0.0    81.0     0.0     0.0     0.0     0.0   \n",
       "4    5     0.0     0.0     0.0    78.0     0.0     0.0     0.0     0.0   \n",
       "\n",
       "   Bulk 9  Bulk 10  Bulk 11  Bulk 12  Bulk 13  Bulk 14  Bulk 15  \n",
       "0     0.0      0.0      0.0    206.0      0.0    150.0    154.0  \n",
       "1     0.0      0.0      0.0    206.0      0.0    149.0    154.0  \n",
       "2     0.0      0.0      0.0    205.0      0.0    152.0    153.0  \n",
       "3     0.0      0.0      0.0    207.0      0.0    153.0    154.0  \n",
       "4     0.0      0.0      0.0    203.0      0.0    151.0    152.0  "
      ]
     },
     "execution_count": 83,
     "metadata": {},
     "output_type": "execute_result"
    }
   ],
   "source": [
    "data_bulk.head()"
   ]
  },
  {
   "cell_type": "code",
   "execution_count": 84,
   "id": "10e5a069",
   "metadata": {},
   "outputs": [],
   "source": [
    "data = data_arc.merge(data_bulk, on='key', how='inner')"
   ]
  },
  {
   "cell_type": "code",
   "execution_count": 85,
   "id": "48d0ab13",
   "metadata": {},
   "outputs": [
    {
     "data": {
      "text/html": [
       "<div>\n",
       "<style scoped>\n",
       "    .dataframe tbody tr th:only-of-type {\n",
       "        vertical-align: middle;\n",
       "    }\n",
       "\n",
       "    .dataframe tbody tr th {\n",
       "        vertical-align: top;\n",
       "    }\n",
       "\n",
       "    .dataframe thead th {\n",
       "        text-align: right;\n",
       "    }\n",
       "</style>\n",
       "<table border=\"1\" class=\"dataframe\">\n",
       "  <thead>\n",
       "    <tr style=\"text-align: right;\">\n",
       "      <th></th>\n",
       "      <th>key</th>\n",
       "      <th>TotalHeatingDuration</th>\n",
       "      <th>AllPower</th>\n",
       "      <th>TotalActivePower</th>\n",
       "      <th>TotalReactivePower</th>\n",
       "      <th>TotalActiveReactiveRatio</th>\n",
       "      <th>IterationCnt</th>\n",
       "      <th>Bulk 1</th>\n",
       "      <th>Bulk 2</th>\n",
       "      <th>Bulk 3</th>\n",
       "      <th>...</th>\n",
       "      <th>Bulk 6</th>\n",
       "      <th>Bulk 7</th>\n",
       "      <th>Bulk 8</th>\n",
       "      <th>Bulk 9</th>\n",
       "      <th>Bulk 10</th>\n",
       "      <th>Bulk 11</th>\n",
       "      <th>Bulk 12</th>\n",
       "      <th>Bulk 13</th>\n",
       "      <th>Bulk 14</th>\n",
       "      <th>Bulk 15</th>\n",
       "    </tr>\n",
       "  </thead>\n",
       "  <tbody>\n",
       "    <tr>\n",
       "      <th>0</th>\n",
       "      <td>1</td>\n",
       "      <td>1098</td>\n",
       "      <td>8.061388</td>\n",
       "      <td>4.878147</td>\n",
       "      <td>3.183241</td>\n",
       "      <td>1.532447</td>\n",
       "      <td>5</td>\n",
       "      <td>0.0</td>\n",
       "      <td>0.0</td>\n",
       "      <td>0.0</td>\n",
       "      <td>...</td>\n",
       "      <td>0.0</td>\n",
       "      <td>0.0</td>\n",
       "      <td>0.0</td>\n",
       "      <td>0.0</td>\n",
       "      <td>0.0</td>\n",
       "      <td>0.0</td>\n",
       "      <td>206.0</td>\n",
       "      <td>0.0</td>\n",
       "      <td>150.0</td>\n",
       "      <td>154.0</td>\n",
       "    </tr>\n",
       "    <tr>\n",
       "      <th>1</th>\n",
       "      <td>2</td>\n",
       "      <td>811</td>\n",
       "      <td>5.050710</td>\n",
       "      <td>3.052598</td>\n",
       "      <td>1.998112</td>\n",
       "      <td>1.527741</td>\n",
       "      <td>4</td>\n",
       "      <td>0.0</td>\n",
       "      <td>0.0</td>\n",
       "      <td>0.0</td>\n",
       "      <td>...</td>\n",
       "      <td>0.0</td>\n",
       "      <td>0.0</td>\n",
       "      <td>0.0</td>\n",
       "      <td>0.0</td>\n",
       "      <td>0.0</td>\n",
       "      <td>0.0</td>\n",
       "      <td>206.0</td>\n",
       "      <td>0.0</td>\n",
       "      <td>149.0</td>\n",
       "      <td>154.0</td>\n",
       "    </tr>\n",
       "    <tr>\n",
       "      <th>2</th>\n",
       "      <td>3</td>\n",
       "      <td>655</td>\n",
       "      <td>4.124958</td>\n",
       "      <td>2.525882</td>\n",
       "      <td>1.599076</td>\n",
       "      <td>1.579589</td>\n",
       "      <td>5</td>\n",
       "      <td>0.0</td>\n",
       "      <td>0.0</td>\n",
       "      <td>0.0</td>\n",
       "      <td>...</td>\n",
       "      <td>0.0</td>\n",
       "      <td>0.0</td>\n",
       "      <td>0.0</td>\n",
       "      <td>0.0</td>\n",
       "      <td>0.0</td>\n",
       "      <td>0.0</td>\n",
       "      <td>205.0</td>\n",
       "      <td>0.0</td>\n",
       "      <td>152.0</td>\n",
       "      <td>153.0</td>\n",
       "    </tr>\n",
       "    <tr>\n",
       "      <th>3</th>\n",
       "      <td>4</td>\n",
       "      <td>741</td>\n",
       "      <td>5.269548</td>\n",
       "      <td>3.209250</td>\n",
       "      <td>2.060298</td>\n",
       "      <td>1.557663</td>\n",
       "      <td>4</td>\n",
       "      <td>0.0</td>\n",
       "      <td>0.0</td>\n",
       "      <td>0.0</td>\n",
       "      <td>...</td>\n",
       "      <td>0.0</td>\n",
       "      <td>0.0</td>\n",
       "      <td>0.0</td>\n",
       "      <td>0.0</td>\n",
       "      <td>0.0</td>\n",
       "      <td>0.0</td>\n",
       "      <td>207.0</td>\n",
       "      <td>0.0</td>\n",
       "      <td>153.0</td>\n",
       "      <td>154.0</td>\n",
       "    </tr>\n",
       "    <tr>\n",
       "      <th>4</th>\n",
       "      <td>5</td>\n",
       "      <td>869</td>\n",
       "      <td>5.599815</td>\n",
       "      <td>3.347173</td>\n",
       "      <td>2.252643</td>\n",
       "      <td>1.485887</td>\n",
       "      <td>4</td>\n",
       "      <td>0.0</td>\n",
       "      <td>0.0</td>\n",
       "      <td>0.0</td>\n",
       "      <td>...</td>\n",
       "      <td>0.0</td>\n",
       "      <td>0.0</td>\n",
       "      <td>0.0</td>\n",
       "      <td>0.0</td>\n",
       "      <td>0.0</td>\n",
       "      <td>0.0</td>\n",
       "      <td>203.0</td>\n",
       "      <td>0.0</td>\n",
       "      <td>151.0</td>\n",
       "      <td>152.0</td>\n",
       "    </tr>\n",
       "  </tbody>\n",
       "</table>\n",
       "<p>5 rows × 22 columns</p>\n",
       "</div>"
      ],
      "text/plain": [
       "   key  TotalHeatingDuration  AllPower  TotalActivePower  TotalReactivePower  \\\n",
       "0    1                  1098  8.061388          4.878147            3.183241   \n",
       "1    2                   811  5.050710          3.052598            1.998112   \n",
       "2    3                   655  4.124958          2.525882            1.599076   \n",
       "3    4                   741  5.269548          3.209250            2.060298   \n",
       "4    5                   869  5.599815          3.347173            2.252643   \n",
       "\n",
       "   TotalActiveReactiveRatio  IterationCnt  Bulk 1  Bulk 2  Bulk 3  ...  \\\n",
       "0                  1.532447             5     0.0     0.0     0.0  ...   \n",
       "1                  1.527741             4     0.0     0.0     0.0  ...   \n",
       "2                  1.579589             5     0.0     0.0     0.0  ...   \n",
       "3                  1.557663             4     0.0     0.0     0.0  ...   \n",
       "4                  1.485887             4     0.0     0.0     0.0  ...   \n",
       "\n",
       "   Bulk 6  Bulk 7  Bulk 8  Bulk 9  Bulk 10  Bulk 11  Bulk 12  Bulk 13  \\\n",
       "0     0.0     0.0     0.0     0.0      0.0      0.0    206.0      0.0   \n",
       "1     0.0     0.0     0.0     0.0      0.0      0.0    206.0      0.0   \n",
       "2     0.0     0.0     0.0     0.0      0.0      0.0    205.0      0.0   \n",
       "3     0.0     0.0     0.0     0.0      0.0      0.0    207.0      0.0   \n",
       "4     0.0     0.0     0.0     0.0      0.0      0.0    203.0      0.0   \n",
       "\n",
       "   Bulk 14  Bulk 15  \n",
       "0    150.0    154.0  \n",
       "1    149.0    154.0  \n",
       "2    152.0    153.0  \n",
       "3    153.0    154.0  \n",
       "4    151.0    152.0  \n",
       "\n",
       "[5 rows x 22 columns]"
      ]
     },
     "execution_count": 85,
     "metadata": {},
     "output_type": "execute_result"
    }
   ],
   "source": [
    "data.head()"
   ]
  },
  {
   "cell_type": "code",
   "execution_count": 86,
   "id": "b16e3055",
   "metadata": {},
   "outputs": [
    {
     "name": "stdout",
     "output_type": "stream",
     "text": [
      "<class 'pandas.core.frame.DataFrame'>\n",
      "Int64Index: 3128 entries, 0 to 3127\n",
      "Data columns (total 22 columns):\n",
      " #   Column                    Non-Null Count  Dtype  \n",
      "---  ------                    --------------  -----  \n",
      " 0   key                       3128 non-null   int64  \n",
      " 1   TotalHeatingDuration      3128 non-null   int64  \n",
      " 2   AllPower                  3128 non-null   float64\n",
      " 3   TotalActivePower          3128 non-null   float64\n",
      " 4   TotalReactivePower        3128 non-null   float64\n",
      " 5   TotalActiveReactiveRatio  3128 non-null   float64\n",
      " 6   IterationCnt              3128 non-null   int64  \n",
      " 7   Bulk 1                    3128 non-null   float64\n",
      " 8   Bulk 2                    3128 non-null   float64\n",
      " 9   Bulk 3                    3128 non-null   float64\n",
      " 10  Bulk 4                    3128 non-null   float64\n",
      " 11  Bulk 5                    3128 non-null   float64\n",
      " 12  Bulk 6                    3128 non-null   float64\n",
      " 13  Bulk 7                    3128 non-null   float64\n",
      " 14  Bulk 8                    3128 non-null   float64\n",
      " 15  Bulk 9                    3128 non-null   float64\n",
      " 16  Bulk 10                   3128 non-null   float64\n",
      " 17  Bulk 11                   3128 non-null   float64\n",
      " 18  Bulk 12                   3128 non-null   float64\n",
      " 19  Bulk 13                   3128 non-null   float64\n",
      " 20  Bulk 14                   3128 non-null   float64\n",
      " 21  Bulk 15                   3128 non-null   float64\n",
      "dtypes: float64(19), int64(3)\n",
      "memory usage: 562.1 KB\n"
     ]
    }
   ],
   "source": [
    "data.info()"
   ]
  },
  {
   "cell_type": "markdown",
   "id": "ba818414",
   "metadata": {},
   "source": [
    "Идём дальше."
   ]
  },
  {
   "cell_type": "code",
   "execution_count": 87,
   "id": "fd9d4b43",
   "metadata": {},
   "outputs": [
    {
     "data": {
      "text/html": [
       "<div>\n",
       "<style scoped>\n",
       "    .dataframe tbody tr th:only-of-type {\n",
       "        vertical-align: middle;\n",
       "    }\n",
       "\n",
       "    .dataframe tbody tr th {\n",
       "        vertical-align: top;\n",
       "    }\n",
       "\n",
       "    .dataframe thead th {\n",
       "        text-align: right;\n",
       "    }\n",
       "</style>\n",
       "<table border=\"1\" class=\"dataframe\">\n",
       "  <thead>\n",
       "    <tr style=\"text-align: right;\">\n",
       "      <th></th>\n",
       "      <th>key</th>\n",
       "      <th>Bulk 1</th>\n",
       "      <th>Bulk 2</th>\n",
       "      <th>Bulk 3</th>\n",
       "      <th>Bulk 4</th>\n",
       "      <th>Bulk 5</th>\n",
       "      <th>Bulk 6</th>\n",
       "      <th>Bulk 7</th>\n",
       "      <th>Bulk 8</th>\n",
       "      <th>Bulk 9</th>\n",
       "      <th>Bulk 10</th>\n",
       "      <th>Bulk 11</th>\n",
       "      <th>Bulk 12</th>\n",
       "      <th>Bulk 13</th>\n",
       "      <th>Bulk 14</th>\n",
       "      <th>Bulk 15</th>\n",
       "    </tr>\n",
       "  </thead>\n",
       "  <tbody>\n",
       "    <tr>\n",
       "      <th>0</th>\n",
       "      <td>1</td>\n",
       "      <td>None</td>\n",
       "      <td>None</td>\n",
       "      <td>None</td>\n",
       "      <td>11:21:30</td>\n",
       "      <td>None</td>\n",
       "      <td>None</td>\n",
       "      <td>None</td>\n",
       "      <td>None</td>\n",
       "      <td>None</td>\n",
       "      <td>None</td>\n",
       "      <td>None</td>\n",
       "      <td>11:03:52</td>\n",
       "      <td>None</td>\n",
       "      <td>11:03:52</td>\n",
       "      <td>11:03:52</td>\n",
       "    </tr>\n",
       "    <tr>\n",
       "      <th>1</th>\n",
       "      <td>2</td>\n",
       "      <td>None</td>\n",
       "      <td>None</td>\n",
       "      <td>None</td>\n",
       "      <td>11:46:38</td>\n",
       "      <td>None</td>\n",
       "      <td>None</td>\n",
       "      <td>None</td>\n",
       "      <td>None</td>\n",
       "      <td>None</td>\n",
       "      <td>None</td>\n",
       "      <td>None</td>\n",
       "      <td>11:40:20</td>\n",
       "      <td>None</td>\n",
       "      <td>11:40:20</td>\n",
       "      <td>11:40:20</td>\n",
       "    </tr>\n",
       "    <tr>\n",
       "      <th>2</th>\n",
       "      <td>3</td>\n",
       "      <td>None</td>\n",
       "      <td>None</td>\n",
       "      <td>None</td>\n",
       "      <td>12:31:06</td>\n",
       "      <td>None</td>\n",
       "      <td>None</td>\n",
       "      <td>None</td>\n",
       "      <td>None</td>\n",
       "      <td>None</td>\n",
       "      <td>None</td>\n",
       "      <td>None</td>\n",
       "      <td>12:09:40</td>\n",
       "      <td>None</td>\n",
       "      <td>12:09:40</td>\n",
       "      <td>12:09:40</td>\n",
       "    </tr>\n",
       "    <tr>\n",
       "      <th>3</th>\n",
       "      <td>4</td>\n",
       "      <td>None</td>\n",
       "      <td>None</td>\n",
       "      <td>None</td>\n",
       "      <td>12:48:43</td>\n",
       "      <td>None</td>\n",
       "      <td>None</td>\n",
       "      <td>None</td>\n",
       "      <td>None</td>\n",
       "      <td>None</td>\n",
       "      <td>None</td>\n",
       "      <td>None</td>\n",
       "      <td>12:41:24</td>\n",
       "      <td>None</td>\n",
       "      <td>12:41:24</td>\n",
       "      <td>12:41:24</td>\n",
       "    </tr>\n",
       "    <tr>\n",
       "      <th>4</th>\n",
       "      <td>5</td>\n",
       "      <td>None</td>\n",
       "      <td>None</td>\n",
       "      <td>None</td>\n",
       "      <td>13:18:50</td>\n",
       "      <td>None</td>\n",
       "      <td>None</td>\n",
       "      <td>None</td>\n",
       "      <td>None</td>\n",
       "      <td>None</td>\n",
       "      <td>None</td>\n",
       "      <td>None</td>\n",
       "      <td>13:12:56</td>\n",
       "      <td>None</td>\n",
       "      <td>13:12:56</td>\n",
       "      <td>13:12:56</td>\n",
       "    </tr>\n",
       "  </tbody>\n",
       "</table>\n",
       "</div>"
      ],
      "text/plain": [
       "   key Bulk 1 Bulk 2 Bulk 3    Bulk 4 Bulk 5 Bulk 6 Bulk 7 Bulk 8 Bulk 9  \\\n",
       "0    1   None   None   None  11:21:30   None   None   None   None   None   \n",
       "1    2   None   None   None  11:46:38   None   None   None   None   None   \n",
       "2    3   None   None   None  12:31:06   None   None   None   None   None   \n",
       "3    4   None   None   None  12:48:43   None   None   None   None   None   \n",
       "4    5   None   None   None  13:18:50   None   None   None   None   None   \n",
       "\n",
       "  Bulk 10 Bulk 11   Bulk 12 Bulk 13   Bulk 14   Bulk 15  \n",
       "0    None    None  11:03:52    None  11:03:52  11:03:52  \n",
       "1    None    None  11:40:20    None  11:40:20  11:40:20  \n",
       "2    None    None  12:09:40    None  12:09:40  12:09:40  \n",
       "3    None    None  12:41:24    None  12:41:24  12:41:24  \n",
       "4    None    None  13:12:56    None  13:12:56  13:12:56  "
      ]
     },
     "execution_count": 87,
     "metadata": {},
     "output_type": "execute_result"
    }
   ],
   "source": [
    "data_bulk_time.head()"
   ]
  },
  {
   "cell_type": "markdown",
   "id": "ab83f346",
   "metadata": {},
   "source": [
    "В этой таблице значения в странных измерениях, поэтому пока не будем использовать."
   ]
  },
  {
   "cell_type": "code",
   "execution_count": 88,
   "id": "e9ea90ea",
   "metadata": {},
   "outputs": [
    {
     "data": {
      "text/html": [
       "<div>\n",
       "<style scoped>\n",
       "    .dataframe tbody tr th:only-of-type {\n",
       "        vertical-align: middle;\n",
       "    }\n",
       "\n",
       "    .dataframe tbody tr th {\n",
       "        vertical-align: top;\n",
       "    }\n",
       "\n",
       "    .dataframe thead th {\n",
       "        text-align: right;\n",
       "    }\n",
       "</style>\n",
       "<table border=\"1\" class=\"dataframe\">\n",
       "  <thead>\n",
       "    <tr style=\"text-align: right;\">\n",
       "      <th></th>\n",
       "      <th>key</th>\n",
       "      <th>gas</th>\n",
       "    </tr>\n",
       "  </thead>\n",
       "  <tbody>\n",
       "    <tr>\n",
       "      <th>0</th>\n",
       "      <td>1</td>\n",
       "      <td>29.749986</td>\n",
       "    </tr>\n",
       "    <tr>\n",
       "      <th>1</th>\n",
       "      <td>2</td>\n",
       "      <td>12.555561</td>\n",
       "    </tr>\n",
       "    <tr>\n",
       "      <th>2</th>\n",
       "      <td>3</td>\n",
       "      <td>28.554793</td>\n",
       "    </tr>\n",
       "    <tr>\n",
       "      <th>3</th>\n",
       "      <td>4</td>\n",
       "      <td>18.841219</td>\n",
       "    </tr>\n",
       "    <tr>\n",
       "      <th>4</th>\n",
       "      <td>5</td>\n",
       "      <td>5.413692</td>\n",
       "    </tr>\n",
       "  </tbody>\n",
       "</table>\n",
       "</div>"
      ],
      "text/plain": [
       "   key        gas\n",
       "0    1  29.749986\n",
       "1    2  12.555561\n",
       "2    3  28.554793\n",
       "3    4  18.841219\n",
       "4    5   5.413692"
      ]
     },
     "execution_count": 88,
     "metadata": {},
     "output_type": "execute_result"
    }
   ],
   "source": [
    "data_gas.head()"
   ]
  },
  {
   "cell_type": "code",
   "execution_count": 89,
   "id": "d343d747",
   "metadata": {},
   "outputs": [
    {
     "data": {
      "text/plain": [
       "(3239, 2)"
      ]
     },
     "execution_count": 89,
     "metadata": {},
     "output_type": "execute_result"
    }
   ],
   "source": [
    "data_gas.shape"
   ]
  },
  {
   "cell_type": "markdown",
   "id": "89f6a297",
   "metadata": {},
   "source": [
    "Объём газа включаем в таблицу."
   ]
  },
  {
   "cell_type": "code",
   "execution_count": 90,
   "id": "75bed5e8",
   "metadata": {},
   "outputs": [],
   "source": [
    "data = data.merge(data_gas, on='key', how='inner')"
   ]
  },
  {
   "cell_type": "code",
   "execution_count": 91,
   "id": "f6a7db26",
   "metadata": {},
   "outputs": [
    {
     "data": {
      "text/html": [
       "<div>\n",
       "<style scoped>\n",
       "    .dataframe tbody tr th:only-of-type {\n",
       "        vertical-align: middle;\n",
       "    }\n",
       "\n",
       "    .dataframe tbody tr th {\n",
       "        vertical-align: top;\n",
       "    }\n",
       "\n",
       "    .dataframe thead th {\n",
       "        text-align: right;\n",
       "    }\n",
       "</style>\n",
       "<table border=\"1\" class=\"dataframe\">\n",
       "  <thead>\n",
       "    <tr style=\"text-align: right;\">\n",
       "      <th></th>\n",
       "      <th>key</th>\n",
       "      <th>TotalHeatingDuration</th>\n",
       "      <th>AllPower</th>\n",
       "      <th>TotalActivePower</th>\n",
       "      <th>TotalReactivePower</th>\n",
       "      <th>TotalActiveReactiveRatio</th>\n",
       "      <th>IterationCnt</th>\n",
       "      <th>Bulk 1</th>\n",
       "      <th>Bulk 2</th>\n",
       "      <th>Bulk 3</th>\n",
       "      <th>...</th>\n",
       "      <th>Bulk 7</th>\n",
       "      <th>Bulk 8</th>\n",
       "      <th>Bulk 9</th>\n",
       "      <th>Bulk 10</th>\n",
       "      <th>Bulk 11</th>\n",
       "      <th>Bulk 12</th>\n",
       "      <th>Bulk 13</th>\n",
       "      <th>Bulk 14</th>\n",
       "      <th>Bulk 15</th>\n",
       "      <th>gas</th>\n",
       "    </tr>\n",
       "  </thead>\n",
       "  <tbody>\n",
       "    <tr>\n",
       "      <th>0</th>\n",
       "      <td>1</td>\n",
       "      <td>1098</td>\n",
       "      <td>8.061388</td>\n",
       "      <td>4.878147</td>\n",
       "      <td>3.183241</td>\n",
       "      <td>1.532447</td>\n",
       "      <td>5</td>\n",
       "      <td>0.0</td>\n",
       "      <td>0.0</td>\n",
       "      <td>0.0</td>\n",
       "      <td>...</td>\n",
       "      <td>0.0</td>\n",
       "      <td>0.0</td>\n",
       "      <td>0.0</td>\n",
       "      <td>0.0</td>\n",
       "      <td>0.0</td>\n",
       "      <td>206.0</td>\n",
       "      <td>0.0</td>\n",
       "      <td>150.0</td>\n",
       "      <td>154.0</td>\n",
       "      <td>29.749986</td>\n",
       "    </tr>\n",
       "    <tr>\n",
       "      <th>1</th>\n",
       "      <td>2</td>\n",
       "      <td>811</td>\n",
       "      <td>5.050710</td>\n",
       "      <td>3.052598</td>\n",
       "      <td>1.998112</td>\n",
       "      <td>1.527741</td>\n",
       "      <td>4</td>\n",
       "      <td>0.0</td>\n",
       "      <td>0.0</td>\n",
       "      <td>0.0</td>\n",
       "      <td>...</td>\n",
       "      <td>0.0</td>\n",
       "      <td>0.0</td>\n",
       "      <td>0.0</td>\n",
       "      <td>0.0</td>\n",
       "      <td>0.0</td>\n",
       "      <td>206.0</td>\n",
       "      <td>0.0</td>\n",
       "      <td>149.0</td>\n",
       "      <td>154.0</td>\n",
       "      <td>12.555561</td>\n",
       "    </tr>\n",
       "    <tr>\n",
       "      <th>2</th>\n",
       "      <td>3</td>\n",
       "      <td>655</td>\n",
       "      <td>4.124958</td>\n",
       "      <td>2.525882</td>\n",
       "      <td>1.599076</td>\n",
       "      <td>1.579589</td>\n",
       "      <td>5</td>\n",
       "      <td>0.0</td>\n",
       "      <td>0.0</td>\n",
       "      <td>0.0</td>\n",
       "      <td>...</td>\n",
       "      <td>0.0</td>\n",
       "      <td>0.0</td>\n",
       "      <td>0.0</td>\n",
       "      <td>0.0</td>\n",
       "      <td>0.0</td>\n",
       "      <td>205.0</td>\n",
       "      <td>0.0</td>\n",
       "      <td>152.0</td>\n",
       "      <td>153.0</td>\n",
       "      <td>28.554793</td>\n",
       "    </tr>\n",
       "    <tr>\n",
       "      <th>3</th>\n",
       "      <td>4</td>\n",
       "      <td>741</td>\n",
       "      <td>5.269548</td>\n",
       "      <td>3.209250</td>\n",
       "      <td>2.060298</td>\n",
       "      <td>1.557663</td>\n",
       "      <td>4</td>\n",
       "      <td>0.0</td>\n",
       "      <td>0.0</td>\n",
       "      <td>0.0</td>\n",
       "      <td>...</td>\n",
       "      <td>0.0</td>\n",
       "      <td>0.0</td>\n",
       "      <td>0.0</td>\n",
       "      <td>0.0</td>\n",
       "      <td>0.0</td>\n",
       "      <td>207.0</td>\n",
       "      <td>0.0</td>\n",
       "      <td>153.0</td>\n",
       "      <td>154.0</td>\n",
       "      <td>18.841219</td>\n",
       "    </tr>\n",
       "    <tr>\n",
       "      <th>4</th>\n",
       "      <td>5</td>\n",
       "      <td>869</td>\n",
       "      <td>5.599815</td>\n",
       "      <td>3.347173</td>\n",
       "      <td>2.252643</td>\n",
       "      <td>1.485887</td>\n",
       "      <td>4</td>\n",
       "      <td>0.0</td>\n",
       "      <td>0.0</td>\n",
       "      <td>0.0</td>\n",
       "      <td>...</td>\n",
       "      <td>0.0</td>\n",
       "      <td>0.0</td>\n",
       "      <td>0.0</td>\n",
       "      <td>0.0</td>\n",
       "      <td>0.0</td>\n",
       "      <td>203.0</td>\n",
       "      <td>0.0</td>\n",
       "      <td>151.0</td>\n",
       "      <td>152.0</td>\n",
       "      <td>5.413692</td>\n",
       "    </tr>\n",
       "  </tbody>\n",
       "</table>\n",
       "<p>5 rows × 23 columns</p>\n",
       "</div>"
      ],
      "text/plain": [
       "   key  TotalHeatingDuration  AllPower  TotalActivePower  TotalReactivePower  \\\n",
       "0    1                  1098  8.061388          4.878147            3.183241   \n",
       "1    2                   811  5.050710          3.052598            1.998112   \n",
       "2    3                   655  4.124958          2.525882            1.599076   \n",
       "3    4                   741  5.269548          3.209250            2.060298   \n",
       "4    5                   869  5.599815          3.347173            2.252643   \n",
       "\n",
       "   TotalActiveReactiveRatio  IterationCnt  Bulk 1  Bulk 2  Bulk 3  ...  \\\n",
       "0                  1.532447             5     0.0     0.0     0.0  ...   \n",
       "1                  1.527741             4     0.0     0.0     0.0  ...   \n",
       "2                  1.579589             5     0.0     0.0     0.0  ...   \n",
       "3                  1.557663             4     0.0     0.0     0.0  ...   \n",
       "4                  1.485887             4     0.0     0.0     0.0  ...   \n",
       "\n",
       "   Bulk 7  Bulk 8  Bulk 9  Bulk 10  Bulk 11  Bulk 12  Bulk 13  Bulk 14  \\\n",
       "0     0.0     0.0     0.0      0.0      0.0    206.0      0.0    150.0   \n",
       "1     0.0     0.0     0.0      0.0      0.0    206.0      0.0    149.0   \n",
       "2     0.0     0.0     0.0      0.0      0.0    205.0      0.0    152.0   \n",
       "3     0.0     0.0     0.0      0.0      0.0    207.0      0.0    153.0   \n",
       "4     0.0     0.0     0.0      0.0      0.0    203.0      0.0    151.0   \n",
       "\n",
       "   Bulk 15        gas  \n",
       "0    154.0  29.749986  \n",
       "1    154.0  12.555561  \n",
       "2    153.0  28.554793  \n",
       "3    154.0  18.841219  \n",
       "4    152.0   5.413692  \n",
       "\n",
       "[5 rows x 23 columns]"
      ]
     },
     "execution_count": 91,
     "metadata": {},
     "output_type": "execute_result"
    }
   ],
   "source": [
    "data.head()"
   ]
  },
  {
   "cell_type": "code",
   "execution_count": 92,
   "id": "ffd12570",
   "metadata": {},
   "outputs": [
    {
     "data": {
      "text/html": [
       "<div>\n",
       "<style scoped>\n",
       "    .dataframe tbody tr th:only-of-type {\n",
       "        vertical-align: middle;\n",
       "    }\n",
       "\n",
       "    .dataframe tbody tr th {\n",
       "        vertical-align: top;\n",
       "    }\n",
       "\n",
       "    .dataframe thead th {\n",
       "        text-align: right;\n",
       "    }\n",
       "</style>\n",
       "<table border=\"1\" class=\"dataframe\">\n",
       "  <thead>\n",
       "    <tr style=\"text-align: right;\">\n",
       "      <th></th>\n",
       "      <th>Temperature</th>\n",
       "    </tr>\n",
       "    <tr>\n",
       "      <th>key</th>\n",
       "      <th></th>\n",
       "    </tr>\n",
       "  </thead>\n",
       "  <tbody>\n",
       "    <tr>\n",
       "      <th>1</th>\n",
       "      <td>1571.0</td>\n",
       "    </tr>\n",
       "    <tr>\n",
       "      <th>2</th>\n",
       "      <td>1581.0</td>\n",
       "    </tr>\n",
       "    <tr>\n",
       "      <th>3</th>\n",
       "      <td>1596.0</td>\n",
       "    </tr>\n",
       "    <tr>\n",
       "      <th>4</th>\n",
       "      <td>1601.0</td>\n",
       "    </tr>\n",
       "    <tr>\n",
       "      <th>5</th>\n",
       "      <td>1576.0</td>\n",
       "    </tr>\n",
       "  </tbody>\n",
       "</table>\n",
       "</div>"
      ],
      "text/plain": [
       "     Temperature\n",
       "key             \n",
       "1         1571.0\n",
       "2         1581.0\n",
       "3         1596.0\n",
       "4         1601.0\n",
       "5         1576.0"
      ]
     },
     "execution_count": 92,
     "metadata": {},
     "output_type": "execute_result"
    }
   ],
   "source": [
    "first_temperature.drop('key', axis=1).head()"
   ]
  },
  {
   "cell_type": "code",
   "execution_count": 93,
   "id": "8f3653e3",
   "metadata": {},
   "outputs": [],
   "source": [
    "data = data.merge(first_temperature.drop('key', axis=1), on='key', how='inner')"
   ]
  },
  {
   "cell_type": "code",
   "execution_count": 94,
   "id": "8dd02253",
   "metadata": {},
   "outputs": [
    {
     "data": {
      "text/html": [
       "<div>\n",
       "<style scoped>\n",
       "    .dataframe tbody tr th:only-of-type {\n",
       "        vertical-align: middle;\n",
       "    }\n",
       "\n",
       "    .dataframe tbody tr th {\n",
       "        vertical-align: top;\n",
       "    }\n",
       "\n",
       "    .dataframe thead th {\n",
       "        text-align: right;\n",
       "    }\n",
       "</style>\n",
       "<table border=\"1\" class=\"dataframe\">\n",
       "  <thead>\n",
       "    <tr style=\"text-align: right;\">\n",
       "      <th></th>\n",
       "      <th>key</th>\n",
       "      <th>Wire 1</th>\n",
       "      <th>Wire 2</th>\n",
       "      <th>Wire 3</th>\n",
       "      <th>Wire 4</th>\n",
       "      <th>Wire 5</th>\n",
       "      <th>Wire 6</th>\n",
       "      <th>Wire 7</th>\n",
       "      <th>Wire 8</th>\n",
       "      <th>Wire 9</th>\n",
       "    </tr>\n",
       "  </thead>\n",
       "  <tbody>\n",
       "    <tr>\n",
       "      <th>0</th>\n",
       "      <td>1</td>\n",
       "      <td>60.059998</td>\n",
       "      <td>0.00000</td>\n",
       "      <td>0.0</td>\n",
       "      <td>0.0</td>\n",
       "      <td>0.0</td>\n",
       "      <td>0.0</td>\n",
       "      <td>0.0</td>\n",
       "      <td>0.0</td>\n",
       "      <td>0.0</td>\n",
       "    </tr>\n",
       "    <tr>\n",
       "      <th>1</th>\n",
       "      <td>2</td>\n",
       "      <td>96.052315</td>\n",
       "      <td>0.00000</td>\n",
       "      <td>0.0</td>\n",
       "      <td>0.0</td>\n",
       "      <td>0.0</td>\n",
       "      <td>0.0</td>\n",
       "      <td>0.0</td>\n",
       "      <td>0.0</td>\n",
       "      <td>0.0</td>\n",
       "    </tr>\n",
       "    <tr>\n",
       "      <th>2</th>\n",
       "      <td>3</td>\n",
       "      <td>91.160157</td>\n",
       "      <td>0.00000</td>\n",
       "      <td>0.0</td>\n",
       "      <td>0.0</td>\n",
       "      <td>0.0</td>\n",
       "      <td>0.0</td>\n",
       "      <td>0.0</td>\n",
       "      <td>0.0</td>\n",
       "      <td>0.0</td>\n",
       "    </tr>\n",
       "    <tr>\n",
       "      <th>3</th>\n",
       "      <td>4</td>\n",
       "      <td>89.063515</td>\n",
       "      <td>0.00000</td>\n",
       "      <td>0.0</td>\n",
       "      <td>0.0</td>\n",
       "      <td>0.0</td>\n",
       "      <td>0.0</td>\n",
       "      <td>0.0</td>\n",
       "      <td>0.0</td>\n",
       "      <td>0.0</td>\n",
       "    </tr>\n",
       "    <tr>\n",
       "      <th>4</th>\n",
       "      <td>5</td>\n",
       "      <td>89.238236</td>\n",
       "      <td>9.11456</td>\n",
       "      <td>0.0</td>\n",
       "      <td>0.0</td>\n",
       "      <td>0.0</td>\n",
       "      <td>0.0</td>\n",
       "      <td>0.0</td>\n",
       "      <td>0.0</td>\n",
       "      <td>0.0</td>\n",
       "    </tr>\n",
       "  </tbody>\n",
       "</table>\n",
       "</div>"
      ],
      "text/plain": [
       "   key     Wire 1   Wire 2  Wire 3  Wire 4  Wire 5  Wire 6  Wire 7  Wire 8  \\\n",
       "0    1  60.059998  0.00000     0.0     0.0     0.0     0.0     0.0     0.0   \n",
       "1    2  96.052315  0.00000     0.0     0.0     0.0     0.0     0.0     0.0   \n",
       "2    3  91.160157  0.00000     0.0     0.0     0.0     0.0     0.0     0.0   \n",
       "3    4  89.063515  0.00000     0.0     0.0     0.0     0.0     0.0     0.0   \n",
       "4    5  89.238236  9.11456     0.0     0.0     0.0     0.0     0.0     0.0   \n",
       "\n",
       "   Wire 9  \n",
       "0     0.0  \n",
       "1     0.0  \n",
       "2     0.0  \n",
       "3     0.0  \n",
       "4     0.0  "
      ]
     },
     "execution_count": 94,
     "metadata": {},
     "output_type": "execute_result"
    }
   ],
   "source": [
    "data_wire.head()"
   ]
  },
  {
   "cell_type": "code",
   "execution_count": 95,
   "id": "471a7fec",
   "metadata": {},
   "outputs": [
    {
     "data": {
      "text/plain": [
       "(3081, 10)"
      ]
     },
     "execution_count": 95,
     "metadata": {},
     "output_type": "execute_result"
    }
   ],
   "source": [
    "data_wire.shape"
   ]
  },
  {
   "cell_type": "markdown",
   "id": "15b663c4",
   "metadata": {},
   "source": [
    "Все признаки берём."
   ]
  },
  {
   "cell_type": "code",
   "execution_count": 96,
   "id": "bffcb431",
   "metadata": {},
   "outputs": [],
   "source": [
    "data = data.merge(data_wire, on='key', how='inner')"
   ]
  },
  {
   "cell_type": "markdown",
   "id": "37835aa4",
   "metadata": {},
   "source": [
    "И, наконец, добавляем целевой признак."
   ]
  },
  {
   "cell_type": "code",
   "execution_count": 97,
   "id": "19d35cf4",
   "metadata": {},
   "outputs": [],
   "source": [
    "data = data.merge(target.drop('key', axis=1), on='key', how='inner')"
   ]
  },
  {
   "cell_type": "code",
   "execution_count": 98,
   "id": "8676f423",
   "metadata": {},
   "outputs": [],
   "source": [
    "data = data.drop('key', axis=1)"
   ]
  },
  {
   "cell_type": "code",
   "execution_count": 99,
   "id": "93894ae1",
   "metadata": {},
   "outputs": [
    {
     "data": {
      "text/html": [
       "<div>\n",
       "<style scoped>\n",
       "    .dataframe tbody tr th:only-of-type {\n",
       "        vertical-align: middle;\n",
       "    }\n",
       "\n",
       "    .dataframe tbody tr th {\n",
       "        vertical-align: top;\n",
       "    }\n",
       "\n",
       "    .dataframe thead th {\n",
       "        text-align: right;\n",
       "    }\n",
       "</style>\n",
       "<table border=\"1\" class=\"dataframe\">\n",
       "  <thead>\n",
       "    <tr style=\"text-align: right;\">\n",
       "      <th></th>\n",
       "      <th>TotalHeatingDuration</th>\n",
       "      <th>AllPower</th>\n",
       "      <th>TotalActivePower</th>\n",
       "      <th>TotalReactivePower</th>\n",
       "      <th>TotalActiveReactiveRatio</th>\n",
       "      <th>IterationCnt</th>\n",
       "      <th>Bulk 1</th>\n",
       "      <th>Bulk 2</th>\n",
       "      <th>Bulk 3</th>\n",
       "      <th>Bulk 4</th>\n",
       "      <th>...</th>\n",
       "      <th>Wire 1</th>\n",
       "      <th>Wire 2</th>\n",
       "      <th>Wire 3</th>\n",
       "      <th>Wire 4</th>\n",
       "      <th>Wire 5</th>\n",
       "      <th>Wire 6</th>\n",
       "      <th>Wire 7</th>\n",
       "      <th>Wire 8</th>\n",
       "      <th>Wire 9</th>\n",
       "      <th>Temperature_y</th>\n",
       "    </tr>\n",
       "  </thead>\n",
       "  <tbody>\n",
       "    <tr>\n",
       "      <th>0</th>\n",
       "      <td>1098</td>\n",
       "      <td>8.061388</td>\n",
       "      <td>4.878147</td>\n",
       "      <td>3.183241</td>\n",
       "      <td>1.532447</td>\n",
       "      <td>5</td>\n",
       "      <td>0.0</td>\n",
       "      <td>0.0</td>\n",
       "      <td>0.0</td>\n",
       "      <td>43.0</td>\n",
       "      <td>...</td>\n",
       "      <td>60.059998</td>\n",
       "      <td>0.00000</td>\n",
       "      <td>0.0</td>\n",
       "      <td>0.0</td>\n",
       "      <td>0.0</td>\n",
       "      <td>0.0</td>\n",
       "      <td>0.0</td>\n",
       "      <td>0.0</td>\n",
       "      <td>0.0</td>\n",
       "      <td>1613.0</td>\n",
       "    </tr>\n",
       "    <tr>\n",
       "      <th>1</th>\n",
       "      <td>811</td>\n",
       "      <td>5.050710</td>\n",
       "      <td>3.052598</td>\n",
       "      <td>1.998112</td>\n",
       "      <td>1.527741</td>\n",
       "      <td>4</td>\n",
       "      <td>0.0</td>\n",
       "      <td>0.0</td>\n",
       "      <td>0.0</td>\n",
       "      <td>73.0</td>\n",
       "      <td>...</td>\n",
       "      <td>96.052315</td>\n",
       "      <td>0.00000</td>\n",
       "      <td>0.0</td>\n",
       "      <td>0.0</td>\n",
       "      <td>0.0</td>\n",
       "      <td>0.0</td>\n",
       "      <td>0.0</td>\n",
       "      <td>0.0</td>\n",
       "      <td>0.0</td>\n",
       "      <td>1602.0</td>\n",
       "    </tr>\n",
       "    <tr>\n",
       "      <th>2</th>\n",
       "      <td>655</td>\n",
       "      <td>4.124958</td>\n",
       "      <td>2.525882</td>\n",
       "      <td>1.599076</td>\n",
       "      <td>1.579589</td>\n",
       "      <td>5</td>\n",
       "      <td>0.0</td>\n",
       "      <td>0.0</td>\n",
       "      <td>0.0</td>\n",
       "      <td>34.0</td>\n",
       "      <td>...</td>\n",
       "      <td>91.160157</td>\n",
       "      <td>0.00000</td>\n",
       "      <td>0.0</td>\n",
       "      <td>0.0</td>\n",
       "      <td>0.0</td>\n",
       "      <td>0.0</td>\n",
       "      <td>0.0</td>\n",
       "      <td>0.0</td>\n",
       "      <td>0.0</td>\n",
       "      <td>1599.0</td>\n",
       "    </tr>\n",
       "    <tr>\n",
       "      <th>3</th>\n",
       "      <td>741</td>\n",
       "      <td>5.269548</td>\n",
       "      <td>3.209250</td>\n",
       "      <td>2.060298</td>\n",
       "      <td>1.557663</td>\n",
       "      <td>4</td>\n",
       "      <td>0.0</td>\n",
       "      <td>0.0</td>\n",
       "      <td>0.0</td>\n",
       "      <td>81.0</td>\n",
       "      <td>...</td>\n",
       "      <td>89.063515</td>\n",
       "      <td>0.00000</td>\n",
       "      <td>0.0</td>\n",
       "      <td>0.0</td>\n",
       "      <td>0.0</td>\n",
       "      <td>0.0</td>\n",
       "      <td>0.0</td>\n",
       "      <td>0.0</td>\n",
       "      <td>0.0</td>\n",
       "      <td>1625.0</td>\n",
       "    </tr>\n",
       "    <tr>\n",
       "      <th>4</th>\n",
       "      <td>869</td>\n",
       "      <td>5.599815</td>\n",
       "      <td>3.347173</td>\n",
       "      <td>2.252643</td>\n",
       "      <td>1.485887</td>\n",
       "      <td>4</td>\n",
       "      <td>0.0</td>\n",
       "      <td>0.0</td>\n",
       "      <td>0.0</td>\n",
       "      <td>78.0</td>\n",
       "      <td>...</td>\n",
       "      <td>89.238236</td>\n",
       "      <td>9.11456</td>\n",
       "      <td>0.0</td>\n",
       "      <td>0.0</td>\n",
       "      <td>0.0</td>\n",
       "      <td>0.0</td>\n",
       "      <td>0.0</td>\n",
       "      <td>0.0</td>\n",
       "      <td>0.0</td>\n",
       "      <td>1602.0</td>\n",
       "    </tr>\n",
       "  </tbody>\n",
       "</table>\n",
       "<p>5 rows × 33 columns</p>\n",
       "</div>"
      ],
      "text/plain": [
       "   TotalHeatingDuration  AllPower  TotalActivePower  TotalReactivePower  \\\n",
       "0                  1098  8.061388          4.878147            3.183241   \n",
       "1                   811  5.050710          3.052598            1.998112   \n",
       "2                   655  4.124958          2.525882            1.599076   \n",
       "3                   741  5.269548          3.209250            2.060298   \n",
       "4                   869  5.599815          3.347173            2.252643   \n",
       "\n",
       "   TotalActiveReactiveRatio  IterationCnt  Bulk 1  Bulk 2  Bulk 3  Bulk 4  \\\n",
       "0                  1.532447             5     0.0     0.0     0.0    43.0   \n",
       "1                  1.527741             4     0.0     0.0     0.0    73.0   \n",
       "2                  1.579589             5     0.0     0.0     0.0    34.0   \n",
       "3                  1.557663             4     0.0     0.0     0.0    81.0   \n",
       "4                  1.485887             4     0.0     0.0     0.0    78.0   \n",
       "\n",
       "   ...     Wire 1   Wire 2  Wire 3  Wire 4  Wire 5  Wire 6  Wire 7  Wire 8  \\\n",
       "0  ...  60.059998  0.00000     0.0     0.0     0.0     0.0     0.0     0.0   \n",
       "1  ...  96.052315  0.00000     0.0     0.0     0.0     0.0     0.0     0.0   \n",
       "2  ...  91.160157  0.00000     0.0     0.0     0.0     0.0     0.0     0.0   \n",
       "3  ...  89.063515  0.00000     0.0     0.0     0.0     0.0     0.0     0.0   \n",
       "4  ...  89.238236  9.11456     0.0     0.0     0.0     0.0     0.0     0.0   \n",
       "\n",
       "   Wire 9  Temperature_y  \n",
       "0     0.0         1613.0  \n",
       "1     0.0         1602.0  \n",
       "2     0.0         1599.0  \n",
       "3     0.0         1625.0  \n",
       "4     0.0         1602.0  \n",
       "\n",
       "[5 rows x 33 columns]"
      ]
     },
     "execution_count": 99,
     "metadata": {},
     "output_type": "execute_result"
    }
   ],
   "source": [
    "data.head()"
   ]
  },
  {
   "cell_type": "code",
   "execution_count": 100,
   "id": "999206b3",
   "metadata": {
    "scrolled": false
   },
   "outputs": [
    {
     "name": "stdout",
     "output_type": "stream",
     "text": [
      "<class 'pandas.core.frame.DataFrame'>\n",
      "Int64Index: 2329 entries, 0 to 2328\n",
      "Data columns (total 33 columns):\n",
      " #   Column                    Non-Null Count  Dtype  \n",
      "---  ------                    --------------  -----  \n",
      " 0   TotalHeatingDuration      2329 non-null   int64  \n",
      " 1   AllPower                  2329 non-null   float64\n",
      " 2   TotalActivePower          2329 non-null   float64\n",
      " 3   TotalReactivePower        2329 non-null   float64\n",
      " 4   TotalActiveReactiveRatio  2329 non-null   float64\n",
      " 5   IterationCnt              2329 non-null   int64  \n",
      " 6   Bulk 1                    2329 non-null   float64\n",
      " 7   Bulk 2                    2329 non-null   float64\n",
      " 8   Bulk 3                    2329 non-null   float64\n",
      " 9   Bulk 4                    2329 non-null   float64\n",
      " 10  Bulk 5                    2329 non-null   float64\n",
      " 11  Bulk 6                    2329 non-null   float64\n",
      " 12  Bulk 7                    2329 non-null   float64\n",
      " 13  Bulk 8                    2329 non-null   float64\n",
      " 14  Bulk 9                    2329 non-null   float64\n",
      " 15  Bulk 10                   2329 non-null   float64\n",
      " 16  Bulk 11                   2329 non-null   float64\n",
      " 17  Bulk 12                   2329 non-null   float64\n",
      " 18  Bulk 13                   2329 non-null   float64\n",
      " 19  Bulk 14                   2329 non-null   float64\n",
      " 20  Bulk 15                   2329 non-null   float64\n",
      " 21  gas                       2329 non-null   float64\n",
      " 22  Temperature_x             2329 non-null   float64\n",
      " 23  Wire 1                    2329 non-null   float64\n",
      " 24  Wire 2                    2329 non-null   float64\n",
      " 25  Wire 3                    2329 non-null   float64\n",
      " 26  Wire 4                    2329 non-null   float64\n",
      " 27  Wire 5                    2329 non-null   float64\n",
      " 28  Wire 6                    2329 non-null   float64\n",
      " 29  Wire 7                    2329 non-null   float64\n",
      " 30  Wire 8                    2329 non-null   float64\n",
      " 31  Wire 9                    2329 non-null   float64\n",
      " 32  Temperature_y             2329 non-null   float64\n",
      "dtypes: float64(31), int64(2)\n",
      "memory usage: 618.6 KB\n"
     ]
    }
   ],
   "source": [
    "data.info()"
   ]
  },
  {
   "cell_type": "code",
   "execution_count": 101,
   "id": "6084d753",
   "metadata": {},
   "outputs": [],
   "source": [
    "data = data.rename(columns={'Temperature_x': 'FirstTemperature',\n",
    "                                   'Temperature_y': 'Target'})"
   ]
  },
  {
   "cell_type": "markdown",
   "id": "68d039b2",
   "metadata": {},
   "source": [
    "Данных получилось не очень много, зато без пропусков. Можно попробовать обучить модель на этой выборке и вернуться к этому этапу, если не получится хорошего качества."
   ]
  },
  {
   "cell_type": "code",
   "execution_count": 102,
   "id": "009ce75b",
   "metadata": {},
   "outputs": [
    {
     "data": {
      "image/png": "[encoded data removed]",
      "text/plain": [
       "<Figure size 1080x2160 with 33 Axes>"
      ]
     },
     "metadata": {
      "needs_background": "light"
     },
     "output_type": "display_data"
    }
   ],
   "source": [
    "# визуализируем распределение всех признаков\n",
    "fig = plt.figure(figsize=(15,30))\n",
    "\n",
    "for i in range(data.shape[1]):\n",
    "    \n",
    "    fig.add_subplot(11, 3, i+1)\n",
    "    sns.histplot(data.loc[:,data.columns[i]], bins=50)\n",
    "\n",
    "plt.show()"
   ]
  },
  {
   "cell_type": "code",
   "execution_count": 103,
   "id": "cc4713f6",
   "metadata": {},
   "outputs": [
    {
     "data": {
      "image/png": "[encoded data removed]",
      "text/plain": [
       "<Figure size 720x720 with 2 Axes>"
      ]
     },
     "metadata": {
      "needs_background": "light"
     },
     "output_type": "display_data"
    }
   ],
   "source": [
    "# построим карту корреляции признаков\n",
    "fig = plt.figure(figsize=(10,10))\n",
    "sns.heatmap(data.corr())\n",
    "plt.show()"
   ]
  },
  {
   "cell_type": "markdown",
   "id": "4591a34d",
   "metadata": {},
   "source": [
    "## Обучение моделей"
   ]
  },
  {
   "cell_type": "code",
   "execution_count": 104,
   "id": "197cb81e",
   "metadata": {},
   "outputs": [],
   "source": [
    "target = data['Target']\n",
    "features = data.drop('Target', axis=1)"
   ]
  },
  {
   "cell_type": "code",
   "execution_count": 105,
   "id": "771863cc",
   "metadata": {},
   "outputs": [],
   "source": [
    "X_train, X_test, y_train, y_test = train_test_split(features, target, test_size=.25, random_state=RANDOM_STATE)"
   ]
  },
  {
   "cell_type": "code",
   "execution_count": 105,
   "id": "767fbd99",
   "metadata": {},
   "outputs": [
    {
     "data": {
      "text/plain": [
       "((1746, 32), (1746,), (583, 32), (583,))"
      ]
     },
     "execution_count": 105,
     "metadata": {},
     "output_type": "execute_result"
    }
   ],
   "source": [
    "X_train.shape, y_train.shape, X_test.shape, y_test.shape"
   ]
  },
  {
   "cell_type": "markdown",
   "id": "09e4723a",
   "metadata": {},
   "source": [
    "### Случайный лес"
   ]
  },
  {
   "cell_type": "code",
   "execution_count": 106,
   "id": "51ddb413",
   "metadata": {},
   "outputs": [],
   "source": [
    "# базовая модель случайного леса\n",
    "rf = RandomForestRegressor(random_state=RANDOM_STATE)"
   ]
  },
  {
   "cell_type": "code",
   "execution_count": 107,
   "id": "99967ee6",
   "metadata": {},
   "outputs": [
    {
     "name": "stdout",
     "output_type": "stream",
     "text": [
      "CPU times: total: 2min 58s\n",
      "Wall time: 2min 58s\n"
     ]
    },
    {
     "data": {
      "text/plain": [
       "-6.016773013094129"
      ]
     },
     "execution_count": 107,
     "metadata": {},
     "output_type": "execute_result"
    }
   ],
   "source": [
    "%%time\n",
    "# подбор гиперпараметров для случайного леса\n",
    "params_rf = {\n",
    "    'n_estimators': [47,48,49],\n",
    "    'max_depth': [19,20,21],\n",
    "    'min_samples_split': [4,5,6],\n",
    "    'min_samples_leaf': [1,2], \n",
    "}\n",
    "\n",
    "search_rf = GridSearchCV(rf, params_rf, cv=5, \n",
    "                          scoring='neg_mean_absolute_error').fit(X_train, y_train)\n",
    "\n",
    "search_rf.best_score_"
   ]
  },
  {
   "cell_type": "code",
   "execution_count": null,
   "id": "bea6ed01",
   "metadata": {},
   "outputs": [],
   "source": [
    "search_rf.best_params_ "
   ]
  },
  {
   "cell_type": "code",
   "execution_count": 109,
   "id": "79d2799e",
   "metadata": {},
   "outputs": [],
   "source": [
    "best_rf = search_rf.best_estimator_"
   ]
  },
  {
   "cell_type": "markdown",
   "id": "2e445a0c",
   "metadata": {},
   "source": [
    "### CatBoost"
   ]
  },
  {
   "cell_type": "code",
   "execution_count": 106,
   "id": "15a2584a",
   "metadata": {},
   "outputs": [],
   "source": [
    "# базовая модель catboost\n",
    "catb = CatBoostRegressor(random_state=RANDOM_STATE,\n",
    "                        iterations=200,\n",
    "                        learning_rate=0.1,\n",
    "                        early_stopping_rounds=5,\n",
    "                        task_type=TASK_TYPE\n",
    "                        )"
   ]
  },
  {
   "cell_type": "code",
   "execution_count": 107,
   "id": "8aa69a50",
   "metadata": {},
   "outputs": [
    {
     "name": "stdout",
     "output_type": "stream",
     "text": [
      "CPU times: user 2.56 s, sys: 127 ms, total: 2.69 s\n",
      "Wall time: 16 s\n"
     ]
    },
    {
     "data": {
      "text/plain": [
       "-5.885515119816623"
      ]
     },
     "execution_count": 107,
     "metadata": {},
     "output_type": "execute_result"
    }
   ],
   "source": [
    "%%time\n",
    "params_catb = {\n",
    "    'depth': [5],\n",
    "}\n",
    "\n",
    "search_catb = GridSearchCV(catb, params_catb, cv=5,\n",
    "                        scoring='neg_mean_absolute_error').fit(X_train, y_train, verbose=False) \n",
    "search_catb.best_score_"
   ]
  },
  {
   "cell_type": "code",
   "execution_count": 114,
   "id": "885bbd9e",
   "metadata": {},
   "outputs": [
    {
     "data": {
      "text/plain": [
       "{'depth': 5}"
      ]
     },
     "execution_count": 114,
     "metadata": {},
     "output_type": "execute_result"
    }
   ],
   "source": [
    "search_catb.best_params_"
   ]
  },
  {
   "cell_type": "code",
   "execution_count": 108,
   "id": "a1f925c2-22a8-4968-91df-b23f2f020283",
   "metadata": {},
   "outputs": [],
   "source": [
    "best_catb = search_catb.best_estimator_"
   ]
  },
  {
   "cell_type": "markdown",
   "id": "e1fbbe96",
   "metadata": {},
   "source": [
    "### Нейросеть"
   ]
  },
  {
   "cell_type": "code",
   "execution_count": 118,
   "id": "13580e20-1abb-4b71-8408-60ab7cc8e1a7",
   "metadata": {},
   "outputs": [],
   "source": [
    "features_train, features_valid, target_train, target_valid = train_test_split(X_train, y_train, test_size=.2, random_state=RANDOM_STATE)"
   ]
  },
  {
   "cell_type": "code",
   "execution_count": 119,
   "id": "cfdc4b03-ac88-4fc2-b655-6ff596b3963b",
   "metadata": {},
   "outputs": [
    {
     "data": {
      "text/plain": [
       "((1396, 32), (350, 32), (1396,), (350,))"
      ]
     },
     "execution_count": 119,
     "metadata": {},
     "output_type": "execute_result"
    }
   ],
   "source": [
    "features_train.shape, features_valid.shape, target_train.shape, target_valid.shape"
   ]
  },
  {
   "cell_type": "code",
   "execution_count": 120,
   "id": "d7475bb6-10f6-42b2-a148-63342cf36dec",
   "metadata": {},
   "outputs": [],
   "source": [
    "device = torch.device(DEVICE)"
   ]
  },
  {
   "cell_type": "code",
   "execution_count": 122,
   "id": "2bb7d56f",
   "metadata": {},
   "outputs": [],
   "source": [
    "# гиперпараметры нейросети\n",
    "num_epochs = 2000\n",
    "batch_size = 100\n",
    "loss = nn.L1Loss() \n",
    "learning_rate = 0.01"
   ]
  },
  {
   "cell_type": "code",
   "execution_count": 123,
   "id": "85adeaa4",
   "metadata": {},
   "outputs": [],
   "source": [
    "# создаём тензоры\n",
    "X_train_tensor = torch.from_numpy(np.array(features_train)).float().to(device)\n",
    "X_valid_tensor = torch.from_numpy(np.array(features_valid)).float().to(device)\n",
    "X_test_tensor = torch.from_numpy(np.array(X_test)).float().to(device)\n",
    "\n",
    "y_train_tensor = torch.from_numpy(np.array(target_train)).float().to(device)\n",
    "y_valid_tensor = torch.from_numpy(np.array(target_valid)).float().to(device) \n",
    "y_test_tensor = torch.from_numpy(np.array(y_test)).float().to(device) \n",
    "\n",
    "dataset_train = torch.utils.data.TensorDataset(X_train_tensor, y_train_tensor)\n",
    "dataset_valid = torch.utils.data.TensorDataset(X_valid_tensor, y_valid_tensor)\n",
    "dataset_test = torch.utils.data.TensorDataset(X_test_tensor, y_test_tensor)\n",
    "\n",
    "\n",
    "train_dataloader = DataLoader(dataset_train, batch_size=batch_size, shuffle=True,\n",
    "                              num_workers=0)\n",
    "valid_dataloader = DataLoader(dataset_valid, batch_size=batch_size, shuffle=True,\n",
    "                              num_workers=0)\n",
    "test_dataloader = DataLoader(dataset_test, batch_size=batch_size, num_workers=0)"
   ]
  },
  {
   "cell_type": "code",
   "execution_count": 124,
   "id": "42591bf7",
   "metadata": {},
   "outputs": [],
   "source": [
    "class BN_Net(nn.Module):\n",
    "    def __init__(self, n_in_neurons, n_hidden_neurons_1, n_hidden_neurons_2, n_out_neurons,\n",
    "                 act_1, act_2, act_3):\n",
    "        super(BN_Net, self).__init__()\n",
    "        self.layer1 = nn.Linear(n_in_neurons, n_hidden_neurons_1)\n",
    "        self.bn1 = nn.BatchNorm1d(n_hidden_neurons_1)\n",
    "        self.activation1 = act_1\n",
    "        self.layer2 = nn.Linear(n_hidden_neurons_1, n_hidden_neurons_2)\n",
    "        self.bn2 = nn.BatchNorm1d(n_hidden_neurons_2)\n",
    "        self.activation2 = act_2\n",
    "        self.layer3 = nn.Linear(n_hidden_neurons_2, n_out_neurons)\n",
    "        self.activation3 = act_3\n",
    "\n",
    "    def forward(self, x):\n",
    "        x = self.layer1(x)\n",
    "        x = self.bn1(x)\n",
    "        x = self.activation1(x)\n",
    "        x = self.layer2(x)\n",
    "        x = self.bn2(x)\n",
    "        x = self.activation2(x)\n",
    "        x = self.layer3(x)\n",
    "        x = self.activation3(x)\n",
    "\n",
    "        return x"
   ]
  },
  {
   "cell_type": "code",
   "execution_count": 125,
   "id": "66eef29c",
   "metadata": {},
   "outputs": [],
   "source": [
    "# инициализация весов\n",
    "def init_weights(layer):\n",
    "    if type(layer) == nn.Linear:\n",
    "        nn.init.xavier_uniform_(layer.weight)"
   ]
  },
  {
   "cell_type": "code",
   "execution_count": 126,
   "id": "a95696e0",
   "metadata": {},
   "outputs": [],
   "source": [
    "# задаём количество нейронов и функции активации\n",
    "n_in_neurons = X_train_tensor.size(dim=1)\n",
    "n_out_neurons = 1\n",
    "n_hidden_neurons_1 = round(X_train_tensor.shape[1]*0.5)\n",
    "n_hidden_neurons_2 = round(X_train_tensor.shape[1]*0.1)\n",
    "act_1 = act_2 = act_3 = nn.ReLU()\n",
    "num_batches = int(np.ceil(len(X_train_tensor)/batch_size))"
   ]
  },
  {
   "cell_type": "code",
   "execution_count": 127,
   "id": "5ba4bf46-e93f-4e05-8db8-ebee4e67e783",
   "metadata": {},
   "outputs": [],
   "source": [
    "best_mae = 1000000"
   ]
  },
  {
   "cell_type": "code",
   "execution_count": 128,
   "id": "40af4ec8",
   "metadata": {},
   "outputs": [],
   "source": [
    "bn_net = BN_Net(n_in_neurons, n_hidden_neurons_1, n_hidden_neurons_2, n_out_neurons,\n",
    "                      act_1, act_2, act_3)\n",
    "bn_net.apply(init_weights)\n",
    "optimizer = torch.optim.Adam(bn_net.parameters(), lr=learning_rate)\n",
    "bn_net = bn_net.to(device)"
   ]
  },
  {
   "cell_type": "code",
   "execution_count": 129,
   "id": "2ac088d7",
   "metadata": {},
   "outputs": [
    {
     "name": "stdout",
     "output_type": "stream",
     "text": [
      "epoch:0, MAE valid: 1593.2869873046875\n",
      "epoch:10, MAE valid: 1578.2750244140625\n",
      "epoch:20, MAE valid: 1498.278564453125\n",
      "epoch:30, MAE valid: 1429.2598876953125\n",
      "epoch:40, MAE valid: 1299.726318359375\n",
      "epoch:50, MAE valid: 1230.574462890625\n",
      "epoch:60, MAE valid: 1039.4949951171875\n",
      "epoch:70, MAE valid: 659.5948486328125\n",
      "epoch:80, MAE valid: 752.0733642578125\n",
      "epoch:90, MAE valid: 155.25650024414062\n",
      "epoch:100, MAE valid: 95.23931121826172\n",
      "epoch:110, MAE valid: 58.9046745300293\n",
      "epoch:120, MAE valid: 38.679080963134766\n",
      "epoch:130, MAE valid: 35.593929290771484\n",
      "epoch:140, MAE valid: 36.103572845458984\n",
      "epoch:150, MAE valid: 25.992366790771484\n",
      "epoch:160, MAE valid: 29.53424644470215\n",
      "epoch:170, MAE valid: 23.78290367126465\n",
      "epoch:180, MAE valid: 27.164859771728516\n",
      "epoch:190, MAE valid: 18.004070281982422\n",
      "epoch:200, MAE valid: 25.488353729248047\n",
      "epoch:210, MAE valid: 26.83106803894043\n",
      "epoch:220, MAE valid: 18.80370330810547\n",
      "epoch:230, MAE valid: 34.070858001708984\n",
      "epoch:240, MAE valid: 17.349529266357422\n",
      "epoch:250, MAE valid: 17.219924926757812\n",
      "epoch:260, MAE valid: 24.031557083129883\n",
      "epoch:270, MAE valid: 21.351102828979492\n",
      "epoch:280, MAE valid: 20.773473739624023\n",
      "epoch:290, MAE valid: 17.73237419128418\n",
      "epoch:300, MAE valid: 14.836780548095703\n",
      "epoch:310, MAE valid: 16.01665687561035\n",
      "epoch:320, MAE valid: 24.651735305786133\n",
      "epoch:330, MAE valid: 18.572717666625977\n",
      "epoch:340, MAE valid: 14.69595718383789\n",
      "epoch:350, MAE valid: 16.987751007080078\n",
      "epoch:360, MAE valid: 20.729562759399414\n",
      "epoch:370, MAE valid: 13.637372016906738\n",
      "epoch:380, MAE valid: 19.107709884643555\n",
      "epoch:390, MAE valid: 14.057963371276855\n",
      "epoch:400, MAE valid: 16.998477935791016\n",
      "epoch:410, MAE valid: 17.94894027709961\n",
      "epoch:420, MAE valid: 14.577035903930664\n",
      "epoch:430, MAE valid: 14.819474220275879\n",
      "epoch:440, MAE valid: 23.085084915161133\n",
      "epoch:450, MAE valid: 27.16401481628418\n",
      "epoch:460, MAE valid: 23.00513458251953\n",
      "epoch:470, MAE valid: 20.62066078186035\n",
      "epoch:480, MAE valid: 18.55502700805664\n",
      "epoch:490, MAE valid: 20.459274291992188\n",
      "epoch:500, MAE valid: 15.838762283325195\n",
      "epoch:510, MAE valid: 17.609331130981445\n",
      "epoch:520, MAE valid: 17.702056884765625\n",
      "epoch:530, MAE valid: 16.639461517333984\n",
      "epoch:540, MAE valid: 13.067981719970703\n",
      "epoch:550, MAE valid: 11.96599292755127\n",
      "epoch:560, MAE valid: 18.279678344726562\n",
      "epoch:570, MAE valid: 14.65907096862793\n",
      "epoch:580, MAE valid: 14.668878555297852\n",
      "epoch:590, MAE valid: 21.39383316040039\n",
      "epoch:600, MAE valid: 15.895597457885742\n",
      "epoch:610, MAE valid: 21.54216766357422\n",
      "epoch:620, MAE valid: 14.830096244812012\n",
      "epoch:630, MAE valid: 13.295998573303223\n",
      "epoch:640, MAE valid: 18.044700622558594\n",
      "epoch:650, MAE valid: 22.082983016967773\n",
      "epoch:660, MAE valid: 14.535027503967285\n",
      "epoch:670, MAE valid: 13.194690704345703\n",
      "epoch:680, MAE valid: 19.530912399291992\n",
      "epoch:690, MAE valid: 12.280683517456055\n",
      "epoch:700, MAE valid: 15.113334655761719\n",
      "epoch:710, MAE valid: 15.766580581665039\n",
      "epoch:720, MAE valid: 21.500444412231445\n",
      "epoch:730, MAE valid: 15.96834945678711\n",
      "epoch:740, MAE valid: 13.047266006469727\n",
      "epoch:750, MAE valid: 20.942821502685547\n",
      "epoch:760, MAE valid: 13.639678955078125\n",
      "epoch:770, MAE valid: 16.68889045715332\n",
      "epoch:780, MAE valid: 16.141895294189453\n",
      "epoch:790, MAE valid: 11.417752265930176\n",
      "epoch:800, MAE valid: 19.506412506103516\n",
      "epoch:810, MAE valid: 19.77350616455078\n",
      "epoch:820, MAE valid: 12.974818229675293\n",
      "epoch:830, MAE valid: 18.974071502685547\n",
      "epoch:840, MAE valid: 16.1400146484375\n",
      "epoch:850, MAE valid: 15.911476135253906\n",
      "epoch:860, MAE valid: 12.674317359924316\n",
      "epoch:870, MAE valid: 12.367720603942871\n",
      "epoch:880, MAE valid: 20.65923500061035\n",
      "epoch:890, MAE valid: 13.056044578552246\n",
      "epoch:900, MAE valid: 12.40820026397705\n",
      "epoch:910, MAE valid: 12.311548233032227\n",
      "epoch:920, MAE valid: 12.442346572875977\n",
      "epoch:930, MAE valid: 14.669333457946777\n",
      "epoch:940, MAE valid: 12.584380149841309\n",
      "epoch:950, MAE valid: 15.14273738861084\n",
      "epoch:960, MAE valid: 13.395633697509766\n",
      "epoch:970, MAE valid: 14.783425331115723\n",
      "epoch:980, MAE valid: 11.690893173217773\n",
      "epoch:990, MAE valid: 10.616042137145996\n",
      "epoch:1000, MAE valid: 11.191411018371582\n",
      "epoch:1010, MAE valid: 11.369648933410645\n",
      "epoch:1020, MAE valid: 13.64201545715332\n",
      "epoch:1030, MAE valid: 16.009737014770508\n",
      "epoch:1040, MAE valid: 14.143407821655273\n",
      "epoch:1050, MAE valid: 13.028127670288086\n",
      "epoch:1060, MAE valid: 16.540075302124023\n",
      "epoch:1070, MAE valid: 14.738429069519043\n",
      "epoch:1080, MAE valid: 13.391454696655273\n",
      "epoch:1090, MAE valid: 12.958409309387207\n",
      "epoch:1100, MAE valid: 12.587095260620117\n",
      "epoch:1110, MAE valid: 12.060365676879883\n",
      "epoch:1120, MAE valid: 12.045862197875977\n",
      "epoch:1130, MAE valid: 12.151464462280273\n",
      "epoch:1140, MAE valid: 11.18990421295166\n",
      "epoch:1150, MAE valid: 12.311572074890137\n",
      "epoch:1160, MAE valid: 10.963003158569336\n",
      "epoch:1170, MAE valid: 12.997791290283203\n",
      "epoch:1180, MAE valid: 10.572484970092773\n",
      "epoch:1190, MAE valid: 10.510525703430176\n",
      "epoch:1200, MAE valid: 11.19785213470459\n",
      "epoch:1210, MAE valid: 10.085349082946777\n",
      "epoch:1220, MAE valid: 11.461516380310059\n",
      "epoch:1230, MAE valid: 12.290380477905273\n",
      "epoch:1240, MAE valid: 13.038182258605957\n",
      "epoch:1250, MAE valid: 11.457621574401855\n",
      "epoch:1260, MAE valid: 12.43841552734375\n",
      "epoch:1270, MAE valid: 11.094510078430176\n",
      "epoch:1280, MAE valid: 11.991376876831055\n",
      "epoch:1290, MAE valid: 10.902419090270996\n",
      "epoch:1300, MAE valid: 13.444107055664062\n",
      "epoch:1310, MAE valid: 11.676300048828125\n",
      "epoch:1320, MAE valid: 13.444703102111816\n",
      "epoch:1330, MAE valid: 11.155089378356934\n",
      "epoch:1340, MAE valid: 10.815936088562012\n",
      "epoch:1350, MAE valid: 12.413517951965332\n",
      "epoch:1360, MAE valid: 10.323100090026855\n",
      "epoch:1370, MAE valid: 10.366071701049805\n",
      "epoch:1380, MAE valid: 11.089481353759766\n",
      "epoch:1390, MAE valid: 10.072831153869629\n",
      "epoch:1400, MAE valid: 11.06143569946289\n",
      "epoch:1410, MAE valid: 11.343966484069824\n",
      "epoch:1420, MAE valid: 13.856364250183105\n",
      "epoch:1430, MAE valid: 10.475635528564453\n",
      "epoch:1440, MAE valid: 13.064567565917969\n",
      "epoch:1450, MAE valid: 11.595934867858887\n",
      "epoch:1460, MAE valid: 10.964120864868164\n",
      "epoch:1470, MAE valid: 10.383132934570312\n",
      "epoch:1480, MAE valid: 10.955224990844727\n",
      "epoch:1490, MAE valid: 11.178871154785156\n",
      "epoch:1500, MAE valid: 11.299302101135254\n",
      "epoch:1510, MAE valid: 11.02155590057373\n",
      "epoch:1520, MAE valid: 13.273012161254883\n",
      "epoch:1530, MAE valid: 12.202346801757812\n",
      "epoch:1540, MAE valid: 11.33460521697998\n",
      "epoch:1550, MAE valid: 11.20023250579834\n",
      "epoch:1560, MAE valid: 11.453667640686035\n",
      "epoch:1570, MAE valid: 12.558537483215332\n",
      "epoch:1580, MAE valid: 11.87863826751709\n",
      "epoch:1590, MAE valid: 12.969470024108887\n",
      "epoch:1600, MAE valid: 10.531612396240234\n",
      "epoch:1610, MAE valid: 11.02297306060791\n",
      "epoch:1620, MAE valid: 11.132364273071289\n",
      "epoch:1630, MAE valid: 11.505287170410156\n",
      "epoch:1640, MAE valid: 10.073625564575195\n",
      "epoch:1650, MAE valid: 10.062363624572754\n",
      "epoch:1660, MAE valid: 12.396753311157227\n",
      "epoch:1670, MAE valid: 10.935754776000977\n",
      "epoch:1680, MAE valid: 10.489550590515137\n",
      "epoch:1690, MAE valid: 12.083109855651855\n",
      "epoch:1700, MAE valid: 11.105769157409668\n",
      "epoch:1710, MAE valid: 10.837401390075684\n",
      "epoch:1720, MAE valid: 12.191662788391113\n",
      "epoch:1730, MAE valid: 12.720223426818848\n",
      "epoch:1740, MAE valid: 10.689154624938965\n",
      "epoch:1750, MAE valid: 10.87219524383545\n",
      "epoch:1760, MAE valid: 11.328889846801758\n",
      "epoch:1770, MAE valid: 11.038116455078125\n",
      "epoch:1780, MAE valid: 11.323369979858398\n",
      "epoch:1790, MAE valid: 12.335954666137695\n",
      "epoch:1800, MAE valid: 11.922266960144043\n",
      "epoch:1810, MAE valid: 12.496684074401855\n",
      "epoch:1820, MAE valid: 16.212251663208008\n",
      "epoch:1830, MAE valid: 12.082978248596191\n",
      "epoch:1840, MAE valid: 11.551088333129883\n",
      "epoch:1850, MAE valid: 12.344816207885742\n",
      "epoch:1860, MAE valid: 11.212556838989258\n",
      "epoch:1870, MAE valid: 13.286286354064941\n",
      "epoch:1880, MAE valid: 13.07001781463623\n",
      "epoch:1890, MAE valid: 10.409415245056152\n",
      "epoch:1900, MAE valid: 12.447420120239258\n",
      "epoch:1910, MAE valid: 11.396326065063477\n",
      "epoch:1920, MAE valid: 11.02570915222168\n",
      "epoch:1930, MAE valid: 12.553211212158203\n",
      "epoch:1940, MAE valid: 11.550567626953125\n",
      "epoch:1950, MAE valid: 11.41639518737793\n",
      "epoch:1960, MAE valid: 11.439208030700684\n",
      "epoch:1970, MAE valid: 11.430566787719727\n",
      "epoch:1980, MAE valid: 10.785131454467773\n",
      "epoch:1990, MAE valid: 11.577001571655273\n",
      "epoch:2000, MAE valid: 13.139756202697754\n"
     ]
    }
   ],
   "source": [
    "for epoch in range(num_epochs+1):\n",
    "    bn_net.train()\n",
    "    for batch in train_dataloader:\n",
    "        data_train, target_train = batch   # просто выгружаем данные\n",
    "        optimizer.zero_grad()\n",
    "        preds = bn_net.forward(data_train).flatten()\n",
    "        loss_value = loss(preds, target_train)\n",
    "        loss_value.backward()\n",
    "        optimizer.step()\n",
    "\n",
    "    if epoch % 10 == 0:\n",
    "        predicted_temp = []\n",
    "        with torch.no_grad():\n",
    "            bn_net.eval()\n",
    "            for batch in valid_dataloader:\n",
    "                data_valid, target_valid = batch # просто выгружаем данные\n",
    "\n",
    "                valid_preds = bn_net.forward(data_valid).flatten()\n",
    "                predicted_temp.append(valid_preds)\n",
    "                L1_loss = loss(valid_preds, target_valid)\n",
    "\n",
    "        predicted_temp = torch.cat(predicted_temp).cpu().detach().numpy()\n",
    "        MAE = mean_absolute_error(y_valid_tensor.cpu().detach().numpy(), predicted_temp)\n",
    "\n",
    "        print(f\"epoch:{epoch}, MAE valid: {MAE}\")\n",
    "        \n",
    "        if MAE < best_mae:\n",
    "            best_mae = round(MAE,4)\n",
    "            best_epoch = epoch\n",
    "            best_model = bn_net "
   ]
  },
  {
   "cell_type": "code",
   "execution_count": 130,
   "id": "2312b300-99fe-469c-95d9-8752a1ba67c3",
   "metadata": {},
   "outputs": [
    {
     "data": {
      "text/plain": [
       "(10.0624, 1650)"
      ]
     },
     "execution_count": 130,
     "metadata": {},
     "output_type": "execute_result"
    }
   ],
   "source": [
    "best_mae, best_epoch"
   ]
  },
  {
   "cell_type": "markdown",
   "id": "80716ac0-60f9-4bd4-9b6c-414aa6bd73f4",
   "metadata": {},
   "source": [
    "## Тестирование модели"
   ]
  },
  {
   "cell_type": "markdown",
   "id": "37a917ea-07f7-4d58-ac87-218d0ea35cc2",
   "metadata": {},
   "source": [
    "### Качество на тесте"
   ]
  },
  {
   "cell_type": "code",
   "execution_count": 109,
   "id": "437e0f3e-2d51-4f1f-80fa-2fd7c9b3b51b",
   "metadata": {},
   "outputs": [],
   "source": [
    "catb_preds = best_catb.predict(X_test)"
   ]
  },
  {
   "cell_type": "code",
   "execution_count": 110,
   "id": "bc922352-5b6a-4eb3-835f-4263be331647",
   "metadata": {},
   "outputs": [
    {
     "data": {
      "text/plain": [
       "5.869649271739596"
      ]
     },
     "execution_count": 110,
     "metadata": {},
     "output_type": "execute_result"
    }
   ],
   "source": [
    "mean_absolute_error(y_test, catb_preds)"
   ]
  },
  {
   "cell_type": "markdown",
   "id": "8b12bfc6",
   "metadata": {},
   "source": [
    "Дополнительно ещё измерим коэффициент детерминации r2, чтобы оценить, насколько модель справляется лучше константной."
   ]
  },
  {
   "cell_type": "code",
   "execution_count": 111,
   "id": "f8a3afb3",
   "metadata": {},
   "outputs": [
    {
     "data": {
      "text/plain": [
       "0.40132719458465915"
      ]
     },
     "execution_count": 111,
     "metadata": {},
     "output_type": "execute_result"
    }
   ],
   "source": [
    "r2_score(y_test, catb_preds)"
   ]
  },
  {
   "cell_type": "markdown",
   "id": "332f1af3",
   "metadata": {},
   "source": [
    "Значение r2 = 0.4 говорит о том, что модель всё же способна лучше выявлять закономерности, чем просто предсказание константой. \n",
    "Однако, ещё есть, к чему стремиться. Не очень сильное значение метрики, скорей всего, связано с небольшим диапазоном предсказываемых температур, и потому все прогнозируемые значения, так или иначе, будут близки к среднему."
   ]
  },
  {
   "cell_type": "markdown",
   "id": "38c0ca4c-d63d-43e0-9221-5703f4306138",
   "metadata": {},
   "source": [
    "### Сравнение с константной моделью"
   ]
  },
  {
   "cell_type": "code",
   "execution_count": 145,
   "id": "7a76107d-2ce1-408d-80ac-8cd45ca1d85e",
   "metadata": {},
   "outputs": [],
   "source": [
    "preds = pd.Series([y_train.mean() for x in range(len(y_test))])"
   ]
  },
  {
   "cell_type": "code",
   "execution_count": 146,
   "id": "ff336932-5554-40d8-9930-84e19bd94e34",
   "metadata": {},
   "outputs": [
    {
     "data": {
      "text/plain": [
       "7.960433944580989"
      ]
     },
     "execution_count": 146,
     "metadata": {},
     "output_type": "execute_result"
    }
   ],
   "source": [
    "mean_absolute_error(y_test, preds)"
   ]
  },
  {
   "cell_type": "markdown",
   "id": "d6e19f4a-f21a-4f4e-a24b-ef884a02556b",
   "metadata": {},
   "source": [
    "Ещё одно подвтерждение тому, что наша модель работает получше константной."
   ]
  },
  {
   "cell_type": "markdown",
   "id": "ef9762c1-f55f-43fc-8df9-07e8b7524186",
   "metadata": {},
   "source": [
    "### Оценка важности признаков"
   ]
  },
  {
   "cell_type": "code",
   "execution_count": 133,
   "id": "00ccff38-364a-414d-9544-954edfd0485d",
   "metadata": {},
   "outputs": [],
   "source": [
    "def plot_feature_importance(importance,names,model_type):\n",
    "    \n",
    "    #Create arrays from feature importance and feature names\n",
    "    feature_importance = np.array(importance)\n",
    "    feature_names = np.array(names)\n",
    "    \n",
    "    #Create a DataFrame using a Dictionary\n",
    "    data={'feature_names':feature_names,'feature_importance':feature_importance}\n",
    "    fi_df = pd.DataFrame(data)\n",
    "    \n",
    "    #Sort the DataFrame in order decreasing feature importance\n",
    "    fi_df.sort_values(by=['feature_importance'], ascending=False,inplace=True)\n",
    "    \n",
    "    #Define size of bar plot\n",
    "    plt.figure(figsize=(10,8))\n",
    "    #Plot Searborn bar chart\n",
    "    sns.barplot(x=fi_df['feature_importance'], y=fi_df['feature_names'])\n",
    "    #Add chart labels\n",
    "    plt.title(model_type + 'FEATURE IMPORTANCE')\n",
    "    plt.xlabel('FEATURE IMPORTANCE')\n",
    "    plt.ylabel('FEATURE NAMES')"
   ]
  },
  {
   "cell_type": "code",
   "execution_count": 134,
   "id": "178184a2-4645-4d93-b475-03b27e548c42",
   "metadata": {},
   "outputs": [
    {
     "data": {
      "image/png": "[encoded data removed]",
      "text/plain": [
       "<Figure size 1000x800 with 1 Axes>"
      ]
     },
     "metadata": {},
     "output_type": "display_data"
    }
   ],
   "source": [
    "#plot the catboost result\n",
    "plot_feature_importance(best_catb.get_feature_importance(),X_train.columns,'CATBOOST')"
   ]
  },
  {
   "cell_type": "markdown",
   "id": "54694a8c",
   "metadata": {},
   "source": [
    "В топ-3 важности признаков вошли:\n",
    "1. Начальная температура нагрева электродами\n",
    "2. Общая активная мощность, используемая в партии\n",
    "3. Общая длительность нагрева\n",
    "\n",
    "Причём признак начальной температуры нагрева сильно вырывается вперёд. Это вполне логично: т.к. мы предсказываем температуру, то и значения температуры в обучающей выборке будет очень важным признаком. \n",
    "\n",
    "Помимо этого, мы видим, что активная мощность влияет больше, чем реактивная. И сможем это учитывать в дальнейшем при подготовке признаков.\n",
    "\n",
    "Важность общей длительности нагрева тоже вполне закономерна - этот признак напрямую связан с температурой. По логике, чем больше длительность нагрева, тем меньше значение температуры. Но необязательно."
   ]
  },
  {
   "cell_type": "markdown",
   "id": "72ec17f4-fa3d-41df-add8-979d317c2e9b",
   "metadata": {},
   "source": [
    "### Зависимость важного признака от целевой переменной"
   ]
  },
  {
   "cell_type": "markdown",
   "id": "dbce7606",
   "metadata": {},
   "source": [
    "Теперь интересно проверить гипотезу о том, что чем больше длительность нагрева, тем меньше значение температур."
   ]
  },
  {
   "cell_type": "code",
   "execution_count": 263,
   "id": "7c5c6028-274e-4d9b-ae13-5f35f42f5e08",
   "metadata": {},
   "outputs": [
    {
     "data": {
      "text/plain": [
       "<seaborn.axisgrid.FacetGrid at 0x19edf3b0d90>"
      ]
     },
     "execution_count": 263,
     "metadata": {},
     "output_type": "execute_result"
    },
    {
     "data": {
      "image/png": "[encoded data removed]",
      "text/plain": [
       "<Figure size 500x500 with 1 Axes>"
      ]
     },
     "metadata": {},
     "output_type": "display_data"
    }
   ],
   "source": [
    "sns.relplot(data=data, x=\"TotalHeatingDuration\", y=\"Target\")"
   ]
  },
  {
   "cell_type": "markdown",
   "id": "143b3503-2faa-42ba-9714-2f6b6bbc7e2a",
   "metadata": {},
   "source": [
    "Какую-то очевидную линейную зависимость здесь выделить сложно, но всё-таки отчасти гипотеза подтвержается."
   ]
  },
  {
   "cell_type": "markdown",
   "id": "1ae1efcf-5901-4daa-b10a-5fcca36ef690",
   "metadata": {},
   "source": [
    "## Общий вывод"
   ]
  },
  {
   "cell_type": "markdown",
   "id": "caf6abcf-9b68-45ca-a2ed-d27943af8330",
   "metadata": {},
   "source": [
    "Чтобы оптимизировать производственные расходы путём контроля температуры сплава можно использовать машинное обучение. \n",
    "\n",
    "Наилучший результат показала модель градиентного бустинга.\n",
    "Полученная метрика на тесте: МАЕ = 5.84. Пороговое условие выполнено, модель работает лучше константной.\n",
    "\n",
    "Для дальнейшего улучшения решения можно ещё попробовать добавить больше признаков для обучения и увеличить количество данных."
   ]
  }
 ],
 "metadata": {
  "ExecuteTimeLog": [
   {
    "duration": 27,
    "start_time": "2023-06-20T19:43:28.495Z"
   },
   {
    "duration": 2447,
    "start_time": "2023-06-21T07:22:36.085Z"
   },
   {
    "duration": 4264,
    "start_time": "2023-06-21T07:31:35.666Z"
   },
   {
    "duration": 156,
    "start_time": "2023-06-21T07:31:39.932Z"
   },
   {
    "duration": 36268,
    "start_time": "2023-06-21T07:31:40.089Z"
   },
   {
    "duration": 2,
    "start_time": "2023-06-21T07:32:16.359Z"
   },
   {
    "duration": 24,
    "start_time": "2023-06-21T07:32:16.362Z"
   },
   {
    "duration": 484,
    "start_time": "2023-06-21T07:32:16.388Z"
   },
   {
    "duration": 12,
    "start_time": "2023-06-21T07:32:16.874Z"
   },
   {
    "duration": 29,
    "start_time": "2023-06-21T07:32:16.887Z"
   },
   {
    "duration": 60,
    "start_time": "2023-06-21T07:32:16.918Z"
   },
   {
    "duration": 15,
    "start_time": "2023-06-21T07:32:16.980Z"
   },
   {
    "duration": 33,
    "start_time": "2023-06-21T07:32:16.997Z"
   },
   {
    "duration": 53,
    "start_time": "2023-06-21T07:32:17.032Z"
   },
   {
    "duration": 13,
    "start_time": "2023-06-21T07:32:17.086Z"
   },
   {
    "duration": 55,
    "start_time": "2023-06-21T07:32:17.101Z"
   },
   {
    "duration": 59,
    "start_time": "2023-06-21T07:32:17.158Z"
   },
   {
    "duration": 6,
    "start_time": "2023-06-21T07:32:17.219Z"
   },
   {
    "duration": 40,
    "start_time": "2023-06-21T07:32:17.227Z"
   },
   {
    "duration": 107,
    "start_time": "2023-06-21T07:32:17.268Z"
   },
   {
    "duration": 7,
    "start_time": "2023-06-21T07:32:17.377Z"
   },
   {
    "duration": 26,
    "start_time": "2023-06-21T07:32:17.386Z"
   },
   {
    "duration": 88,
    "start_time": "2023-06-21T07:32:17.413Z"
   },
   {
    "duration": 12,
    "start_time": "2023-06-21T07:32:17.502Z"
   },
   {
    "duration": 42,
    "start_time": "2023-06-21T07:32:17.515Z"
   },
   {
    "duration": 82,
    "start_time": "2023-06-21T07:32:17.559Z"
   },
   {
    "duration": 10,
    "start_time": "2023-06-21T07:32:17.643Z"
   },
   {
    "duration": 57,
    "start_time": "2023-06-21T07:32:17.655Z"
   },
   {
    "duration": 42,
    "start_time": "2023-06-21T07:32:17.713Z"
   },
   {
    "duration": 49,
    "start_time": "2023-06-21T07:32:17.761Z"
   },
   {
    "duration": 60,
    "start_time": "2023-06-21T07:32:17.812Z"
   },
   {
    "duration": 17,
    "start_time": "2023-06-21T07:32:17.874Z"
   },
   {
    "duration": 35,
    "start_time": "2023-06-21T07:32:17.893Z"
   },
   {
    "duration": 381,
    "start_time": "2023-06-21T07:32:17.929Z"
   },
   {
    "duration": 170,
    "start_time": "2023-06-21T07:32:18.311Z"
   },
   {
    "duration": 7,
    "start_time": "2023-06-21T07:32:18.483Z"
   },
   {
    "duration": 27,
    "start_time": "2023-06-21T07:32:18.492Z"
   },
   {
    "duration": 84,
    "start_time": "2023-06-21T07:32:18.521Z"
   },
   {
    "duration": 28,
    "start_time": "2023-06-21T07:32:18.607Z"
   },
   {
    "duration": 16,
    "start_time": "2023-06-21T07:32:18.637Z"
   },
   {
    "duration": 24,
    "start_time": "2023-06-21T07:32:18.655Z"
   },
   {
    "duration": 30,
    "start_time": "2023-06-21T07:32:18.681Z"
   },
   {
    "duration": 41,
    "start_time": "2023-06-21T07:32:18.713Z"
   },
   {
    "duration": 36,
    "start_time": "2023-06-21T07:32:18.756Z"
   },
   {
    "duration": 33,
    "start_time": "2023-06-21T07:32:18.793Z"
   },
   {
    "duration": 36,
    "start_time": "2023-06-21T07:32:18.828Z"
   },
   {
    "duration": 16,
    "start_time": "2023-06-21T07:32:18.866Z"
   },
   {
    "duration": 27,
    "start_time": "2023-06-21T07:32:18.884Z"
   },
   {
    "duration": 32,
    "start_time": "2023-06-21T07:32:18.912Z"
   },
   {
    "duration": 29,
    "start_time": "2023-06-21T07:32:18.946Z"
   },
   {
    "duration": 61,
    "start_time": "2023-06-21T07:32:18.976Z"
   },
   {
    "duration": 2975,
    "start_time": "2023-06-21T07:32:19.038Z"
   },
   {
    "duration": 1197,
    "start_time": "2023-06-21T07:32:22.014Z"
   },
   {
    "duration": 20,
    "start_time": "2023-06-21T07:32:23.213Z"
   },
   {
    "duration": 41,
    "start_time": "2023-06-21T07:32:23.235Z"
   },
   {
    "duration": 43,
    "start_time": "2023-06-21T07:32:23.277Z"
   },
   {
    "duration": 46,
    "start_time": "2023-06-21T07:32:23.322Z"
   },
   {
    "duration": 49,
    "start_time": "2023-06-21T07:32:23.370Z"
   },
   {
    "duration": 29,
    "start_time": "2023-06-21T07:32:23.420Z"
   },
   {
    "duration": 27,
    "start_time": "2023-06-21T07:32:23.451Z"
   },
   {
    "duration": 254,
    "start_time": "2023-06-21T07:32:23.480Z"
   },
   {
    "duration": 295,
    "start_time": "2023-06-21T07:32:23.736Z"
   },
   {
    "duration": 8,
    "start_time": "2023-06-21T07:32:24.033Z"
   },
   {
    "duration": 31,
    "start_time": "2023-06-21T07:32:24.042Z"
   },
   {
    "duration": 13,
    "start_time": "2023-06-21T07:32:24.074Z"
   },
   {
    "duration": 30,
    "start_time": "2023-06-21T07:32:24.088Z"
   },
   {
    "duration": 297,
    "start_time": "2023-06-21T07:32:24.120Z"
   },
   {
    "duration": 110,
    "start_time": "2023-06-21T07:32:24.419Z"
   },
   {
    "duration": 11,
    "start_time": "2023-06-21T07:32:24.532Z"
   },
   {
    "duration": 25,
    "start_time": "2023-06-21T07:32:24.544Z"
   },
   {
    "duration": 36,
    "start_time": "2023-06-21T07:32:24.571Z"
   },
   {
    "duration": 36,
    "start_time": "2023-06-21T07:32:24.608Z"
   },
   {
    "duration": 14,
    "start_time": "2023-06-21T07:32:24.646Z"
   },
   {
    "duration": 48,
    "start_time": "2023-06-21T07:32:24.662Z"
   },
   {
    "duration": 19,
    "start_time": "2023-06-21T07:32:24.713Z"
   },
   {
    "duration": 22,
    "start_time": "2023-06-21T07:32:24.734Z"
   },
   {
    "duration": 40,
    "start_time": "2023-06-21T07:32:24.758Z"
   },
   {
    "duration": 34,
    "start_time": "2023-06-21T07:32:24.800Z"
   },
   {
    "duration": 15,
    "start_time": "2023-06-21T07:32:24.836Z"
   },
   {
    "duration": 28,
    "start_time": "2023-06-21T07:32:24.853Z"
   },
   {
    "duration": 20,
    "start_time": "2023-06-21T07:32:24.882Z"
   },
   {
    "duration": 36,
    "start_time": "2023-06-21T07:32:24.904Z"
   },
   {
    "duration": 18,
    "start_time": "2023-06-21T07:32:24.941Z"
   },
   {
    "duration": 21,
    "start_time": "2023-06-21T07:32:24.964Z"
   },
   {
    "duration": 16,
    "start_time": "2023-06-21T07:32:24.986Z"
   },
   {
    "duration": 38,
    "start_time": "2023-06-21T07:32:25.003Z"
   },
   {
    "duration": 20,
    "start_time": "2023-06-21T07:32:25.043Z"
   },
   {
    "duration": 25,
    "start_time": "2023-06-21T07:32:25.064Z"
   },
   {
    "duration": 33,
    "start_time": "2023-06-21T07:32:25.091Z"
   },
   {
    "duration": 45,
    "start_time": "2023-06-21T07:32:25.125Z"
   },
   {
    "duration": 46,
    "start_time": "2023-06-21T07:32:25.172Z"
   },
   {
    "duration": 64,
    "start_time": "2023-06-21T07:32:25.220Z"
   },
   {
    "duration": 54,
    "start_time": "2023-06-21T07:32:25.286Z"
   },
   {
    "duration": 21,
    "start_time": "2023-06-21T07:32:25.341Z"
   },
   {
    "duration": 29,
    "start_time": "2023-06-21T07:32:25.364Z"
   },
   {
    "duration": 23,
    "start_time": "2023-06-21T07:32:25.394Z"
   },
   {
    "duration": 34,
    "start_time": "2023-06-21T07:32:25.418Z"
   },
   {
    "duration": 16,
    "start_time": "2023-06-21T07:32:25.454Z"
   },
   {
    "duration": 18,
    "start_time": "2023-06-21T07:32:25.471Z"
   },
   {
    "duration": 40,
    "start_time": "2023-06-21T07:32:25.490Z"
   },
   {
    "duration": 16,
    "start_time": "2023-06-21T07:32:25.531Z"
   },
   {
    "duration": 24,
    "start_time": "2023-06-21T07:32:25.548Z"
   },
   {
    "duration": 5577,
    "start_time": "2023-06-21T07:32:25.574Z"
   },
   {
    "duration": 977,
    "start_time": "2023-06-21T07:32:31.153Z"
   },
   {
    "duration": 3,
    "start_time": "2023-06-21T07:32:32.132Z"
   },
   {
    "duration": 40,
    "start_time": "2023-06-21T07:32:32.137Z"
   },
   {
    "duration": 3,
    "start_time": "2023-06-21T07:32:57.133Z"
   },
   {
    "duration": 15995,
    "start_time": "2023-06-21T07:32:58.323Z"
   },
   {
    "duration": 3,
    "start_time": "2023-06-21T07:33:26.203Z"
   },
   {
    "duration": 5,
    "start_time": "2023-06-21T07:33:39.584Z"
   },
   {
    "duration": 6,
    "start_time": "2023-06-21T07:33:44.631Z"
   },
   {
    "duration": 6,
    "start_time": "2023-06-21T07:34:00.101Z"
   }
  ],
  "kernelspec": {
   "display_name": "Python 3 (ipykernel)",
   "language": "python",
   "name": "python3"
  },
  "language_info": {
   "codemirror_mode": {
    "name": "ipython",
    "version": 3
   },
   "file_extension": ".py",
   "mimetype": "text/x-python",
   "name": "python",
   "nbconvert_exporter": "python",
   "pygments_lexer": "ipython3",
   "version": "3.9.12"
  },
  "toc": {
   "base_numbering": 1,
   "nav_menu": {},
   "number_sections": true,
   "sideBar": true,
   "skip_h1_title": false,
   "title_cell": "Table of Contents",
   "title_sidebar": "Contents",
   "toc_cell": false,
   "toc_position": {
    "height": "calc(100% - 180px)",
    "left": "10px",
    "top": "150px",
    "width": "179.188px"
   },
   "toc_section_display": true,
   "toc_window_display": true
  }
 },
 "nbformat": 4,
 "nbformat_minor": 5
}
